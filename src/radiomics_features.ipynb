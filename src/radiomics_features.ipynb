{
 "cells": [
  {
   "cell_type": "markdown",
   "metadata": {},
   "source": [
    "# This is a test for extraction of radiomics features from the patients"
   ]
  },
  {
   "cell_type": "code",
   "execution_count": 32,
   "metadata": {},
   "outputs": [],
   "source": [
    "import radiomics\n",
    "import numpy as np\n",
    "import nibabel as nib\n",
    "import matplotlib.pyplot as plt\n",
    "import ipywidgets\n",
    "import SimpleITK as sitk\n",
    "import logging\n",
    "import pandas as pd\n",
    "import json\n",
    "\n",
    "from scipy import stats\n",
    "from statsmodels.stats.weightstats import DescrStatsW\n",
    "from radiomics import firstorder, glcm, imageoperations, shape, glrlm, glszm, featureextractor, getFeatureClasses"
   ]
  },
  {
   "cell_type": "code",
   "execution_count": 33,
   "metadata": {},
   "outputs": [],
   "source": [
    "# Get the PyRadiomics logger (default log-level = INFO)\n",
    "logger = radiomics.logger\n",
    "logger.setLevel(logging.DEBUG)  # set level to DEBUG to include debug log messages in log file\n",
    "\n",
    "# Write out all log entries to a file\n",
    "handler = logging.FileHandler(filename='../testLog.txt', mode='w')\n",
    "formatter = logging.Formatter('%(levelname)s:%(name)s: %(message)s')\n",
    "handler.setFormatter(formatter)\n",
    "logger.addHandler(handler)"
   ]
  },
  {
   "cell_type": "code",
   "execution_count": 49,
   "metadata": {},
   "outputs": [],
   "source": [
    "folder_path = \"../study\""
   ]
  },
  {
   "cell_type": "markdown",
   "metadata": {},
   "source": [
    "Parameters for radiomcis feature extracion"
   ]
  },
  {
   "cell_type": "code",
   "execution_count": 50,
   "metadata": {},
   "outputs": [],
   "source": [
    "params = folder_path + \"/static_files/radiomics_params.yaml\""
   ]
  },
  {
   "cell_type": "markdown",
   "metadata": {},
   "source": [
    "## Print some slices of patient 2"
   ]
  },
  {
   "cell_type": "code",
   "execution_count": 51,
   "metadata": {},
   "outputs": [],
   "source": [
    "subj = \"VNSLC_04\"\n",
    "subj_path = \"%s/subjects/%s\" % (folder_path, subj)\n",
    "subj_path_freesurf = \"%s/freesurfer/%s\" % (folder_path, subj)\n",
    "\n",
    "# image_path = \"%s/registration/%s_T1_brain_reg.nii.gz\" % (subj_path, subj)\n",
    "# mask_path = \"%s/registration/aparc+aseg_reg.mgz\" % (subj_path)\n",
    "\n",
    "image_path = \"%s/dMRI/microstructure/dti/%s_FA.nii.gz\" % (subj_path, subj)\n",
    "mask_path = \"%s/dlabel/diff/aparc+aseg+thalnuc.bbr.nii.gz\" % (subj_path_freesurf)\n",
    "\n",
    "image = sitk.ReadImage(image_path)\n",
    "mask = sitk.ReadImage(mask_path)\n",
    "\n",
    "# I didnt get this passage but it works\n",
    "image = sitk.GetImageFromArray(sitk.GetArrayFromImage(image))\n",
    "mask = sitk.GetImageFromArray(sitk.GetArrayFromImage(mask))"
   ]
  },
  {
   "cell_type": "code",
   "execution_count": 74,
   "metadata": {},
   "outputs": [],
   "source": [
    "# bb, correctedMask = imageoperations.checkMask(image, mask, label=10)\n",
    "# if correctedMask is not None:\n",
    "#     mask = correctedMask\n",
    "# croppedImage, croppedMask = imageoperations.cropToTumorMask(image, mask, bb)\n",
    "# \n",
    "# plt.imshow(sitk.GetArrayFromImage(croppedImage)[10, :, :], cmap=\"gray\")\n",
    "# plt.imshow(np.where(sitk.GetArrayFromImage(croppedMask)[10, :, :] == 10, 1, 0), alpha=0.5)\n",
    "# plt.show()"
   ]
  },
  {
   "cell_type": "code",
   "execution_count": 75,
   "metadata": {},
   "outputs": [
    {
     "name": "stdout",
     "output_type": "stream",
     "text": [
      "0.8405095338821411\n"
     ]
    }
   ],
   "source": [
    "print(image[60, 60, 30])"
   ]
  },
  {
   "cell_type": "markdown",
   "metadata": {},
   "source": [
    "## Load on pyRadiomics\n"
   ]
  },
  {
   "cell_type": "code",
   "execution_count": 52,
   "metadata": {},
   "outputs": [
    {
     "name": "stderr",
     "output_type": "stream",
     "text": [
      "INFO:radiomics.featureextractor:Loading parameter file ../study/static_files/radiomics_params.yaml\n",
      "DEBUG:radiomics.featureextractor:Parameters parsed, input is valid.\n",
      "DEBUG:radiomics.featureextractor:Applying settings\n",
      "DEBUG:radiomics.featureextractor:Enabled image types: {'Original': {}}\n",
      "DEBUG:radiomics.featureextractor:Enabled features: {'firstorder': [], 'glcm': [], 'gldm': [], 'glrlm': [], 'glszm': [], 'ngtdm': [], 'shape': [], 'shape2D': []}\n",
      "DEBUG:radiomics.featureextractor:Settings: {'interpolator': 'sitkNearestNeighbor', 'minimumROIDimensions': 3, 'weightingNorm': 'euclidean'}\n",
      "DEBUG:radiomics.featureextractor:Disabling all feature classes\n",
      "DEBUG:radiomics.featureextractor:Updating enabled features with {'firstorder': ['Mean', 'StandardDeviation', 'Skewness', 'Kurtosis']}\n",
      "DEBUG:radiomics.featureextractor:Enabled features: {'firstorder': ['Mean', 'StandardDeviation', 'Skewness', 'Kurtosis']}\n"
     ]
    },
    {
     "name": "stdout",
     "output_type": "stream",
     "text": [
      "Extraction parameters:\n",
      "\t {'minimumROIDimensions': 3, 'minimumROISize': None, 'normalize': False, 'normalizeScale': 1, 'removeOutliers': None, 'resampledPixelSpacing': None, 'interpolator': 'sitkNearestNeighbor', 'preCrop': False, 'padDistance': 5, 'distances': [1], 'force2D': False, 'force2Ddimension': 0, 'resegmentRange': None, 'label': 1, 'additionalInfo': True, 'weightingNorm': 'euclidean'}\n",
      "Enabled filters:\n",
      "\t {'Original': {}}\n",
      "Enabled features:\n",
      "\t {'firstorder': ['Mean', 'StandardDeviation', 'Skewness', 'Kurtosis']}\n"
     ]
    }
   ],
   "source": [
    "extractor = featureextractor.RadiomicsFeatureExtractor(params)\n",
    "\n",
    "# extractor.enableAllImageTypes()\n",
    "# extractor.enableAllFeatures()\n",
    "\n",
    "# ----- Test the mean, standard deviaton, skewness and kurtosis\n",
    "extractor.disableAllFeatures()\n",
    "extractor.enableFeaturesByName(firstorder=['Mean', 'StandardDeviation', 'Skewness', 'Kurtosis'])\n",
    "\n",
    "print('Extraction parameters:\\n\\t', extractor.settings)\n",
    "print('Enabled filters:\\n\\t', extractor.enabledImagetypes)\n",
    "print('Enabled features:\\n\\t', extractor.enabledFeatures)"
   ]
  },
  {
   "cell_type": "code",
   "execution_count": 77,
   "metadata": {},
   "outputs": [
    {
     "name": "stdout",
     "output_type": "stream",
     "text": [
      "Active features:\n",
      "Mean\n",
      "\n",
      "    **8. Mean**\n",
      "\n",
      "    .. math::\n",
      "      \\textit{mean} = \\frac{1}{N_p}\\displaystyle\\sum^{N_p}_{i=1}{\\textbf{X}(i)}\n",
      "\n",
      "    The average gray level intensity within the ROI.\n",
      "    \n",
      "StandardDeviation\n",
      "\n",
      "    **15. Standard Deviation**\n",
      "\n",
      "    .. math::\n",
      "      \\textit{standard deviation} = \\sqrt{\\frac{1}{N_p}\\sum^{N_p}_{i=1}{(\\textbf{X}(i)-\\bar{X})^2}}\n",
      "\n",
      "    Standard Deviation measures the amount of variation or dispersion from the Mean Value. By definition,\n",
      "    :math:`\\textit{standard deviation} = \\sqrt{\\textit{variance}}`\n",
      "\n",
      "    .. note::\n",
      "      As this feature is correlated with variance, it is marked so it is not enabled by default.\n",
      "      To include this feature in the extraction, specify it by name in the enabled features\n",
      "      (i.e. this feature will not be enabled if no individual features are specified (enabling 'all' features),\n",
      "      but will be enabled when individual features are specified, including this feature).\n",
      "      Not present in IBSI feature definitions (correlated with variance)\n",
      "    \n",
      "Skewness\n",
      "\n",
      "    **16. Skewness**\n",
      "\n",
      "    .. math::\n",
      "      \\textit{skewness} = \\displaystyle\\frac{\\mu_3}{\\sigma^3} =\n",
      "      \\frac{\\frac{1}{N_p}\\sum^{N_p}_{i=1}{(\\textbf{X}(i)-\\bar{X})^3}}\n",
      "      {\\left(\\sqrt{\\frac{1}{N_p}\\sum^{N_p}_{i=1}{(\\textbf{X}(i)-\\bar{X})^2}}\\right)^3}\n",
      "\n",
      "    Where :math:`\\mu_3` is the 3\\ :sup:`rd` central moment.\n",
      "\n",
      "    Skewness measures the asymmetry of the distribution of values about the Mean value. Depending on where the tail is\n",
      "    elongated and the mass of the distribution is concentrated, this value can be positive or negative.\n",
      "\n",
      "    Related links:\n",
      "\n",
      "    https://en.wikipedia.org/wiki/Skewness\n",
      "\n",
      "    .. note::\n",
      "      In case of a flat region, the standard deviation and 4\\ :sup:`rd` central moment will be both 0. In this case, a\n",
      "      value of 0 is returned.\n",
      "    \n",
      "Kurtosis\n",
      "\n",
      "    **17. Kurtosis**\n",
      "\n",
      "    .. math::\n",
      "      \\textit{kurtosis} = \\displaystyle\\frac{\\mu_4}{\\sigma^4} =\n",
      "      \\frac{\\frac{1}{N_p}\\sum^{N_p}_{i=1}{(\\textbf{X}(i)-\\bar{X})^4}}\n",
      "      {\\left(\\frac{1}{N_p}\\sum^{N_p}_{i=1}{(\\textbf{X}(i)-\\bar{X}})^2\\right)^2}\n",
      "\n",
      "    Where :math:`\\mu_4` is the 4\\ :sup:`th` central moment.\n",
      "\n",
      "    Kurtosis is a measure of the 'peakedness' of the distribution of values in the image ROI. A higher kurtosis implies\n",
      "    that the mass of the distribution is concentrated towards the tail(s) rather than towards the mean. A lower kurtosis\n",
      "    implies the reverse: that the mass of the distribution is concentrated towards a spike near the Mean value.\n",
      "\n",
      "    Related links:\n",
      "\n",
      "    https://en.wikipedia.org/wiki/Kurtosis\n",
      "\n",
      "    .. note::\n",
      "      In case of a flat region, the standard deviation and 4\\ :sup:`rd` central moment will be both 0. In this case, a\n",
      "      value of 0 is returned.\n",
      "\n",
      "    .. note::\n",
      "      The IBSI feature definition implements excess kurtosis, where kurtosis is corrected by -3, yielding 0 for normal\n",
      "      distributions. The PyRadiomics kurtosis is not corrected, yielding a value 3 higher than the IBSI kurtosis.\n",
      "    \n"
     ]
    }
   ],
   "source": [
    "featureClasses = getFeatureClasses()\n",
    "print('Active features:')\n",
    "for cls, features in extractor.enabledFeatures.items():\n",
    "    if len(features) == 0:\n",
    "        features = [f for f, deprecated in featureClasses[cls].getFeatureNames().items() if not deprecated]\n",
    "    for f in features:\n",
    "        print(f)\n",
    "        print(getattr(featureClasses[cls], 'get%sFeatureValue' % f).__doc__)"
   ]
  },
  {
   "cell_type": "code",
   "execution_count": 53,
   "metadata": {},
   "outputs": [
    {
     "name": "stderr",
     "output_type": "stream",
     "text": [
      "INFO:radiomics.featureextractor:Starting voxel based extraction\n",
      "INFO:radiomics.featureextractor:Calculating features with label: 13\n",
      "DEBUG:radiomics.featureextractor:Enabled images types: {'Original': {}}\n",
      "DEBUG:radiomics.featureextractor:Enabled features: {'firstorder': ['Mean', 'StandardDeviation', 'Skewness', 'Kurtosis']}\n",
      "DEBUG:radiomics.featureextractor:Current settings: {'minimumROIDimensions': 3, 'minimumROISize': None, 'normalize': False, 'normalizeScale': 1, 'removeOutliers': None, 'resampledPixelSpacing': None, 'interpolator': 'sitkNearestNeighbor', 'preCrop': False, 'padDistance': 5, 'distances': [1], 'force2D': False, 'force2Ddimension': 0, 'resegmentRange': None, 'label': 13, 'additionalInfo': True, 'weightingNorm': 'euclidean', 'voxelBased': True}\n",
      "INFO:radiomics.featureextractor:Loading image and mask\n",
      "DEBUG:radiomics.imageoperations:Force casting mask to UInt32 to ensure correct datatype.\n",
      "DEBUG:radiomics.imageoperations:Checking mask with label 13\n",
      "DEBUG:radiomics.imageoperations:Calculating bounding box\n",
      "DEBUG:radiomics.imageoperations:Checking minimum number of dimensions requirements (3)\n",
      "DEBUG:radiomics.featureextractor:Image and Mask loaded and valid, starting extraction\n",
      "DEBUG:radiomics.featureextractor:Creating image type iterator\n",
      "INFO:radiomics.featureextractor:Adding image type \"Original\" with custom settings: {}\n",
      "DEBUG:radiomics.featureextractor:Extracting features\n",
      "DEBUG:radiomics.imageoperations:Yielding original image\n",
      "INFO:radiomics.featureextractor:Calculating features for original image\n",
      "DEBUG:radiomics.imageoperations:Cropping to size [ 8 14  8]\n",
      "INFO:radiomics.featureextractor:Computing firstorder\n",
      "DEBUG:radiomics.firstorder:Initializing feature class\n",
      "DEBUG:radiomics.imageoperations:Discretizing gray levels inside ROI\n",
      "DEBUG:radiomics.imageoperations:Calculated 2 bins for bin width 25 with edges: [ 0. 25. 50.])\n",
      "Feature StandardDeviation is deprecated, use with caution!\n",
      "WARNING:radiomics.firstorder:Feature StandardDeviation is deprecated, use with caution!\n",
      "DEBUG:radiomics.firstorder:Calculating voxel batch no. 1/1\n",
      "DEBUG:radiomics.firstorder:First order feature class initialized\n",
      "DEBUG:radiomics.firstorder:Calculating features\n",
      "DEBUG:radiomics.featureextractor:Features extracted\n"
     ]
    }
   ],
   "source": [
    "result = extractor.execute(image, mask, label=13)"
   ]
  },
  {
   "cell_type": "code",
   "execution_count": 70,
   "metadata": {},
   "outputs": [
    {
     "data": {
      "text/plain": [
       "<matplotlib.image.AxesImage at 0x7f6d725a57f0>"
      ]
     },
     "execution_count": 70,
     "metadata": {},
     "output_type": "execute_result"
    },
    {
     "data": {
      "image/png": "[encoded data removed]",
      "text/plain": [
       "<Figure size 640x480 with 1 Axes>"
      ]
     },
     "metadata": {},
     "output_type": "display_data"
    }
   ],
   "source": [
    "a = sitk.GetArrayFromImage(result[\"original_firstorder_Mean\"])\n",
    "\n",
    "plt.imshow(a[5, :, :])\n"
   ]
  },
  {
   "cell_type": "markdown",
   "metadata": {},
   "source": [
    "## Comparison with the metrics compute with nibabel, numpy and scipy"
   ]
  },
  {
   "cell_type": "code",
   "execution_count": 45,
   "metadata": {},
   "outputs": [],
   "source": [
    "image = nib.load(image_path).get_fdata()\n",
    "mask = nib.load(mask_path).get_fdata()\n",
    "\n",
    "mask = np.where(mask == 13, 1, 0) # Take only the thalamus"
   ]
  },
  {
   "cell_type": "code",
   "execution_count": 46,
   "metadata": {},
   "outputs": [
    {
     "name": "stdout",
     "output_type": "stream",
     "text": [
      "Mean 0.5063262347925882\n",
      "Std 0.2388446199979036\n",
      "Skewness 0.09805681068698882\n",
      "Kurtosis 1.6332679206647815\n"
     ]
    }
   ],
   "source": [
    "assert image.shape == mask.shape\n",
    "\n",
    "v = image.ravel()\n",
    "w = mask.ravel()\n",
    "\n",
    "assert v.size == w.size\n",
    "\n",
    "# Mean\n",
    "print(\"Mean\", np.average(v, weights=w))\n",
    "# Standard Deviation\n",
    "dstat = DescrStatsW(v, w)\n",
    "print(\"Std\", dstat.std)\n",
    "# Skewness\n",
    "w_discrete = np.round(w).astype(int)\n",
    "repeat = np.repeat(v, w_discrete)\n",
    "print(\"Skewness\", stats.skew(repeat, bias=True))\n",
    "# Kurtosis\n",
    "print(\"Kurtosis\", stats.kurtosis(repeat, fisher=False, bias=True))\n"
   ]
  },
  {
   "cell_type": "markdown",
   "metadata": {},
   "source": [
    "# Managing the ROI from tracts"
   ]
  },
  {
   "cell_type": "code",
   "execution_count": 7,
   "metadata": {},
   "outputs": [
    {
     "name": "stderr",
     "output_type": "stream",
     "text": [
      "WARNING:StatefulTractogram:Using a StatefulTractogram as reference, this will copy only the space_attributes, not the state. The variables space and origin must be specified separately.\n",
      "WARNING:StatefulTractogram:To copy the state from another StatefulTractogram you may want to use the function from_sft (static function of the StatefulTractogram).\n",
      "WARNING:StatefulTractogram:Using a StatefulTractogram as reference, this will copy only the space_attributes, not the state. The variables space and origin must be specified separately.\n",
      "WARNING:StatefulTractogram:To copy the state from another StatefulTractogram you may want to use the function from_sft (static function of the StatefulTractogram).\n"
     ]
    }
   ],
   "source": [
    "from dipy.io.streamline import load_tractogram, save_trk\n",
    "\n",
    "trk_path = \"%s/dpath/acomm_avg16_syn_bbr/path.pd.trk\" % subj_path_freesurf\n",
    "#trk_path = \"%s/dMRI/tractography/left-antThalRadiation.trk\" % subj_path\n",
    "\n",
    "trk = load_tractogram(trk_path, \"same\")\n",
    "trk.to_vox()\n",
    "trk.to_corner()\n",
    "\n",
    "out_path = \"../prova.trk\"\n",
    "save_trk(trk, out_path)\n",
    "\n",
    "from unravel.stream import smooth_streamlines\n",
    "# if the tract comes from MRtrix3 the smoothing is useless ... (only loose time)\n",
    "for _ in range(2):\n",
    "    smooth_streamlines(out_path, out_path)\n"
   ]
  },
  {
   "cell_type": "code",
   "execution_count": 42,
   "metadata": {},
   "outputs": [],
   "source": [
    "from dipy.io.streamline import load_tractogram, save_trk, save_tractogram\n",
    "from unravel.core import tract_to_streamlines, compute_subsegments\n",
    "from unravel.utils import get_streamline_density, get_streamline_count\n",
    "from unravel.stream import get_roi_sections_from_nodes\n",
    "from dipy.io.stateful_tractogram import Space, StatefulTractogram, Origin\n",
    "\n",
    "wm_path = \"%s/dlabel/diff/White-Matter++.bbr.nii.gz\" % subj_path_freesurf\n",
    "wm = nib.load(wm_path).get_fdata()\n",
    "notWM = wm == 0\n",
    "\n",
    "trk_path = \"../prova.trk\"\n",
    "subsegment = 10\n",
    "\n",
    "trk = load_tractogram(trk_path, \"same\")\n",
    "trk.to_vox()\n",
    "trk.to_corner()\n",
    "\n",
    "density = get_streamline_density(trk, subsegment=1) # The density\n",
    "\n",
    "# Find the density for each streamline\n",
    "sList = tract_to_streamlines(trk)\n",
    "totDensityTract = np.zeros(len(sList))\n",
    "\n",
    "for j, streamline in enumerate(sList):\n",
    "    # Create a new tract with a single streamline\n",
    "    # temp_trk = StatefulTractogram([streamline], trk, Space.VOX, origin=Origin.TRACKVIS)\n",
    "    temp_trk = StatefulTractogram.from_sft([streamline], trk)\n",
    "    # Get the ROI of the streamline\n",
    "    roi = get_streamline_density(temp_trk, subsegment=1)\n",
    "    temp_lenght = np.sum(roi)\n",
    "\n",
    "    temp_lenght -= np.sum(roi[notWM]) # Correggo la lunghezza escludendo i voxel che vengono esclusi dalla regione, perche non appartenenti alla WM\n",
    "    roi[notWM] = 0 # rimuovo voxels non appartenenti alla wm\n",
    "    # Compute the density of the streamline\n",
    "    totDensityTract[j] = np.sum(density[roi>0])/temp_lenght\n",
    "\n",
    "# bestTracts_idx = np.argsort(totDensityTract)[::-1][0:1]\n",
    "bestTracts_idx = np.argsort(totDensityTract)[::-1][0:int(0.01*get_streamline_count(trk))]\n",
    "\n",
    "streamlines = []\n",
    "for i in bestTracts_idx:\n",
    "    streamlines.append(sList[i])\n",
    "\n",
    "# temp_trk = StatefulTractogram(streamlines, trk, Space.VOX, origin=Origin.TRACKVIS)\n",
    "temp_trk = StatefulTractogram.from_sft(streamlines, trk)\n",
    "roi = get_streamline_density(temp_trk)\n",
    "density[roi==0] = 0\n",
    "\n",
    "save_tractogram(temp_trk, \"../prova1.trk\")\n",
    "nib.save(nib.Nifti1Image(density, temp_trk.affine), \"../prova.nii.gz\")"
   ]
  },
  {
   "cell_type": "code",
   "execution_count": 44,
   "metadata": {},
   "outputs": [],
   "source": [
    "import os\n",
    "\n",
    "def highestProbTractsDensity(trk, wm: None):\n",
    "    '''\n",
    "    This function is a modified version of get_streamline_density() from the library RAVEL by Delinte Nicolas.\n",
    "    The function is also a semplified version, it doesn't take the paramiters for the resolution_increase and the color.\n",
    "    \n",
    "    Paramiters\n",
    "    ----------\n",
    "    trk : tractogram\n",
    "        Content of a .trk file\n",
    "\n",
    "    Returns\n",
    "    -------\n",
    "\n",
    "    '''\n",
    "    density = get_streamline_density(trk, subsegment=1) # The density\n",
    "    isWM = wm > 0 \n",
    "    notWM = wm == 0\n",
    "\n",
    "    # Find the density for each streamline\n",
    "    sList = tract_to_streamlines(trk)\n",
    "    totDensityTract = np.zeros(len(sList))\n",
    "\n",
    "    for j, streamline in enumerate(sList):\n",
    "        # Create a new tract with a single streamline\n",
    "        temp_trk = StatefulTractogram.from_sft([streamline], trk)\n",
    "        # Get the ROI of the streamline\n",
    "        roi = get_streamline_density(temp_trk, subsegment=1)\n",
    "\n",
    "        # Se WM mask esiste => Solo i tratti che hanno una probabilità maggiore nella wm vengono considerati\n",
    "\n",
    "        if wm is None:\n",
    "            temp_lenght = np.sum(roi) # Normalizzo per la lunghezza del tratto, sennò i tratti più lunghi sarebbero avvantaggiati rispetto a quelli corti.\n",
    "        else:\n",
    "            temp_lenght = np.sum(roi[isWM]) # Correggo la lunghezza escludendo i voxel che vengono esclusi dalla regione, perche non appartenenti alla WM\n",
    "            roi[notWM] = 0 # rimuovo voxels non appartenenti alla wm\n",
    "\n",
    "        # Compute the density of the streamline\n",
    "        totDensityTract[j] = np.sum(density[roi>0])/temp_lenght\n",
    "\n",
    "    bestTracts_idx = np.argsort(totDensityTract)[::-1][0:int(0.01*get_streamline_count(trk))]\n",
    "\n",
    "    streamlines = []\n",
    "    for i in bestTracts_idx:\n",
    "        streamlines.append(sList[i])\n",
    "\n",
    "    temp_trk = StatefulTractogram.from_sft(streamlines, trk)\n",
    "    roi = get_streamline_density(temp_trk, subsegment=1)\n",
    "    density[roi==0] = 0\n",
    "    if wm is not None:\n",
    "        density[notWM] = 0\n",
    "\n",
    "    return density\n",
    "\n",
    "def correctWeightsTract(weights, thresh=0.1):\n",
    "    def resize_and_fix_origin(kernel, size):\n",
    "        \"\"\"Pads a kernel to reach shape `size`, and shift it in order to cancel phase.\n",
    "        This is based on the assumption that the kernel is centered in image space.\n",
    "        A note about this is provided in section 1.4. \n",
    "        \"\"\"\n",
    "        # Very specific routine... You don't have to understand it\n",
    "        pad0, pad1, pad2 = size[0]-kernel.shape[0], size[1]-kernel.shape[1], size[2]-kernel.shape[2]\n",
    "        # shift less if kernel is even, to start with 2 central items\n",
    "        shift0, shift1, shift2 = (kernel.shape[0]-1)//2, (kernel.shape[1]-1)//2, (kernel.shape[2]-1)//2\n",
    "\n",
    "        kernel = np.pad(kernel, ((0,pad0), (0,pad1), (0,pad2)), mode='constant')\n",
    "        kernel = np.roll(kernel, (-shift0, -shift1, -shift2), axis=(0,1,2))\n",
    "        return kernel\n",
    "\n",
    "    from scipy import signal\n",
    "    kernel = [[[1/4, 1/2, 1/4],\n",
    "               [1/2, 1, 1/2],\n",
    "               [1/4, 1/2, 1/4]],\n",
    "              [[1/2, 1, 1/2],\n",
    "               [1,   4, 1],\n",
    "               [1/2, 1, 1/2]],\n",
    "              [[1/4, 1/2, 1/4],\n",
    "               [1/2, 1, 1/2],\n",
    "               [1/4, 1/2, 1/4]]]\n",
    "    kernel = np.array(kernel)\n",
    "\n",
    "    ftImage = np.fft.fftn(weights)\n",
    "    ftKernel = np.fft.fftn(resize_and_fix_origin(kernel, weights.shape))\n",
    "    c = np.real(np.fft.ifftn(ftImage * ftKernel))\n",
    "    # c = signal.convolve(weights, kernel, mode=\"same\", method=\"direct\")\n",
    "\n",
    "    c_scal = (c - c.min())/(c.max() - c.min())\n",
    "    c[c_scal<thresh] = 0\n",
    "    c[weights == 0] = 0 # because during the convolution are chosen also voxels that are not from the bundle, so we keep only the streamlines of the tract\n",
    "\n",
    "    return c\n",
    "\n",
    "dpath = \"%s/dpath\" % subj_path_freesurf\n",
    "\n",
    "wm_path = \"%s/dlabel/diff/White-Matter++.bbr.nii.gz\" % subj_path_freesurf\n",
    "wm = nib.load(wm_path).get_fdata()\n",
    "\n",
    "all_densities = []\n",
    "idx_trk = []\n",
    "\n",
    "for entry in os.listdir(dpath):\n",
    "    entry_path = os.path.join(dpath, entry)\n",
    "    if os.path.isdir(entry_path):\n",
    "        trk_name = entry.split(\"_\")[0]\n",
    "        trk_path = os.path.join(entry_path, \"path.pd.trk\")\n",
    "        \n",
    "        trk = load_tractogram(trk_path, \"same\")\n",
    "        trk.to_vox()\n",
    "        trk.to_corner()\n",
    "\n",
    "        # Get the density filtered by the higest prob streamlines\n",
    "        idx_trk.append(trk_name)\n",
    "        all_densities.append(correctWeightsTract(highestProbTractsDensity(trk, wm)))\n",
    "        \n"
   ]
  },
  {
   "cell_type": "code",
   "execution_count": 132,
   "metadata": {},
   "outputs": [],
   "source": [
    "nib.save(nib.Nifti1Image(all_densities[0], trk.affine), f\"../{idx_trk[0]}.nii.gz\")"
   ]
  },
  {
   "cell_type": "code",
   "execution_count": 162,
   "metadata": {},
   "outputs": [],
   "source": [
    "tract_path = \"%s/dMRI/tractography\" % subj_path\n",
    "\n",
    "idx_ROIpaths = []\n",
    "densities = []\n",
    "k = 0\n",
    "\n",
    "for entry in os.listdir(tract_path):\n",
    "    entry_path = os.path.join(tract_path, entry)\n",
    "    if( os.path.isfile(entry_path) and \n",
    "        entry_path.endswith(\".trk\") and \n",
    "        not \"rmvd\" in entry_path ):\n",
    "\n",
    "        trk_name = entry.split(\".\")[0]\n",
    "        density_out_path = os.path.join(subj_path,\"masks\",f\"{subj}_{trk_name}_tract.nii.gz\")\n",
    "\n",
    "        trk = load_tractogram(trk_path, \"same\")\n",
    "        trk.to_vox()\n",
    "        trk.to_corner()\n",
    "\n",
    "        # Get the binary density filtered by the higest prob streamlines and with corrected weights\n",
    "        idx_ROIpaths.append(trk_name)\n",
    "        density = correctWeightsTract(highestProbTractsDensity(trk, wm))\n",
    "        density = np.where(density>0, 1, 0).astype(\"int32\")\n",
    "        densities.append(density)\n",
    "\n",
    "        nib.save(nib.Nifti1Image(densities[k], trk.affine), f\"../{idx_ROIpaths[k]}.nii.gz\")\n",
    "        k +=1\n"
   ]
  },
  {
   "cell_type": "code",
   "execution_count": 205,
   "metadata": {},
   "outputs": [],
   "source": [
    "def getDictionaryFromLUT(lut_path):\n",
    "    d = {}\n",
    "    with open(lut_path, 'r') as file:\n",
    "        for line in file.readlines():\n",
    "            fields = line.split()\n",
    "            if len(fields) == 0 or fields[0].startswith(\"#\"):\n",
    "                continue\n",
    "            d[int(fields[0])] = fields[1]\n",
    "    return d\n",
    "\n",
    "colorLUT = os.getenv('FREESURFER_HOME') + \"/FreeSurferColorLUT.txt\"\n",
    "dict_idx_ROI = getDictionaryFromLUT(colorLUT)"
   ]
  },
  {
   "cell_type": "code",
   "execution_count": 206,
   "metadata": {},
   "outputs": [
    {
     "data": {
      "text/plain": [
       "'Left-Thalamus'"
      ]
     },
     "execution_count": 206,
     "metadata": {},
     "output_type": "execute_result"
    }
   ],
   "source": [
    "dict_idx_ROI[10]"
   ]
  },
  {
   "cell_type": "markdown",
   "metadata": {},
   "source": [
    "# Conda yml to pip"
   ]
  },
  {
   "cell_type": "code",
   "execution_count": 72,
   "metadata": {},
   "outputs": [],
   "source": [
    "import ruamel.yaml\n",
    "\n",
    "yaml = ruamel.yaml.YAML()\n",
    "data = yaml.load(open('../env.yml'))\n",
    "\n",
    "requirements = []\n",
    "for dep in data['dependencies']:\n",
    "    if isinstance(dep, str):\n",
    "        package, package_version, python_version = dep.split('=')\n",
    "        if python_version == '0':\n",
    "            continue\n",
    "        requirements.append(package + '==' + package_version)\n",
    "    elif isinstance(dep, dict):\n",
    "        for preq in dep.get('pip', []):\n",
    "            requirements.append(preq)\n",
    "\n",
    "with open('../requirements.txt', 'w') as fp:\n",
    "    for requirement in requirements:\n",
    "       print(requirement, file=fp)"
   ]
  }
 ],
 "metadata": {
  "kernelspec": {
   "display_name": "pyRadiomics",
   "language": "python",
   "name": "python3"
  },
  "language_info": {
   "codemirror_mode": {
    "name": "ipython",
    "version": 3
   },
   "file_extension": ".py",
   "mimetype": "text/x-python",
   "name": "python",
   "nbconvert_exporter": "python",
   "pygments_lexer": "ipython3",
   "version": "3.9.18"
  },
  "orig_nbformat": 4
 },
 "nbformat": 4,
 "nbformat_minor": 2
}
