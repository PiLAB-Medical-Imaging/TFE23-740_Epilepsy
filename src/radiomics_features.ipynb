{
 "cells": [
  {
   "cell_type": "markdown",
   "metadata": {},
   "source": [
    "# This is a test for extraction of radiomics features from the patients"
   ]
  },
  {
   "cell_type": "code",
   "execution_count": 1,
   "metadata": {},
   "outputs": [
    {
     "ename": "ModuleNotFoundError",
     "evalue": "No module named 'radiomics'",
     "output_type": "error",
     "traceback": [
      "\u001b[0;31m---------------------------------------------------------------------------\u001b[0m",
      "\u001b[0;31mModuleNotFoundError\u001b[0m                       Traceback (most recent call last)",
      "\u001b[0;32m<ipython-input-1-2c36068b44d2>\u001b[0m in \u001b[0;36m<module>\u001b[0;34m\u001b[0m\n\u001b[0;32m----> 1\u001b[0;31m \u001b[0;32mimport\u001b[0m \u001b[0mradiomics\u001b[0m\u001b[0;34m\u001b[0m\u001b[0;34m\u001b[0m\u001b[0m\n\u001b[0m\u001b[1;32m      2\u001b[0m \u001b[0;32mimport\u001b[0m \u001b[0mnumpy\u001b[0m \u001b[0;32mas\u001b[0m \u001b[0mnp\u001b[0m\u001b[0;34m\u001b[0m\u001b[0;34m\u001b[0m\u001b[0m\n\u001b[1;32m      3\u001b[0m \u001b[0;32mimport\u001b[0m \u001b[0mnibabel\u001b[0m \u001b[0;32mas\u001b[0m \u001b[0mnib\u001b[0m\u001b[0;34m\u001b[0m\u001b[0;34m\u001b[0m\u001b[0m\n\u001b[1;32m      4\u001b[0m \u001b[0;32mimport\u001b[0m \u001b[0mmatplotlib\u001b[0m\u001b[0;34m.\u001b[0m\u001b[0mpyplot\u001b[0m \u001b[0;32mas\u001b[0m \u001b[0mplt\u001b[0m\u001b[0;34m\u001b[0m\u001b[0;34m\u001b[0m\u001b[0m\n\u001b[1;32m      5\u001b[0m \u001b[0;32mimport\u001b[0m \u001b[0mipywidgets\u001b[0m\u001b[0;34m\u001b[0m\u001b[0;34m\u001b[0m\u001b[0m\n",
      "\u001b[0;31mModuleNotFoundError\u001b[0m: No module named 'radiomics'"
     ]
    }
   ],
   "source": [
    "import radiomics\n",
    "import numpy as np\n",
    "import nibabel as nib\n",
    "import matplotlib.pyplot as plt\n",
    "import ipywidgets\n",
    "import SimpleITK as sitk\n",
    "import logging\n",
    "\n",
    "\n",
    "from scipy import stats\n",
    "from statsmodels.stats.weightstats import DescrStatsW\n",
    "from radiomics import firstorder, glcm, imageoperations, shape, glrlm, glszm, featureextractor, getFeatureClasses"
   ]
  },
  {
   "cell_type": "code",
   "execution_count": 5,
   "metadata": {},
   "outputs": [],
   "source": [
    "# Get the PyRadiomics logger (default log-level = INFO)\n",
    "logger = radiomics.logger\n",
    "logger.setLevel(logging.DEBUG)  # set level to DEBUG to include debug log messages in log file\n",
    "\n",
    "# Write out all log entries to a file\n",
    "handler = logging.FileHandler(filename='../testLog.txt', mode='w')\n",
    "formatter = logging.Formatter('%(levelname)s:%(name)s: %(message)s')\n",
    "handler.setFormatter(formatter)\n",
    "logger.addHandler(handler)"
   ]
  },
  {
   "cell_type": "code",
   "execution_count": 6,
   "metadata": {},
   "outputs": [],
   "source": [
    "folder_path = \"../study\""
   ]
  },
  {
   "cell_type": "markdown",
   "metadata": {},
   "source": [
    "Parameters for radiomcis feature extracion"
   ]
  },
  {
   "cell_type": "code",
   "execution_count": 7,
   "metadata": {},
   "outputs": [],
   "source": [
    "params = folder_path + \"/static_files/radiomics_params.yaml\""
   ]
  },
  {
   "cell_type": "markdown",
   "metadata": {},
   "source": [
    "## Print some slices of patient 2"
   ]
  },
  {
   "cell_type": "code",
   "execution_count": 8,
   "metadata": {},
   "outputs": [],
   "source": [
    "subj = \"VNSLC_02\"\n",
    "subj_path = \"%s/subjects/%s\" % (folder_path, subj)\n",
    "subj_path_freesurf = \"%s/freesurfer/%s\" % (folder_path, subj)\n",
    "\n",
    "# image_path = \"%s/registration/%s_T1_brain_reg.nii.gz\" % (subj_path, subj)\n",
    "# mask_path = \"%s/registration/aparc+aseg_reg.mgz\" % (subj_path)\n",
    "\n",
    "image_path = \"%s/dMRI/microstructure/dti/%s_FA.nii.gz\" % (subj_path, subj)\n",
    "mask_path = \"%s/dlabel/diff/aparc+aseg+thalnuc.bbr.nii.gz\" % (subj_path_freesurf)\n",
    "\n",
    "image = sitk.ReadImage(image_path)\n",
    "mask = sitk.ReadImage(mask_path)\n",
    "\n",
    "# I didnt get this passage but it works\n",
    "image = sitk.GetImageFromArray(sitk.GetArrayFromImage(image))\n",
    "mask = sitk.GetImageFromArray(sitk.GetArrayFromImage(mask))"
   ]
  },
  {
   "cell_type": "code",
   "execution_count": 61,
   "metadata": {},
   "outputs": [],
   "source": [
    "# bb, correctedMask = imageoperations.checkMask(image, mask, label=10)\n",
    "# if correctedMask is not None:\n",
    "#     mask = correctedMask\n",
    "# croppedImage, croppedMask = imageoperations.cropToTumorMask(image, mask, bb)\n",
    "# \n",
    "# plt.imshow(sitk.GetArrayFromImage(croppedImage)[10, :, :], cmap=\"gray\")\n",
    "# plt.imshow(np.where(sitk.GetArrayFromImage(croppedMask)[10, :, :] == 10, 1, 0), alpha=0.5)\n",
    "# plt.show()"
   ]
  },
  {
   "cell_type": "code",
   "execution_count": 62,
   "metadata": {},
   "outputs": [
    {
     "name": "stdout",
     "output_type": "stream",
     "text": [
      "0.8405095338821411\n"
     ]
    }
   ],
   "source": [
    "print(image[60, 60, 30])"
   ]
  },
  {
   "cell_type": "markdown",
   "metadata": {},
   "source": [
    "## Load on pyRadiomics\n"
   ]
  },
  {
   "cell_type": "code",
   "execution_count": 63,
   "metadata": {},
   "outputs": [
    {
     "name": "stdout",
     "output_type": "stream",
     "text": [
      "Extraction parameters:\n",
      "\t {'minimumROIDimensions': 3, 'minimumROISize': None, 'normalize': False, 'normalizeScale': 1, 'removeOutliers': None, 'resampledPixelSpacing': None, 'interpolator': 'sitkNearestNeighbor', 'preCrop': False, 'padDistance': 5, 'distances': [1], 'force2D': False, 'force2Ddimension': 0, 'resegmentRange': None, 'label': 1, 'additionalInfo': True, 'weightingNorm': 'euclidean'}\n",
      "Enabled filters:\n",
      "\t {'Original': {}}\n",
      "Enabled features:\n",
      "\t {'firstorder': ['Mean', 'StandardDeviation', 'Skewness', 'Kurtosis']}\n"
     ]
    }
   ],
   "source": [
    "extractor = featureextractor.RadiomicsFeatureExtractor(params)\n",
    "\n",
    "# extractor.enableAllImageTypes()\n",
    "# extractor.enableAllFeatures()\n",
    "\n",
    "# ----- Test the mean, standard deviaton, skewness and kurtosis\n",
    "extractor.disableAllFeatures()\n",
    "extractor.enableFeaturesByName(firstorder=['Mean', 'StandardDeviation', 'Skewness', 'Kurtosis'])\n",
    "\n",
    "print('Extraction parameters:\\n\\t', extractor.settings)\n",
    "print('Enabled filters:\\n\\t', extractor.enabledImagetypes)\n",
    "print('Enabled features:\\n\\t', extractor.enabledFeatures)"
   ]
  },
  {
   "cell_type": "code",
   "execution_count": 64,
   "metadata": {},
   "outputs": [
    {
     "name": "stdout",
     "output_type": "stream",
     "text": [
      "Active features:\n",
      "Mean\n",
      "\n",
      "    **8. Mean**\n",
      "\n",
      "    .. math::\n",
      "      \\textit{mean} = \\frac{1}{N_p}\\displaystyle\\sum^{N_p}_{i=1}{\\textbf{X}(i)}\n",
      "\n",
      "    The average gray level intensity within the ROI.\n",
      "    \n",
      "StandardDeviation\n",
      "\n",
      "    **15. Standard Deviation**\n",
      "\n",
      "    .. math::\n",
      "      \\textit{standard deviation} = \\sqrt{\\frac{1}{N_p}\\sum^{N_p}_{i=1}{(\\textbf{X}(i)-\\bar{X})^2}}\n",
      "\n",
      "    Standard Deviation measures the amount of variation or dispersion from the Mean Value. By definition,\n",
      "    :math:`\\textit{standard deviation} = \\sqrt{\\textit{variance}}`\n",
      "\n",
      "    .. note::\n",
      "      As this feature is correlated with variance, it is marked so it is not enabled by default.\n",
      "      To include this feature in the extraction, specify it by name in the enabled features\n",
      "      (i.e. this feature will not be enabled if no individual features are specified (enabling 'all' features),\n",
      "      but will be enabled when individual features are specified, including this feature).\n",
      "      Not present in IBSI feature definitions (correlated with variance)\n",
      "    \n",
      "Skewness\n",
      "\n",
      "    **16. Skewness**\n",
      "\n",
      "    .. math::\n",
      "      \\textit{skewness} = \\displaystyle\\frac{\\mu_3}{\\sigma^3} =\n",
      "      \\frac{\\frac{1}{N_p}\\sum^{N_p}_{i=1}{(\\textbf{X}(i)-\\bar{X})^3}}\n",
      "      {\\left(\\sqrt{\\frac{1}{N_p}\\sum^{N_p}_{i=1}{(\\textbf{X}(i)-\\bar{X})^2}}\\right)^3}\n",
      "\n",
      "    Where :math:`\\mu_3` is the 3\\ :sup:`rd` central moment.\n",
      "\n",
      "    Skewness measures the asymmetry of the distribution of values about the Mean value. Depending on where the tail is\n",
      "    elongated and the mass of the distribution is concentrated, this value can be positive or negative.\n",
      "\n",
      "    Related links:\n",
      "\n",
      "    https://en.wikipedia.org/wiki/Skewness\n",
      "\n",
      "    .. note::\n",
      "      In case of a flat region, the standard deviation and 4\\ :sup:`rd` central moment will be both 0. In this case, a\n",
      "      value of 0 is returned.\n",
      "    \n",
      "Kurtosis\n",
      "\n",
      "    **17. Kurtosis**\n",
      "\n",
      "    .. math::\n",
      "      \\textit{kurtosis} = \\displaystyle\\frac{\\mu_4}{\\sigma^4} =\n",
      "      \\frac{\\frac{1}{N_p}\\sum^{N_p}_{i=1}{(\\textbf{X}(i)-\\bar{X})^4}}\n",
      "      {\\left(\\frac{1}{N_p}\\sum^{N_p}_{i=1}{(\\textbf{X}(i)-\\bar{X}})^2\\right)^2}\n",
      "\n",
      "    Where :math:`\\mu_4` is the 4\\ :sup:`th` central moment.\n",
      "\n",
      "    Kurtosis is a measure of the 'peakedness' of the distribution of values in the image ROI. A higher kurtosis implies\n",
      "    that the mass of the distribution is concentrated towards the tail(s) rather than towards the mean. A lower kurtosis\n",
      "    implies the reverse: that the mass of the distribution is concentrated towards a spike near the Mean value.\n",
      "\n",
      "    Related links:\n",
      "\n",
      "    https://en.wikipedia.org/wiki/Kurtosis\n",
      "\n",
      "    .. note::\n",
      "      In case of a flat region, the standard deviation and 4\\ :sup:`rd` central moment will be both 0. In this case, a\n",
      "      value of 0 is returned.\n",
      "\n",
      "    .. note::\n",
      "      The IBSI feature definition implements excess kurtosis, where kurtosis is corrected by -3, yielding 0 for normal\n",
      "      distributions. The PyRadiomics kurtosis is not corrected, yielding a value 3 higher than the IBSI kurtosis.\n",
      "    \n"
     ]
    }
   ],
   "source": [
    "featureClasses = getFeatureClasses()\n",
    "print('Active features:')\n",
    "for cls, features in extractor.enabledFeatures.items():\n",
    "    if len(features) == 0:\n",
    "        features = [f for f, deprecated in featureClasses[cls].getFeatureNames().items() if not deprecated]\n",
    "    for f in features:\n",
    "        print(f)\n",
    "        print(getattr(featureClasses[cls], 'get%sFeatureValue' % f).__doc__)"
   ]
  },
  {
   "cell_type": "code",
   "execution_count": 65,
   "metadata": {},
   "outputs": [
    {
     "name": "stderr",
     "output_type": "stream",
     "text": [
      "Feature StandardDeviation is deprecated, use with caution!\n"
     ]
    }
   ],
   "source": [
    "result = extractor.execute(image, mask, label=13)"
   ]
  },
  {
   "cell_type": "code",
   "execution_count": 67,
   "metadata": {},
   "outputs": [
    {
     "name": "stdout",
     "output_type": "stream",
     "text": [
      "Calculated features\n",
      "\t diagnostics_Versions_PyRadiomics : 3.1.0a2\n",
      "\t diagnostics_Versions_Numpy : 1.25.2\n",
      "\t diagnostics_Versions_SimpleITK : 2.2.1\n",
      "\t diagnostics_Versions_PyWavelet : 1.4.1\n",
      "\t diagnostics_Versions_Python : 3.9.18\n",
      "\t diagnostics_Configuration_Settings : {'minimumROIDimensions': 3, 'minimumROISize': None, 'normalize': False, 'normalizeScale': 1, 'removeOutliers': None, 'resampledPixelSpacing': None, 'interpolator': 'sitkNearestNeighbor', 'preCrop': False, 'padDistance': 5, 'distances': [1], 'force2D': False, 'force2Ddimension': 0, 'resegmentRange': None, 'label': 13, 'additionalInfo': True, 'weightingNorm': 'euclidean'}\n",
      "\t diagnostics_Configuration_EnabledImageTypes : {'Original': {}}\n",
      "\t diagnostics_Image-original_Hash : dfde70d7892dd931c329721171d553160016d652\n",
      "\t diagnostics_Image-original_Dimensionality : 3D\n",
      "\t diagnostics_Image-original_Spacing : (1.0, 1.0, 1.0)\n",
      "\t diagnostics_Image-original_Size : (110, 110, 68)\n",
      "\t diagnostics_Image-original_Mean : 0.07767649852646054\n",
      "\t diagnostics_Image-original_Minimum : 0.0\n",
      "\t diagnostics_Image-original_Maximum : 1.0\n",
      "\t diagnostics_Mask-original_Hash : 71f916f707424b92257aac97c6dd2ae2cecc2959\n",
      "\t diagnostics_Mask-original_Spacing : (1.0, 1.0, 1.0)\n",
      "\t diagnostics_Mask-original_Size : (110, 110, 68)\n",
      "\t diagnostics_Mask-original_BoundingBox : (58, 51, 24, 9, 12, 7)\n",
      "\t diagnostics_Mask-original_VoxelNum : 228\n",
      "\t diagnostics_Mask-original_VolumeNum : 1\n",
      "\t diagnostics_Mask-original_CenterOfMassIndex : (62.6140350877193, 56.469298245614034, 26.276315789473685)\n",
      "\t diagnostics_Mask-original_CenterOfMass : (62.6140350877193, 56.469298245614034, 26.276315789473685)\n",
      "\t original_firstorder_Mean : 0.43695690652780367\n",
      "\t original_firstorder_StandardDeviation : 0.2117009461750408\n",
      "\t original_firstorder_Skewness : 0.5876355880797969\n",
      "\t original_firstorder_Kurtosis : 2.293265078488864\n"
     ]
    }
   ],
   "source": [
    "print('Calculated features')\n",
    "for key, value in result.items():\n",
    "    print('\\t', key, ':', value)"
   ]
  },
  {
   "cell_type": "markdown",
   "metadata": {},
   "source": [
    "## Comparison with the metrics compute with nibabel, numpy and scipy"
   ]
  },
  {
   "cell_type": "code",
   "execution_count": 47,
   "metadata": {},
   "outputs": [],
   "source": [
    "image = nib.load(image_path).get_fdata()\n",
    "mask = nib.load(mask_path).get_fdata()\n",
    "\n",
    "mask = np.where(mask == 13, 1, 0) # Take only the thalamus"
   ]
  },
  {
   "cell_type": "code",
   "execution_count": 69,
   "metadata": {},
   "outputs": [
    {
     "data": {
      "text/plain": [
       "0.8405095338821411"
      ]
     },
     "execution_count": 69,
     "metadata": {},
     "output_type": "execute_result"
    }
   ],
   "source": [
    "image[60, 60, 30]"
   ]
  },
  {
   "cell_type": "code",
   "execution_count": 70,
   "metadata": {},
   "outputs": [
    {
     "name": "stdout",
     "output_type": "stream",
     "text": [
      "Mean 0.43695690652780367\n",
      "Std 0.21170094617504082\n",
      "Skewness 0.5876355880797967\n",
      "Kurtosis 2.2932650784888624\n"
     ]
    }
   ],
   "source": [
    "assert image.shape == mask.shape\n",
    "\n",
    "v = image.ravel()\n",
    "w = mask.ravel()\n",
    "\n",
    "assert v.size == w.size\n",
    "\n",
    "# Mean\n",
    "print(\"Mean\", np.average(v, weights=w))\n",
    "# Standard Deviation\n",
    "dstat = DescrStatsW(v, w)\n",
    "print(\"Std\", dstat.std)\n",
    "# Skewness\n",
    "w_discrete = np.round(w).astype(int)\n",
    "repeat = np.repeat(v, w_discrete)\n",
    "print(\"Skewness\", stats.skew(repeat, bias=True))\n",
    "# Kurtosis\n",
    "print(\"Kurtosis\", stats.kurtosis(repeat, fisher=False, bias=True))\n"
   ]
  },
  {
   "cell_type": "markdown",
   "metadata": {},
   "source": [
    "# Managing the ROI from tracts"
   ]
  },
  {
   "cell_type": "code",
   "execution_count": 42,
   "metadata": {},
   "outputs": [
    {
     "data": {
      "text/plain": [
       "True"
      ]
     },
     "execution_count": 42,
     "metadata": {},
     "output_type": "execute_result"
    }
   ],
   "source": [
    "from dipy.io.streamline import load_tractogram, save_tractogram\n",
    "\n",
    "# trk_path = \"%s/dpath/acomm_avg16_syn_bbr/path.pd.trk\" % subj_path_freesurf\n",
    "trk_path = \"%s/dMRI/tractography/left-antThalRadiation.trk\" % subj_path\n",
    "\n",
    "trk = load_tractogram(trk_path, \"same\")\n",
    "trk.to_vox()\n",
    "trk.to_corner()\n",
    "\n",
    "from unravel.stream import smooth_streamlines\n",
    "out_path = \"../prova.trk\"\n",
    "save_tractogram(trk, out_path)\n",
    "# if the tract comes from MRtrix3 the smoothing is useless ... (only loose time)\n",
    "# for _ in range(20):\n",
    "#     smooth_streamlines(out_path, out_path)\n"
   ]
  },
  {
   "cell_type": "code",
   "execution_count": 43,
   "metadata": {},
   "outputs": [],
   "source": [
    "from unravel.stream import extract_nodes\n",
    "# from unravel.viz import plot_nodes_and_surfaces\n",
    "\n",
    "point_array = extract_nodes(out_path)\n",
    "# plot_nodes_and_surfaces(point_array)"
   ]
  },
  {
   "cell_type": "code",
   "execution_count": 38,
   "metadata": {},
   "outputs": [
    {
     "name": "stderr",
     "output_type": "stream",
     "text": [
      "WARNING:StatefulTractogram:Using a StatefulTractogram as reference, this will copy only the space_attributes, not the state. The variables space and origin must be specified separately.\n",
      "WARNING:StatefulTractogram:To copy the state from another StatefulTractogram you may want to use the function from_sft (static function of the StatefulTractogram).\n"
     ]
    },
    {
     "name": "stdout",
     "output_type": "stream",
     "text": [
      "959 streamlines removed from tract\n"
     ]
    }
   ],
   "source": [
    "from unravel.stream import remove_outlier_streamlines\n",
    "\n",
    "remove_outlier_streamlines(out_path, point_array, out_path, outlier_ratio=100)"
   ]
  },
  {
   "cell_type": "code",
   "execution_count": 54,
   "metadata": {},
   "outputs": [],
   "source": [
    "from unravel.stream import get_roi_sections_from_nodes\n",
    "\n",
    "ROI = get_roi_sections_from_nodes(out_path, point_array)\n",
    "ROI = ROI.astype(\"float64\", casting=\"safe\")\n",
    "nib.save(nib.Nifti1Image(ROI, trk.affine), \"../prova.nii.gz\")\n"
   ]
  },
  {
   "cell_type": "markdown",
   "metadata": {},
   "source": [
    "# Prova tracula da cancellare"
   ]
  },
  {
   "cell_type": "code",
   "execution_count": 1,
   "metadata": {},
   "outputs": [
    {
     "ename": "ModuleNotFoundError",
     "evalue": "No module named 'dipy'",
     "output_type": "error",
     "traceback": [
      "\u001b[0;31m---------------------------------------------------------------------------\u001b[0m",
      "\u001b[0;31mModuleNotFoundError\u001b[0m                       Traceback (most recent call last)",
      "\u001b[0;32m<ipython-input-1-8175f6fdd35e>\u001b[0m in \u001b[0;36m<module>\u001b[0;34m\u001b[0m\n\u001b[1;32m      1\u001b[0m \u001b[0;32mimport\u001b[0m \u001b[0mos\u001b[0m\u001b[0;34m\u001b[0m\u001b[0;34m\u001b[0m\u001b[0m\n\u001b[0;32m----> 2\u001b[0;31m \u001b[0;32mfrom\u001b[0m \u001b[0mdipy\u001b[0m\u001b[0;34m.\u001b[0m\u001b[0mio\u001b[0m\u001b[0;34m.\u001b[0m\u001b[0mstreamline\u001b[0m \u001b[0;32mimport\u001b[0m \u001b[0mload_tractogram\u001b[0m\u001b[0;34m,\u001b[0m \u001b[0msave_trk\u001b[0m\u001b[0;34m\u001b[0m\u001b[0;34m\u001b[0m\u001b[0m\n\u001b[0m",
      "\u001b[0;31mModuleNotFoundError\u001b[0m: No module named 'dipy'"
     ]
    }
   ],
   "source": [
    "import os\n",
    "from dipy.io.streamline import load_tractogram, save_trk"
   ]
  },
  {
   "cell_type": "code",
   "execution_count": null,
   "metadata": {},
   "outputs": [],
   "source": [
    "def convertTck2Trk(subj_folder_path, subj_id, tck_path):\n",
    "    if not os.path.isfile(tck_path): # only if there was an error during the tractography, to not block everything\n",
    "        return\n",
    "    print(\"Converting %s\" % tck_path)\n",
    "    tract = load_tractogram(tck_path, subj_folder_path+\"/dMRI/preproc/\"+subj_id+\"_b0_preproc.nii.gz\")\n",
    "    save_trk(tract, tck_path[:-3]+'trk')"
   ]
  },
  {
   "cell_type": "code",
   "execution_count": null,
   "metadata": {},
   "outputs": [],
   "source": [
    "def convertTck2Trk(subj_folder_path, subj_id, tck_path):\n",
    "    if not os.path.isfile(tck_path): # only if there was an error during the tractography, to not block everything\n",
    "        return\n",
    "    print(\"Converting %s\" % tck_path)\n",
    "    tract = load_tractogram(tck_path, subj_folder_path+\"/dMRI/preproc/\"+subj_id+\"_b0_preproc.nii.gz\")\n",
    "    save_trk(tract, tck_path[:-3]+'trk')"
   ]
  },
  {
   "cell_type": "code",
   "execution_count": null,
   "metadata": {},
   "outputs": [],
   "source": [
    "import os\n",
    "\n",
    "tck_path_forward = \"%s/dMRI/tractography/left-antThalRadiation_from.trk\" % subj_path\n",
    "tck_path_backward = \"%s/dMRI/tractography/left-antThalRadiation_to.trk\" % subj_path\n",
    "\n",
    "outlier_radio = 3\n",
    "cmd = \"tckedit -force \"\n",
    "\n",
    "# Remotion sigularly\n",
    "if os.path.isfile(output_path_forward):\n",
    "    convertTck2Trk(subj_folder_path, p_code, output_path_forward)\n",
    "    output_path_forward = output_path_forward[:-3] + 'trk' # rename to the trk\n",
    "    forward_point_array = extract_nodes(output_path_forward)\n",
    "    remove_outlier_streamlines(output_path_forward, forward_point_array, output_path_forward, outlier_radio)\n",
    "    cmd = cmd + output_path_forward + \" \"\n",
    "    # convert to tck\n",
    "\n",
    "if os.path.isfile(output_path_backward):\n",
    "    convertTck2Trk(subj_folder_path, p_code, output_path_backward)\n",
    "    output_path_backward = output_path_backward[:-3] + 'trk' # rename to the trk\n",
    "    backward_point_array = extract_nodes(output_path_backward)\n",
    "    remove_outlier_streamlines(output_path_backward, backward_point_array, output_path_backward, outlier_radio)\n",
    "    cmd = cmd + output_path_backward + \" \"\n",
    "    # convert to tck\n",
    "\n",
    "# Union of the track in forward and backward\n",
    "cmd = cmd + output_path\n",
    "process = subprocess.Popen(cmd, stdout=subprocess.PIPE, shell=True)\n",
    "process.wait()\n",
    "# os.remove(output_path_forward); os.remove(output_path_backward)\n",
    "# eliminare anche entrambi i tck e trk\n",
    "\n",
    "# Remotion outlier in both forward and backward\n",
    "# convert to trk\n",
    "point_array = extract_nodes(output_path)\n",
    "remove_outlier_streamlines(output_path, point_array, output_path, outlier_radio)"
   ]
  }
 ],
 "metadata": {
  "kernelspec": {
   "display_name": "pyRadiomics",
   "language": "python",
   "name": "python3"
  },
  "language_info": {
   "codemirror_mode": {
    "name": "ipython",
    "version": 3
   },
   "file_extension": ".py",
   "mimetype": "text/x-python",
   "name": "python",
   "nbconvert_exporter": "python",
   "pygments_lexer": "ipython3",
   "version": "3.6.8"
  },
  "orig_nbformat": 4
 },
 "nbformat": 4,
 "nbformat_minor": 2
}
