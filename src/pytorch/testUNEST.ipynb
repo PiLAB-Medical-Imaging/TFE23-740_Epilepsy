{
 "cells": [
  {
   "cell_type": "code",
   "execution_count": 1,
   "metadata": {},
   "outputs": [
    {
     "data": {
      "text/plain": [
       "<torch.autograd.grad_mode.set_grad_enabled at 0x7f93c717a2b0>"
      ]
     },
     "execution_count": 1,
     "metadata": {},
     "output_type": "execute_result"
    }
   ],
   "source": [
    "import pandas as pd\n",
    "import numpy as np\n",
    "import os\n",
    "import enum\n",
    "import time\n",
    "import matplotlib.pyplot as plt\n",
    "import json\n",
    "import seaborn as sns\n",
    "import ignite\n",
    "\n",
    "from tqdm.auto import tqdm, trange\n",
    "\n",
    "import torch\n",
    "import torch.optim as optim\n",
    "import torch.nn as nn\n",
    "import torch.nn.functional as F\n",
    "import torchvision\n",
    "import torchvision.transforms as transforms\n",
    "import torchio as tio\n",
    "import monai\n",
    "\n",
    "import nilearn as nl\n",
    "import nibabel as nib\n",
    "import nilearn.plotting as nlplt\n",
    "from pathlib import Path\n",
    "\n",
    "from torch.utils.tensorboard import SummaryWriter\n",
    "from torch.utils.data import DataLoader, Dataset\n",
    "\n",
    "from sklearn.model_selection import LeaveOneOut, train_test_split\n",
    "from sklearn.metrics import precision_recall_curve\n",
    "\n",
    "from matplotlib.colors import ListedColormap\n",
    "\n",
    "from datetime import datetime\n",
    "from functools import partialmethod\n",
    "\n",
    "# from google.colab import drive\n",
    "\n",
    "torch.manual_seed(7)\n",
    "# os.environ[\"PYTORCH_CUDA_ALLOC_CONF\"] = \"max_split_size_mb:64\"\n",
    "\n",
    "device = torch.device(\"cuda:1\" if torch.cuda.is_available() else \"cpu\")\n",
    "\n",
    "torch.set_grad_enabled(False)"
   ]
  },
  {
   "cell_type": "code",
   "execution_count": 2,
   "metadata": {},
   "outputs": [],
   "source": [
    "study_path = \"../../study\"\n",
    "\n",
    "info_df = pd.read_csv(f\"{study_path}/stats/info.csv\").dropna()\n",
    "\n",
    "subjects_list = []\n",
    "\n",
    "for idx, row in info_df.iterrows():\n",
    "    if \"VNSLC\" not in row.ID:\n",
    "        continue\n",
    "    \n",
    "    subj_dict = {\n",
    "        \"id\": row.ID,\n",
    "        \"resp\": row.resp, # Prova cambiando in 0, 0.75, 1\n",
    "        # \"age\": row.age,\n",
    "        # \"sex\": row.sex,\n",
    "        # \"epilepsy_type\": row.epilepsy_type,\n",
    "        # \"epilepsy_onset_age\": row.epilepsy_onset_age,\n",
    "        # \"therapy_duration\": row.therapy_duration,\n",
    "        # \"AEDs\": row.AEDs,\n",
    "        \"FA\": tio.ScalarImage(f\"{study_path}/subjects/{row.ID}/registration/FAinMNI_Rigid/{row.ID}_FA.nii.gz\"),\n",
    "        \"MD\": tio.ScalarImage(f\"{study_path}/subjects/{row.ID}/registration/FAinMNI_Rigid/{row.ID}_MD.nii.gz\"),\n",
    "        \"AD\": tio.ScalarImage(f\"{study_path}/subjects/{row.ID}/registration/FAinMNI_Rigid/{row.ID}_AD.nii.gz\"),\n",
    "        \"RD\": tio.ScalarImage(f\"{study_path}/subjects/{row.ID}/registration/FAinMNI_Rigid/{row.ID}_RD.nii.gz\"),\n",
    "        \"wFA\": tio.ScalarImage(f\"{study_path}/subjects/{row.ID}/registration/FAinMNI_Rigid/{row.ID}_diamond_wFA.nii.gz\"),\n",
    "        \"wMD\": tio.ScalarImage(f\"{study_path}/subjects/{row.ID}/registration/FAinMNI_Rigid/{row.ID}_diamond_wMD.nii.gz\"),\n",
    "        \"wAD\": tio.ScalarImage(f\"{study_path}/subjects/{row.ID}/registration/FAinMNI_Rigid/{row.ID}_diamond_wAD.nii.gz\"),\n",
    "        \"wRD\": tio.ScalarImage(f\"{study_path}/subjects/{row.ID}/registration/FAinMNI_Rigid/{row.ID}_diamond_wRD.nii.gz\"),\n",
    "        # \"diamond_frac_csf\": tio.ScalarImage(f\"{study_path}/subjects/{row.ID}/registration/FAinMNI_affine/{row.ID}_diamond_frac_csf.nii.gz\"),\n",
    "        \"icvf\": tio.ScalarImage(f\"{study_path}/subjects/{row.ID}/registration/FAinMNI_Rigid/{row.ID}_noddi_icvf.nii.gz\"),\n",
    "        \"odi\": tio.ScalarImage(f\"{study_path}/subjects/{row.ID}/registration/FAinMNI_Rigid/{row.ID}_noddi_odi.nii.gz\"),\n",
    "        \"fextra\": tio.ScalarImage(f\"{study_path}/subjects/{row.ID}/registration/FAinMNI_Rigid/{row.ID}_noddi_fextra.nii.gz\"),\n",
    "        \"fiso\": tio.ScalarImage(f\"{study_path}/subjects/{row.ID}/registration/FAinMNI_Rigid/{row.ID}_noddi_fiso.nii.gz\"),\n",
    "        \"wfvf\": tio.ScalarImage(f\"{study_path}/subjects/{row.ID}/registration/FAinMNI_Rigid/{row.ID}_mf_wfvf.nii.gz\"),\n",
    "        \"fvf_tot\": tio.ScalarImage(f\"{study_path}/subjects/{row.ID}/registration/FAinMNI_Rigid/{row.ID}_mf_fvf_tot.nii.gz\"),\n",
    "        \"mf_frac_csf\": tio.ScalarImage(f\"{study_path}/subjects/{row.ID}/registration/FAinMNI_Rigid/{row.ID}_mf_frac_csf.nii.gz\"),\n",
    "        \"WM_mask\": tio.LabelMap(f\"{study_path}/subjects/{row.ID}/registration/FAinMNI_Rigid/White-Matter++.bbr.nii.gz\"),\n",
    "        \"aparc_aseg\": tio.LabelMap(f\"{study_path}/subjects/{row.ID}/registration/FAinMNI_Rigid/aparc+aseg+thalnuc.bbr.nii.gz\"),\n",
    "        \"t1\": tio.ScalarImage(f\"{study_path}/subjects/{row.ID}/registration/FAinMNI_Rigid/{row.ID}_T1_brain_reg.nii.gz\")\n",
    "    }\n",
    "\n",
    "    subjects_list.append(tio.Subject(subj_dict))"
   ]
  },
  {
   "cell_type": "code",
   "execution_count": 3,
   "metadata": {},
   "outputs": [
    {
     "name": "stderr",
     "output_type": "stream",
     "text": [
      "/home/cerra/Epilepsy-dMRI-VNS/src/pytorch/scripts/networks/patchEmbed3D.py:175: TracerWarning: Converting a tensor to a Python boolean might cause the trace to be incorrect. We can't record the data flow of Python values, so this value will be treated as a constant in the future. This means that the trace might not generalize to other inputs!\n",
      "  if w % self.patch_size[2] != 0:\n",
      "/home/cerra/Epilepsy-dMRI-VNS/src/pytorch/scripts/networks/patchEmbed3D.py:177: TracerWarning: Converting a tensor to a Python boolean might cause the trace to be incorrect. We can't record the data flow of Python values, so this value will be treated as a constant in the future. This means that the trace might not generalize to other inputs!\n",
      "  if h % self.patch_size[1] != 0:\n",
      "/home/cerra/Epilepsy-dMRI-VNS/src/pytorch/scripts/networks/patchEmbed3D.py:179: TracerWarning: Converting a tensor to a Python boolean might cause the trace to be incorrect. We can't record the data flow of Python values, so this value will be treated as a constant in the future. This means that the trace might not generalize to other inputs!\n",
      "  if d % self.patch_size[0] != 0:\n",
      "/home/cerra/Epilepsy-dMRI-VNS/env_dMRI/lib/python3.8/site-packages/torch/__init__.py:1404: TracerWarning: Converting a tensor to a Python boolean might cause the trace to be incorrect. We can't record the data flow of Python values, so this value will be treated as a constant in the future. This means that the trace might not generalize to other inputs!\n",
      "  assert condition, message\n",
      "/home/cerra/Epilepsy-dMRI-VNS/src/pytorch/scripts/networks/nest_transformer_3D.py:188: TracerWarning: Converting a tensor to a Python float might cause the trace to be incorrect. We can't record the data flow of Python values, so this value will be treated as a constant in the future. This means that the trace might not generalize to other inputs!\n",
      "  grid_size = round(math.pow(t, 1 / 3))\n"
     ]
    }
   ],
   "source": [
    "from pytorch0 import UNesTModNet\n",
    "\n",
    "transforms = tio.Compose([\n",
    "    tio.transforms.ToCanonical(),\n",
    "    tio.transforms.Resample(2),\n",
    "    tio.transforms.CropOrPad(96, \"edge\"),\n",
    "    tio.ZNormalization(masking_method=tio.ZNormalization.mean),\n",
    "])\n",
    "\n",
    "my_model = UNesTModNet()\n",
    "\n",
    "input_test = torch.rand(64, 1, 96, 96, 96)\n",
    "\n",
    "writer = SummaryWriter('../../study/models/run/unest')\n",
    "writer.add_graph(my_model, input_test)"
   ]
  }
 ],
 "metadata": {
  "kernelspec": {
   "display_name": "env_dMRI",
   "language": "python",
   "name": "python3"
  },
  "language_info": {
   "codemirror_mode": {
    "name": "ipython",
    "version": 3
   },
   "file_extension": ".py",
   "mimetype": "text/x-python",
   "name": "python",
   "nbconvert_exporter": "python",
   "pygments_lexer": "ipython3",
   "version": "3.8.16"
  }
 },
 "nbformat": 4,
 "nbformat_minor": 2
}
