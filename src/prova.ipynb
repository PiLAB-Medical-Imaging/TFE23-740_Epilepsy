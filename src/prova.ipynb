{
 "cells": [
  {
   "cell_type": "code",
   "execution_count": 37,
   "metadata": {},
   "outputs": [
    {
     "data": {
      "image/png": "[encoded data removed]",
      "text/plain": [
       "<Figure size 640x480 with 1 Axes>"
      ]
     },
     "metadata": {},
     "output_type": "display_data"
    },
    {
     "name": "stdout",
     "output_type": "stream",
     "text": [
      "20.458168029785156 43.04212188720703\n"
     ]
    },
    {
     "name": "stderr",
     "output_type": "stream",
     "text": [
      "tckedit: \u001b[00;31m[WARNING] existing output files will be overwritten\u001b[0m\n",
      "tckedit: [done]      121 read,      117 written\u001b[0K\u001b[?7h\n",
      "tckedit: \u001b[00;31m[WARNING] existing output files will be overwritten\u001b[0m\n",
      "tckedit: [done]      121 read,        0 written\u001b[0K\u001b[?7h\n",
      "tckedit: \u001b[00;31m[WARNING] existing output files will be overwritten\u001b[0m\n",
      "tckedit: [done]      121 read,        5 written\u001b[0K\u001b[?7h\n",
      "tckedit: \u001b[00;31m[WARNING] existing output files will be overwritten\u001b[0m\n",
      "tckedit: [done]        5 read,        5 written\u001b[0K\u001b[?7h\n"
     ]
    }
   ],
   "source": [
    "import nibabel as nib\n",
    "from dipy.io.streamline import load_tractogram, save_trk\n",
    "from dipy.tracking.utils import length\n",
    "import numpy as np\n",
    "import subprocess\n",
    "import os\n",
    "\n",
    "tract_path = \"../study/subjects/VNSLC_19/dMRI/tractography/right-thalamus-Insula.tck\"\n",
    "# remotion of outliers IQR rule\n",
    "trk = nib.streamlines.load(tract_path).tractogram\n",
    "bundle  = trk.streamlines\n",
    "\n",
    "lengths = list(length(bundle))\n",
    "\n",
    "import matplotlib.pyplot as plt\n",
    "\n",
    "fig_hist, ax = plt.subplots(1)\n",
    "ax.hist(lengths, color='burlywood', bins=100, density=True)\n",
    "ax.set_xlabel('Length')\n",
    "ax.set_ylabel('Count')\n",
    "plt.show()\n",
    "\n",
    "q1 = np.quantile(lengths, 0.25)\n",
    "q3 = np.quantile(lengths, 0.75)\n",
    "iqr = q3 - q1\n",
    "upper = q3 + 1.5*iqr\n",
    "lower = q1 - 1.5*iqr\n",
    "print(lower, upper)\n",
    "\n",
    "cmd = \"tckedit -minlength %f -maxlength %f -force %s %s\" % (lower, upper,tract_path, \"../prova.tck\")\n",
    "process = subprocess.Popen(cmd, stdout=subprocess.PIPE, shell=True)\n",
    "process.wait()\n",
    "\n",
    "cmd = \"tckedit -maxlength %f -force %s %s\" % (lower,tract_path, \"../lower.tck\")\n",
    "process = subprocess.Popen(cmd, stdout=subprocess.PIPE, shell=True)\n",
    "process.wait()\n",
    "\n",
    "cmd = \"tckedit -minlength %f -force %s %s\" % (upper, tract_path, \"../upper.tck\")\n",
    "process = subprocess.Popen(cmd, stdout=subprocess.PIPE, shell=True)\n",
    "process.wait()\n",
    "\n",
    "cmd = \"tckedit -force %s %s %s\" % (\"../lower.tck\", \"../upper.tck\", \"../removed.tck\")\n",
    "process = subprocess.Popen(cmd, stdout=subprocess.PIPE, shell=True)\n",
    "process.wait()\n",
    "os.remove(\"../lower.tck\"); os.remove(\"../upper.tck\")\n",
    "\n",
    "tract = load_tractogram(\"../prova.tck\", \"../study/subjects/VNSLC_19/dMRI/preproc/VNSLC_19_dmri_preproc.nii.gz\")\n",
    "save_trk(tract, \"../prova.trk\")\n",
    "\n",
    "tract = load_tractogram(\"../removed.tck\", \"../study/subjects/VNSLC_19/dMRI/preproc/VNSLC_19_dmri_preproc.nii.gz\")\n",
    "save_trk(tract, \"../removed.trk\")"
   ]
  },
  {
   "cell_type": "code",
   "execution_count": null,
   "metadata": {},
   "outputs": [],
   "source": []
  }
 ],
 "metadata": {
  "kernelspec": {
   "display_name": "dMRI",
   "language": "python",
   "name": "python3"
  },
  "language_info": {
   "codemirror_mode": {
    "name": "ipython",
    "version": 3
   },
   "file_extension": ".py",
   "mimetype": "text/x-python",
   "name": "python",
   "nbconvert_exporter": "python",
   "pygments_lexer": "ipython3",
   "version": "3.9.16"
  },
  "orig_nbformat": 4
 },
 "nbformat": 4,
 "nbformat_minor": 2
}
