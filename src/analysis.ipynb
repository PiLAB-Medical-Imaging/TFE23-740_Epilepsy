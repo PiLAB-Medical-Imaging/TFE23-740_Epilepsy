{
 "cells": [
  {
   "cell_type": "code",
   "execution_count": 5,
   "metadata": {},
   "outputs": [],
   "source": [
    "import pandas as pd\n",
    "import json\n",
    "import os"
   ]
  },
  {
   "attachments": {},
   "cell_type": "markdown",
   "metadata": {},
   "source": [
    "### Definition of input folder"
   ]
  },
  {
   "cell_type": "code",
   "execution_count": 14,
   "metadata": {},
   "outputs": [],
   "source": [
    "folder_path = \"../study\"\n",
    "stats_path = folder_path + \"/stats\""
   ]
  },
  {
   "attachments": {},
   "cell_type": "markdown",
   "metadata": {},
   "source": [
    "### Concatenation of all patient's metrics"
   ]
  },
  {
   "cell_type": "code",
   "execution_count": 20,
   "metadata": {},
   "outputs": [
    {
     "name": "stdout",
     "output_type": "stream",
     "text": [
      "../study/subjects/VNSLC_01/dMRI/microstructure/VNSLC_01_metrics.csv doesn't exists\n",
      "../study/subjects/VNSLC_02/dMRI/microstructure/VNSLC_02_metrics.csv doesn't exists\n",
      "../study/subjects/VNSLC_03/dMRI/microstructure/VNSLC_03_metrics.csv doesn't exists\n"
     ]
    }
   ],
   "source": [
    "## Read the list of subjects and for each subject do the tractography\n",
    "dest_success = folder_path + \"/subjects/subj_list.json\"\n",
    "with open(dest_success, 'r') as file:\n",
    "    patient_list = json.load(file)\n",
    "\n",
    "dfs = []\n",
    "for p_code in patient_list:\n",
    "    metric_folder = \"%s/subjects/%s/dMRI/microstructure/%s_metrics.csv\" % (folder_path, p_code, p_code)\n",
    "    if not os.path.exists(metric_folder):\n",
    "        print(metric_folder, \"doesn't exists\")\n",
    "        continue\n",
    "    dfs.append(pd.read_csv(metric_folder))\n",
    "\n",
    "df = pd.concat(dfs)\n",
    "\n",
    "if not os.path.isdir(stats_path):\n",
    "    os.mkdir(stats_path)\n",
    "\n",
    "df.to_csv(\"%s/dataset.csv\" % stats_path, index=False)\n"
   ]
  },
  {
   "attachments": {},
   "cell_type": "markdown",
   "metadata": {},
   "source": [
    "## Analysis"
   ]
  },
  {
   "cell_type": "code",
   "execution_count": 21,
   "metadata": {},
   "outputs": [
    {
     "data": {
      "text/html": [
       "<div>\n",
       "<style scoped>\n",
       "    .dataframe tbody tr th:only-of-type {\n",
       "        vertical-align: middle;\n",
       "    }\n",
       "\n",
       "    .dataframe tbody tr th {\n",
       "        vertical-align: top;\n",
       "    }\n",
       "\n",
       "    .dataframe thead th {\n",
       "        text-align: right;\n",
       "    }\n",
       "</style>\n",
       "<table border=\"1\" class=\"dataframe\">\n",
       "  <thead>\n",
       "    <tr style=\"text-align: right;\">\n",
       "      <th></th>\n",
       "      <th>right-thalamus-AntCingCtx_FA_mean</th>\n",
       "      <th>right-thalamus-AntCingCtx_FA_std</th>\n",
       "      <th>right-thalamus-AntCingCtx_FA_skew</th>\n",
       "      <th>right-thalamus-AntCingCtx_FA_kurt</th>\n",
       "      <th>right-sup-longi-fasci_FA_mean</th>\n",
       "      <th>right-sup-longi-fasci_FA_std</th>\n",
       "      <th>right-sup-longi-fasci_FA_skew</th>\n",
       "      <th>right-sup-longi-fasci_FA_kurt</th>\n",
       "      <th>left-thalamus-Insula_FA_mean</th>\n",
       "      <th>left-thalamus-Insula_FA_std</th>\n",
       "      <th>...</th>\n",
       "      <th>right-hippocampus_frac_csf_mf_skew</th>\n",
       "      <th>right-hippocampus_frac_csf_mf_kurt</th>\n",
       "      <th>right-amygdala_frac_csf_mf_mean</th>\n",
       "      <th>right-amygdala_frac_csf_mf_std</th>\n",
       "      <th>right-amygdala_frac_csf_mf_skew</th>\n",
       "      <th>right-amygdala_frac_csf_mf_kurt</th>\n",
       "      <th>right-accumbens-area_frac_csf_mf_mean</th>\n",
       "      <th>right-accumbens-area_frac_csf_mf_std</th>\n",
       "      <th>right-accumbens-area_frac_csf_mf_skew</th>\n",
       "      <th>right-accumbens-area_frac_csf_mf_kurt</th>\n",
       "    </tr>\n",
       "  </thead>\n",
       "  <tbody>\n",
       "    <tr>\n",
       "      <th>0</th>\n",
       "      <td>0.473695</td>\n",
       "      <td>0.193161</td>\n",
       "      <td>-0.00008</td>\n",
       "      <td>0.003329</td>\n",
       "      <td>0.500848</td>\n",
       "      <td>0.153622</td>\n",
       "      <td>-0.001194</td>\n",
       "      <td>0.001566</td>\n",
       "      <td>0.44025</td>\n",
       "      <td>0.145429</td>\n",
       "      <td>...</td>\n",
       "      <td>0.04991</td>\n",
       "      <td>0.040012</td>\n",
       "      <td>0.137749</td>\n",
       "      <td>0.19797</td>\n",
       "      <td>0.024946</td>\n",
       "      <td>0.021099</td>\n",
       "      <td>0.076892</td>\n",
       "      <td>0.136489</td>\n",
       "      <td>0.014051</td>\n",
       "      <td>0.012932</td>\n",
       "    </tr>\n",
       "  </tbody>\n",
       "</table>\n",
       "<p>1 rows × 1656 columns</p>\n",
       "</div>"
      ],
      "text/plain": [
       "   right-thalamus-AntCingCtx_FA_mean  right-thalamus-AntCingCtx_FA_std   \n",
       "0                           0.473695                          0.193161  \\\n",
       "\n",
       "   right-thalamus-AntCingCtx_FA_skew  right-thalamus-AntCingCtx_FA_kurt   \n",
       "0                           -0.00008                           0.003329  \\\n",
       "\n",
       "   right-sup-longi-fasci_FA_mean  right-sup-longi-fasci_FA_std   \n",
       "0                       0.500848                      0.153622  \\\n",
       "\n",
       "   right-sup-longi-fasci_FA_skew  right-sup-longi-fasci_FA_kurt   \n",
       "0                      -0.001194                       0.001566  \\\n",
       "\n",
       "   left-thalamus-Insula_FA_mean  left-thalamus-Insula_FA_std  ...   \n",
       "0                       0.44025                     0.145429  ...  \\\n",
       "\n",
       "   right-hippocampus_frac_csf_mf_skew  right-hippocampus_frac_csf_mf_kurt   \n",
       "0                             0.04991                            0.040012  \\\n",
       "\n",
       "   right-amygdala_frac_csf_mf_mean  right-amygdala_frac_csf_mf_std   \n",
       "0                         0.137749                         0.19797  \\\n",
       "\n",
       "   right-amygdala_frac_csf_mf_skew  right-amygdala_frac_csf_mf_kurt   \n",
       "0                         0.024946                         0.021099  \\\n",
       "\n",
       "   right-accumbens-area_frac_csf_mf_mean   \n",
       "0                               0.076892  \\\n",
       "\n",
       "   right-accumbens-area_frac_csf_mf_std   \n",
       "0                              0.136489  \\\n",
       "\n",
       "   right-accumbens-area_frac_csf_mf_skew   \n",
       "0                               0.014051  \\\n",
       "\n",
       "   right-accumbens-area_frac_csf_mf_kurt  \n",
       "0                               0.012932  \n",
       "\n",
       "[1 rows x 1656 columns]"
      ]
     },
     "execution_count": 21,
     "metadata": {},
     "output_type": "execute_result"
    }
   ],
   "source": [
    "df = pd.read_csv(\"%s/dataset.csv\" % stats_path)\n",
    "\n",
    "df"
   ]
  },
  {
   "cell_type": "code",
   "execution_count": 24,
   "metadata": {},
   "outputs": [
    {
     "data": {
      "text/plain": [
       "-7.973509627576786e-05"
      ]
     },
     "execution_count": 24,
     "metadata": {},
     "output_type": "execute_result"
    }
   ],
   "source": []
  }
 ],
 "metadata": {
  "kernelspec": {
   "display_name": "dMRI",
   "language": "python",
   "name": "python3"
  },
  "language_info": {
   "codemirror_mode": {
    "name": "ipython",
    "version": 3
   },
   "file_extension": ".py",
   "mimetype": "text/x-python",
   "name": "python",
   "nbconvert_exporter": "python",
   "pygments_lexer": "ipython3",
   "version": "3.9.16"
  },
  "orig_nbformat": 4
 },
 "nbformat": 4,
 "nbformat_minor": 2
}
