{
 "cells": [
  {
   "cell_type": "markdown",
   "metadata": {},
   "source": [
    "# Radiomics analysis"
   ]
  },
  {
   "cell_type": "code",
   "execution_count": 337,
   "metadata": {},
   "outputs": [],
   "source": [
    "import pandas as pd\n",
    "import matplotlib.pyplot as plt\n",
    "import seaborn as sns\n",
    "import os\n",
    "import numpy as np\n",
    "import fastcluster\n",
    "import json\n",
    "import itertools\n",
    "\n",
    "from scipy import stats\n",
    "from sklearn.feature_selection import VarianceThreshold, RFECV\n",
    "from sklearn.preprocessing import StandardScaler\n",
    "from sklearn.svm import SVC, LinearSVC\n",
    "from sklearn.linear_model import LogisticRegression\n",
    "from sklearn.metrics import make_scorer\n",
    "from sklearn.pipeline import Pipeline\n",
    "from sklearn.model_selection import cross_validate\n",
    "from sklearn.decomposition import PCA\n",
    "from sklearn.discriminant_analysis import LinearDiscriminantAnalysis\n",
    "from statsmodels.stats.multitest import fdrcorrection, multipletests\n",
    "from mlxtend.feature_selection import SequentialFeatureSelector as SFS\n",
    "from mlxtend.plotting import plot_sequential_feature_selection as plot_sfs\n",
    "from tqdm import tqdm\n",
    "from tools_analysis import auc_and_f1\n",
    "\n",
    "ds_path = \"../study/stats/datasetRadiomics.csv\""
   ]
  },
  {
   "cell_type": "code",
   "execution_count": 338,
   "metadata": {},
   "outputs": [
    {
     "data": {
      "text/plain": [
       "(17, 1512458)"
      ]
     },
     "execution_count": 338,
     "metadata": {},
     "output_type": "execute_result"
    }
   ],
   "source": [
    "df = pd.read_csv(ds_path, index_col=\"ID\")\n",
    "df = df.drop([\"VNSLC_16\", \"VNSLC_19\"])\n",
    "df.shape"
   ]
  },
  {
   "cell_type": "markdown",
   "metadata": {},
   "source": [
    "[roi_name]\\_[metric]\\_[image]\\_[feature] "
   ]
  },
  {
   "cell_type": "code",
   "execution_count": 5,
   "metadata": {},
   "outputs": [],
   "source": [
    "def separateDFs(df, which=\"resp\"):\n",
    "    y1 = df[which]\n",
    "    X = df.drop([\"resp\", \"respPart\"], axis=1)\n",
    "    print(X.shape)\n",
    "\n",
    "    a = X.isna().any(axis=0)\n",
    "    # X1 is the first ds\n",
    "    X1 = X.drop(a[a==True].index, axis=1)\n",
    "\n",
    "    print(X1.shape)\n",
    "\n",
    "    X2_1 = X.loc[:, a==True].drop(\"VNSLC_16\")\n",
    "    b = X2_1.isna().any(axis=0)\n",
    "    # X2 is the second ds\n",
    "    X2 = X2_1.drop(b[b==True].index, axis=1)\n",
    "    y2 = y1.drop(\"VNSLC_16\")\n",
    "    print(X2.shape)\n",
    "\n",
    "    # X3 is the third ds\n",
    "    X3 = X2_1.loc[:, b==True].drop(\"VNSLC_19\")\n",
    "    y3 = y2.drop(\"VNSLC_19\")\n",
    "    print(X3.shape)\n",
    "\n",
    "    return X1, y1, X2, y2, X3, y3"
   ]
  },
  {
   "cell_type": "markdown",
   "metadata": {},
   "source": [
    "# Filtering"
   ]
  },
  {
   "cell_type": "markdown",
   "metadata": {},
   "source": [
    "##### Remove duplicate"
   ]
  },
  {
   "cell_type": "code",
   "execution_count": 339,
   "metadata": {},
   "outputs": [
    {
     "data": {
      "text/plain": [
       "(17, 785247)"
      ]
     },
     "execution_count": 339,
     "metadata": {},
     "output_type": "execute_result"
    }
   ],
   "source": [
    "df_duplicates = df.T.drop_duplicates().T\n",
    "df_duplicates.shape"
   ]
  },
  {
   "cell_type": "markdown",
   "metadata": {},
   "source": [
    "##### Variance threshold"
   ]
  },
  {
   "cell_type": "code",
   "execution_count": 480,
   "metadata": {},
   "outputs": [
    {
     "name": "stdout",
     "output_type": "stream",
     "text": [
      "(19, 786185)\n",
      "(19, 464538)\n",
      "(18, 307624)\n",
      "(17, 14023)\n"
     ]
    }
   ],
   "source": [
    "X1, y1, X2, y2, X3, y3 = separateDFs(df_duplicates)"
   ]
  },
  {
   "cell_type": "code",
   "execution_count": 481,
   "metadata": {},
   "outputs": [
    {
     "data": {
      "text/plain": [
       "(19, 786135)"
      ]
     },
     "execution_count": 481,
     "metadata": {},
     "output_type": "execute_result"
    }
   ],
   "source": [
    "X_selected = []\n",
    "\n",
    "for X in [X1, X2, X3]:\n",
    "    varThresh = VarianceThreshold()\n",
    "    varThresh.fit_transform(X)\n",
    "    selected_feature_indices = varThresh.get_support(indices=True)\n",
    "    X_selected.append(X.iloc[:, selected_feature_indices])\n",
    "\n",
    "df_selected = pd.concat([df[\"resp\"], df[\"respPart\"], X_selected[0], X_selected[1], X_selected[2]], axis=1)\n",
    "df_selected.shape"
   ]
  },
  {
   "cell_type": "markdown",
   "metadata": {},
   "source": [
    "##### Mannwhiten"
   ]
  },
  {
   "cell_type": "code",
   "execution_count": 482,
   "metadata": {},
   "outputs": [],
   "source": [
    "X_resp = df_selected[df[\"resp\"]==1]\n",
    "X_non = df_selected[df[\"resp\"]==0]\n",
    "res_mannwhitneyu = pd.DataFrame(stats.mannwhitneyu(X_resp, X_non, nan_policy=\"omit\").pvalue, index=df_selected.columns)"
   ]
  },
  {
   "cell_type": "code",
   "execution_count": 340,
   "metadata": {},
   "outputs": [
    {
     "data": {
      "text/plain": [
       "ID\n",
       "VNSLC_01     True\n",
       "VNSLC_02     True\n",
       "VNSLC_03     True\n",
       "VNSLC_04     True\n",
       "VNSLC_06    False\n",
       "VNSLC_07     True\n",
       "VNSLC_09     True\n",
       "VNSLC_10     True\n",
       "VNSLC_11     True\n",
       "VNSLC_12     True\n",
       "VNSLC_13    False\n",
       "VNSLC_14     True\n",
       "VNSLC_15     True\n",
       "VNSLC_17    False\n",
       "VNSLC_18    False\n",
       "VNSLC_22    False\n",
       "VNSLC_23    False\n",
       "Name: resp, dtype: bool"
      ]
     },
     "execution_count": 340,
     "metadata": {},
     "output_type": "execute_result"
    }
   ],
   "source": [
    "df[\"resp\"]==1"
   ]
  },
  {
   "cell_type": "code",
   "execution_count": 483,
   "metadata": {},
   "outputs": [
    {
     "data": {
      "text/plain": [
       "(19, 38650)"
      ]
     },
     "execution_count": 483,
     "metadata": {},
     "output_type": "execute_result"
    }
   ],
   "source": [
    "temp = res_mannwhitneyu>0.05\n",
    "features_to_remove = temp[temp == True].dropna().index\n",
    "df_mannwhiten = df_selected.drop(features_to_remove,axis=1)\n",
    "df_mannwhiten.shape"
   ]
  },
  {
   "cell_type": "markdown",
   "metadata": {},
   "source": [
    "##### Kruskal"
   ]
  },
  {
   "cell_type": "code",
   "execution_count": 484,
   "metadata": {},
   "outputs": [],
   "source": [
    "X_resp= df_mannwhiten[df[\"respPart\"]==2]\n",
    "X_respPart = df_mannwhiten[df[\"respPart\"]==1]\n",
    "X_non = df_mannwhiten[df[\"respPart\"]==0]\n",
    "res_kruskal = pd.DataFrame(stats.kruskal(X_non, X_respPart, X_resp, nan_policy=\"omit\", axis=0).pvalue, index=df_mannwhiten.columns)"
   ]
  },
  {
   "cell_type": "code",
   "execution_count": 485,
   "metadata": {},
   "outputs": [
    {
     "data": {
      "text/plain": [
       "(19, 18288)"
      ]
     },
     "execution_count": 485,
     "metadata": {},
     "output_type": "execute_result"
    }
   ],
   "source": [
    "temp = res_kruskal>0.05\n",
    "features_to_remove = temp[temp == True].dropna().index\n",
    "df_kruskal = df_mannwhiten.drop(features_to_remove,axis=1)\n",
    "df_kruskal.shape"
   ]
  },
  {
   "cell_type": "markdown",
   "metadata": {},
   "source": [
    "##### Outlier removal"
   ]
  },
  {
   "cell_type": "code",
   "execution_count": 486,
   "metadata": {},
   "outputs": [
    {
     "data": {
      "text/plain": [
       "(19, 10566)"
      ]
     },
     "execution_count": 486,
     "metadata": {},
     "output_type": "execute_result"
    }
   ],
   "source": [
    "features_to_remove = []\n",
    "\n",
    "for i in [0, 1, 2]:\n",
    "    df_curr = df_kruskal[df[\"respPart\"]==i]\n",
    "    z_scores_abs = abs((df_curr - df_curr.mean())/df_curr.std())\n",
    "\n",
    "    features_with_outliers = (z_scores_abs >= 2).any(axis=0)\n",
    "    features_to_remove_curr = features_with_outliers[features_with_outliers == True].dropna().index\n",
    "\n",
    "    features_to_remove = [*features_to_remove, *features_to_remove_curr]\n",
    "\n",
    "df_outliers = df_kruskal.drop(features_to_remove, axis=1)\n",
    "df_outliers.shape"
   ]
  },
  {
   "cell_type": "markdown",
   "metadata": {},
   "source": [
    "##### Kurtosis filtering"
   ]
  },
  {
   "cell_type": "code",
   "execution_count": 487,
   "metadata": {},
   "outputs": [
    {
     "data": {
      "text/plain": [
       "(19, 5709)"
      ]
     },
     "execution_count": 487,
     "metadata": {},
     "output_type": "execute_result"
    }
   ],
   "source": [
    "res_kurtosis = pd.DataFrame(stats.kurtosis(df_outliers, axis=0, bias=False, nan_policy=\"omit\"), index=df_outliers.columns)\n",
    "temp = (res_kurtosis>2) | (res_kurtosis<-0.5)\n",
    "features_to_remove = temp[temp == True].dropna().index\n",
    "df_kurtosis = df_outliers.drop(features_to_remove,axis=1)\n",
    "df_kurtosis = pd.concat([df[[\"resp\", \"respPart\"]], df_kurtosis], axis=1)\n",
    "df_kurtosis.shape"
   ]
  },
  {
   "cell_type": "markdown",
   "metadata": {},
   "source": [
    "##### Remove redundant"
   ]
  },
  {
   "cell_type": "code",
   "execution_count": 494,
   "metadata": {},
   "outputs": [
    {
     "name": "stdout",
     "output_type": "stream",
     "text": [
      "1593\n"
     ]
    },
    {
     "data": {
      "text/plain": [
       "(19, 4116)"
      ]
     },
     "execution_count": 494,
     "metadata": {},
     "output_type": "execute_result"
    }
   ],
   "source": [
    "corr_matrix = df_kurtosis.corr().abs()\n",
    "\n",
    "upper = corr_matrix.where(np.triu(np.ones(corr_matrix.shape), k=1).astype(\"bool\"))\n",
    "\n",
    "to_drop = [column for column in upper.columns if any(upper[column]>=0.99)]\n",
    "print(len(to_drop))\n",
    "\n",
    "df_redundant = df_kurtosis.drop(to_drop, axis=1)\n",
    "df_redundant.shape\n"
   ]
  },
  {
   "cell_type": "code",
   "execution_count": 495,
   "metadata": {},
   "outputs": [
    {
     "name": "stderr",
     "output_type": "stream",
     "text": [
      "100%|██████████| 5709/5709 [01:47<00:00, 53.32it/s] "
     ]
    },
    {
     "name": "stdout",
     "output_type": "stream",
     "text": [
      "1593\n"
     ]
    },
    {
     "name": "stderr",
     "output_type": "stream",
     "text": [
      "\n"
     ]
    }
   ],
   "source": [
    "c = 0\n",
    "correlated_features = []\n",
    "for column in tqdm(upper.columns):\n",
    "    temp = upper[column].isna() == False\n",
    "    temp = temp[temp==True].index\n",
    "    to_remove=False\n",
    "    for col in temp:\n",
    "        if upper[column][col]>=0.99:\n",
    "            to_remove=True\n",
    "            correlated_features.append((column, col, upper[column][col]))\n",
    "    if to_remove:\n",
    "        c += 1\n",
    "\n",
    "correlated_features_df = pd.DataFrame(correlated_features)\n",
    "print(c)"
   ]
  },
  {
   "cell_type": "code",
   "execution_count": 496,
   "metadata": {},
   "outputs": [
    {
     "data": {
      "text/plain": [
       "<seaborn.axisgrid.FacetGrid at 0x7fdc233c3fd0>"
      ]
     },
     "execution_count": 496,
     "metadata": {},
     "output_type": "execute_result"
    },
    {
     "data": {
      "image/png": "[encoded data removed]",
      "text/plain": [
       "<Figure size 500x500 with 1 Axes>"
      ]
     },
     "metadata": {},
     "output_type": "display_data"
    }
   ],
   "source": [
    "sns.lmplot(df_duplicates, x=\"Right-Putamen_odi_squareroot_firstorder_RobustMeanAbsoluteDeviation\", y=\"Right-Putamen_odi_squareroot_firstorder_MeanAbsoluteDeviation\")"
   ]
  },
  {
   "cell_type": "code",
   "execution_count": 503,
   "metadata": {},
   "outputs": [],
   "source": [
    "df_redundant.to_csv(\"../study/stats/datasetRadiomicsFiltered.csv\")"
   ]
  },
  {
   "cell_type": "code",
   "execution_count": 6,
   "metadata": {},
   "outputs": [
    {
     "data": {
      "text/plain": [
       "(19, 4116)"
      ]
     },
     "execution_count": 6,
     "metadata": {},
     "output_type": "execute_result"
    }
   ],
   "source": [
    "df_redundant = pd.read_csv(\"../study/stats/datasetRadiomicsFiltered.csv\", index_col=\"ID\")\n",
    "df_redundant.shape"
   ]
  },
  {
   "cell_type": "markdown",
   "metadata": {},
   "source": [
    "# Clustering"
   ]
  },
  {
   "cell_type": "code",
   "execution_count": 505,
   "metadata": {},
   "outputs": [],
   "source": [
    "roi_name = [\n",
    "    \"Thalamus\",\n",
    "    \"Hippocampus\",\n",
    "    \"Amygdala\",\n",
    "    \"Accumbens-area\",\n",
    "    \"Putamen\", \n",
    "    \"Pallidum\",\n",
    "    \"Caudate\",\n",
    "]\n",
    "\n",
    "tract_name = [\n",
    "    \"acomm\",\n",
    "    \"cc.bodyc\",\n",
    "    \"cc.bodyp\",\n",
    "    \"cc.bodypf\",\n",
    "    \"cc.bodypm\",\n",
    "    \"cc.bodyt\",\n",
    "    \"cc.genu\",\n",
    "    \"cc.rostrum\",\n",
    "    \"cc.splenium\",\n",
    "    \"lh.af\",\n",
    "    \"lh.ar\",\n",
    "    \"lh.atr\",\n",
    "    \"lh.cbd\",\n",
    "    \"lh.cbv\",\n",
    "    \"lh.cst\",\n",
    "    \"lh.emc\",\n",
    "    \"lh.fat\",\n",
    "    \"lh.fx\",\n",
    "    \"lh.ilf\",\n",
    "    \"lh.mlf\",\n",
    "    \"lh.or\",\n",
    "    \"lh.slf1\",\n",
    "    \"lh.slf2\",\n",
    "    \"lh.slf3\",\n",
    "    \"lh.uf\",\n",
    "    \"mcp\",\n",
    "    \"lh.af\",\n",
    "    \"rh.ar\",\n",
    "    \"rh.atr\",\n",
    "    \"rh.cbd\",\n",
    "    \"rh.cbv\",\n",
    "    \"rh.cst\",\n",
    "    \"rh.emc\",\n",
    "    \"rh.fat\",\n",
    "    \"rh.fx\",\n",
    "    \"rh.ilf\",\n",
    "    \"rh.mlf\",\n",
    "    \"rh.or\",\n",
    "    \"rh.slf1\",\n",
    "    \"rh.slf2\",\n",
    "    \"rh.slf3\",\n",
    "    \"rh.uf\",\n",
    "    \"mcp\"\n",
    "]"
   ]
  },
  {
   "cell_type": "code",
   "execution_count": 506,
   "metadata": {},
   "outputs": [],
   "source": [
    "def getDF(df, feature):\n",
    "    df.drop([\"resp\", \"respPart\"], axis=1)\n",
    "    df_filtered = df.filter(regex=feature)\n",
    "    areNaN = df_filtered.isna().any(axis=1)\n",
    "    to_remove = areNaN[areNaN == True].index\n",
    "    return df_filtered.drop(to_remove), to_remove"
   ]
  },
  {
   "cell_type": "code",
   "execution_count": 507,
   "metadata": {},
   "outputs": [],
   "source": [
    "lut = dict(zip([0, 1, 2], \"ryg\"))\n",
    "row_colors = df_redundant[\"respPart\"].map(lut)\n",
    "\n",
    "image_types = {\n",
    "    \"original\"      : \"blue\",\n",
    "    \"exponential\"   : \"orange\",\n",
    "    \"gradient\"      : \"green\",\n",
    "    \"lbp-2D\"        : \"red\",\n",
    "    \"lbp-3D\"        : \"purple\",\n",
    "    \"log\"           : \"brown\",\n",
    "    \"logarithm\"     : \"pink\",\n",
    "    \"square\"        : \"gray\",\n",
    "    \"squareroot\"    : \"olive\",\n",
    "    \"wavelet\"       : \"cyan\"\n",
    "}\n",
    "\n",
    "def mapping_func(v):\n",
    "    for image_type in lut.keys():\n",
    "        if image_type in v:\n",
    "            return lut[image_type]\n",
    "    return \"k\"\n",
    "\n",
    "lut = image_types\n",
    "col_colors_image = pd.DataFrame(df_redundant.columns.map(mapping_func)).T\n",
    "col_colors_image.columns = df_redundant.columns\n",
    "col_colors_image = col_colors_image\n",
    "\n",
    "metrics = {\n",
    "    \"FA\"    : \"red\",\n",
    "    \"AD\"    : \"red\",\n",
    "    \"RD\"    : \"red\",\n",
    "    \"MD\"    : \"red\",\n",
    "    \"icvf\"  : \"blue\",\n",
    "    \"odi\"   : \"blue\",\n",
    "    \"fextra\": \"blue\",\n",
    "    \"fiso\"  : \"blue\" ,\n",
    "    \"wFA\"   : \"yellow\",\n",
    "    \"wMD\"   : \"yellow\",\n",
    "    \"wAD\"   : \"yellow\",\n",
    "    \"wRD\"   : \"yellow\",\n",
    "    \"frac_csf\": \"green\",\n",
    "    \"wfvf\"  : \"green\",\n",
    "    \"fvf_tot\": \"green\",\n",
    "    \"frac_csf\":\"green\",\n",
    "}\n",
    "\n",
    "lut = metrics\n",
    "col_colors_metrics = pd.DataFrame(df_redundant.columns.map(mapping_func)).T\n",
    "col_colors_metrics.columns = df_redundant.columns\n",
    "col_colors_metrics = col_colors_metrics\n",
    "\n",
    "col_colors = pd.concat([col_colors_image, col_colors_metrics], axis=0, ignore_index=True)\n",
    "col_colors.index = [\"image_type\", \"model_type\"]"
   ]
  },
  {
   "cell_type": "code",
   "execution_count": 508,
   "metadata": {},
   "outputs": [],
   "source": [
    "method = \"average\"\n",
    "\n",
    "if not os.path.isdir(f\"../imgs/clustering/roi/\"):\n",
    "    os.mkdir(f\"../imgs/clustering/roi/\")\n",
    "\n",
    "if not os.path.isdir(f\"../imgs/clustering/roi/{method}/\"):\n",
    "    os.mkdir(f\"../imgs/clustering/roi/{method}/\")\n",
    "\n",
    "for mask in roi_name:\n",
    "    for side in [\"Left\", \"Right\"]:\n",
    "        # print(side, mask)\n",
    "\n",
    "        regex = f\"{side}-{mask}\"\n",
    "        df, to_remove = getDF(df_redundant, regex)\n",
    "        col_colors_filtered = col_colors.filter(regex=regex).T\n",
    "\n",
    "        sns.clustermap(df, row_colors=row_colors.drop(to_remove), col_colors=col_colors_filtered, z_score=1, method=method, robust=True, xticklabels=False)\n",
    "        plt.savefig(f\"../imgs/clustering/roi/{method}/{mask}-{side}-{method}.png\")\n",
    "\n",
    "        del df\n",
    "        del col_colors_filtered\n",
    "        plt.close()\n",
    "\n",
    "for mask in tract_name:\n",
    "    # print(mask)\n",
    "\n",
    "    regex = f\"{mask}\"\n",
    "    df, to_remove = getDF(df_redundant, regex)\n",
    "    col_colors_filtered = col_colors.filter(regex=regex).T\n",
    "\n",
    "    sns.clustermap(df, row_colors=row_colors.drop(to_remove), col_colors=col_colors_filtered, z_score=1, method=method, robust=True, xticklabels=False)\n",
    "    mask_fields = mask.split(\".\")\n",
    "    if len(mask_fields) == 1:\n",
    "        plt.savefig(f\"../imgs/clustering/roi/{method}/{mask}-{method}.png\")\n",
    "    else:\n",
    "        plt.savefig(f\"../imgs/clustering/roi/{method}/{mask_fields[1]}-{mask_fields[0]}-{method}.png\")\n",
    "\n",
    "    del df\n",
    "    del col_colors_filtered\n",
    "    plt.close()"
   ]
  },
  {
   "cell_type": "code",
   "execution_count": 509,
   "metadata": {},
   "outputs": [],
   "source": [
    "method = \"average\"\n",
    "\n",
    "if not os.path.isdir(f\"../imgs/clustering/metrics/\"):\n",
    "    os.mkdir(f\"../imgs/clustering/metrics/\")\n",
    "\n",
    "if not os.path.isdir(f\"../imgs/clustering/metrics/{method}/\"):\n",
    "    os.mkdir(f\"../imgs/clustering/metrics/{method}/\")\n",
    "\n",
    "for metric in metrics.keys():\n",
    "    regex = f\"{metric}\"\n",
    "    df, to_remove = getDF(df_redundant, regex)\n",
    "    col_colors_filtered = col_colors.filter(regex=regex).T\n",
    "\n",
    "    sns.clustermap(df, row_colors=row_colors.drop(to_remove), col_colors=col_colors_filtered, z_score=1, method=method, robust=True, xticklabels=False)\n",
    "\n",
    "    plt.savefig(f\"../imgs/clustering/metrics/{method}/{metric}.png\")\n",
    "    \n",
    "    del df\n",
    "    del col_colors_filtered\n",
    "    plt.close()\n",
    "\n",
    "for image_type in image_types.keys():\n",
    "    regex = f\"{image_type}\"\n",
    "    df, to_remove = getDF(df_redundant, regex)\n",
    "    col_colors_filtered = col_colors.filter(regex=regex).T\n",
    "\n",
    "    sns.clustermap(df, row_colors=row_colors.drop(to_remove), col_colors=col_colors_filtered, z_score=1, method=method, robust=True, xticklabels=False)\n",
    "\n",
    "    plt.savefig(f\"../imgs/clustering/metrics/{method}/{image_type}.png\")\n",
    "    \n",
    "    del df\n",
    "    del col_colors_filtered\n",
    "    plt.close()"
   ]
  },
  {
   "cell_type": "markdown",
   "metadata": {},
   "source": [
    "# Score estimation with Cross Validation"
   ]
  },
  {
   "cell_type": "code",
   "execution_count": 287,
   "metadata": {},
   "outputs": [],
   "source": [
    "def estimateScoresLogReg(X, y, pca=False, lda=False, folds=3):\n",
    "    isBinary = True if y.unique().size == 2 else False\n",
    "\n",
    "    auc_str = \"roc_auc\" if isBinary else \"roc_auc_ovr_weighted\"\n",
    "    f1_str = \"f1\" if isBinary else \"f1_weighted\"\n",
    "\n",
    "    logReg = LogisticRegression(\n",
    "        C=1e-6,\n",
    "        class_weight=\"balanced\",\n",
    "        random_state=7,\n",
    "        n_jobs=-1,\n",
    "        max_iter=10000\n",
    "    )\n",
    "\n",
    "    pipe_dict = {\n",
    "        \"scaler\": StandardScaler(),\n",
    "        \"pca\": PCA(\n",
    "            n_components=2,\n",
    "            whiten=True,\n",
    "            svd_solver=\"full\",\n",
    "            random_state=7\n",
    "        ),\n",
    "        \"lda\": LinearDiscriminantAnalysis(\n",
    "            n_components=2\n",
    "        ),\n",
    "        \"estimator\": logReg,\n",
    "    }\n",
    "\n",
    "    if pca == False:\n",
    "        del pipe_dict[\"pca\"]\n",
    "\n",
    "    if lda == False:\n",
    "        del pipe_dict[\"lda\"]\n",
    "\n",
    "    cv = cross_validate(\n",
    "        Pipeline(list(pipe_dict.items())),\n",
    "        X, y,\n",
    "        scoring=(auc_str, f1_str, \"balanced_accuracy\", \"neg_brier_score\", \"neg_log_loss\") if isBinary else (auc_str, f1_str, \"balanced_accuracy\", \"neg_log_loss\"),\n",
    "        cv=folds,\n",
    "        n_jobs=-1,\n",
    "    )\n",
    "\n",
    "    approx_auc = cv[f\"test_{auc_str}\"].mean()\n",
    "    approx_f1 = cv[f\"test_{f1_str}\"].mean()\n",
    "    print(\"roc_auc + f1:\\t%.3f\\t(%.3f,\\t%.3f)\" % (approx_auc + approx_f1, approx_auc, approx_f1))\n",
    "\n",
    "    approx_acc = cv[\"test_balanced_accuracy\"].mean()\n",
    "    print(\"accuracy:\\t%.3f\" % (approx_acc))\n",
    "\n",
    "    if isBinary:\n",
    "        print(\"Brier:\\t\\t%.3f\" % cv[\"test_neg_brier_score\"].mean())\n",
    "    print(\"LogLoss:\\t%.3f\" % cv[\"test_neg_log_loss\"].mean())\n"
   ]
  },
  {
   "cell_type": "markdown",
   "metadata": {},
   "source": [
    "# Feature selection (Multivariate)\n",
    "\n",
    "We are going to use a Recoursive Feature Selection to keep the just amount of features to correctly classify the output"
   ]
  },
  {
   "cell_type": "code",
   "execution_count": 326,
   "metadata": {},
   "outputs": [],
   "source": [
    "def fitLinearSVM(X, y, C=1e-6, min_features_to_select=1, folds=3):\n",
    "    recursive_feature_elimination_svm = RFECV(\n",
    "        Pipeline([\n",
    "            (\"scaler\", StandardScaler()),\n",
    "            (\"svm\", SVC(\n",
    "                C=C,\n",
    "                kernel=\"linear\",\n",
    "                class_weight=\"balanced\",\n",
    "            )),\n",
    "        ]),\n",
    "        min_features_to_select=min_features_to_select,\n",
    "        cv=folds,\n",
    "        scoring=make_scorer(auc_and_f1, needs_threshold=True),\n",
    "        n_jobs=-1,\n",
    "        importance_getter=\"named_steps.svm.coef_\" # Because of the pipe\n",
    "    )\n",
    "    recursive_feature_elimination_svm.fit(X, y)\n",
    "    return recursive_feature_elimination_svm\n",
    "\n",
    "def fitLogReg(X, y, C=1e-6, min_features_to_select=1, folds=3):\n",
    "    recursive_feature_elimination_logreg = RFECV(\n",
    "        Pipeline([\n",
    "            (\"scaler\", StandardScaler()),\n",
    "            (\"logreg\", LogisticRegression(\n",
    "                C=C,\n",
    "                class_weight=\"balanced\",\n",
    "                random_state=7,\n",
    "                n_jobs=-1,\n",
    "                max_iter=10000\n",
    "            ))\n",
    "        ]),\n",
    "        min_features_to_select=min_features_to_select,\n",
    "        cv=folds,\n",
    "        # scoring=make_scorer(auc_and_f1, needs_proba=True),\n",
    "        scoring=\"neg_brier_score\",\n",
    "        n_jobs=-1,\n",
    "        importance_getter=\"named_steps.logreg.coef_\" # Because of the pipe\n",
    "    )\n",
    "\n",
    "    recursive_feature_elimination_logreg.fit(X, y)\n",
    "    return recursive_feature_elimination_logreg\n",
    "\n",
    "def printScoresByFeature(rfecv, min, max, min_selected=1,):\n",
    "    n_scores = len(rfecv.cv_results_[\"mean_test_score\"][min:max])\n",
    "    plt.figure()\n",
    "    plt.xlabel(\"Number of features selected\")\n",
    "    plt.ylabel(\"Mean test accuracy\")\n",
    "    plt.errorbar(\n",
    "        range(min_selected, n_scores + min_selected),\n",
    "        rfecv.cv_results_[\"mean_test_score\"][min:max],\n",
    "        yerr=rfecv.cv_results_[\"std_test_score\"][min:max],\n",
    "    )\n",
    "    plt.title(\"Recursive Feature Elimination \\nwith correlated features\")\n",
    "    plt.show()"
   ]
  },
  {
   "cell_type": "markdown",
   "metadata": {},
   "source": [
    "#### RFE"
   ]
  },
  {
   "cell_type": "markdown",
   "metadata": {},
   "source": [
    "##### Multiclass"
   ]
  },
  {
   "cell_type": "code",
   "execution_count": 327,
   "metadata": {},
   "outputs": [
    {
     "name": "stdout",
     "output_type": "stream",
     "text": [
      "(19, 4114)\n",
      "(19, 2394)\n",
      "(18, 1673)\n",
      "(17, 47)\n"
     ]
    },
    {
     "name": "stdout",
     "output_type": "stream",
     "text": [
      "roc_auc + f1:\t1.845\t(0.972,\t0.873)\n",
      "accuracy:\t0.852\n",
      "LogLoss:\t-1.095\n",
      "roc_auc + f1:\t1.919\t(0.975,\t0.944)\n",
      "accuracy:\t0.944\n",
      "LogLoss:\t-1.096\n",
      "roc_auc + f1:\t1.734\t(0.912,\t0.822)\n",
      "accuracy:\t0.852\n",
      "LogLoss:\t-1.099\n",
      "\n",
      "roc_auc + f1:\t1.975\t(0.975,\t1.000)\n",
      "accuracy:\t1.000\n",
      "LogLoss:\t-1.093\n",
      "(19, 4114)\n",
      "(19, 2394)\n",
      "(18, 1673)\n",
      "(17, 47)\n"
     ]
    }
   ],
   "source": [
    "X1, y1, X2, y2, X3, y3 = separateDFs(df_redundant, \"respPart\")\n",
    "\n",
    "estimateScoresLogReg(X1, y1)\n",
    "estimateScoresLogReg(X2, y2)\n",
    "estimateScoresLogReg(X3, y3)\n",
    "print()\n",
    "estimateScoresLogReg(df_redundant.drop([\"VNSLC_16\", \"VNSLC_19\"]).drop([\"resp\", \"respPart\"], axis=1), y3)\n",
    "\n",
    "X1, y1, X2, y2, X3, y3 = separateDFs(df_redundant, \"resp\")"
   ]
  },
  {
   "cell_type": "code",
   "execution_count": 286,
   "metadata": {},
   "outputs": [
    {
     "data": {
      "text/plain": [
       "(19, 147)"
      ]
     },
     "execution_count": 286,
     "metadata": {},
     "output_type": "execute_result"
    }
   ],
   "source": [
    "feature_selected = []\n",
    "\n",
    "for X, y in [(X1, y1), (X2, y2), (X3, y3)]:\n",
    "    recursive_feature_elimination_logreg = fitLogReg(X, y)\n",
    "\n",
    "    logreg_selected = recursive_feature_elimination_logreg.get_feature_names_out()\n",
    "\n",
    "    feature_selected = [*feature_selected, *logreg_selected]\n",
    "\n",
    "df_rfe_multi = df_redundant[feature_selected]\n",
    "df_rfe_multi = pd.concat([df_redundant[[\"resp\", \"respPart\"]], df_rfe_multi], axis=1)\n",
    "print(df_rfe_multi.shape)\n",
    "\n",
    "estimateScoresLogReg(df_rfe_multi.drop([\"VNSLC_16\", \"VNSLC_19\"]).drop([\"resp\", \"respPart\"], axis=1), y3)"
   ]
  },
  {
   "cell_type": "code",
   "execution_count": 328,
   "metadata": {},
   "outputs": [
    {
     "name": "stdout",
     "output_type": "stream",
     "text": [
      "(19, 4103)\n",
      "roc_auc + f1:\t2.000\t(1.000,\t1.000)\n",
      "accuracy:\t1.000\n",
      "Brier:\t\t-0.249\n",
      "LogLoss:\t-0.690\n"
     ]
    }
   ],
   "source": [
    "X = df_redundant.drop([\"VNSLC_16\", \"VNSLC_19\"]).drop([\"resp\", \"respPart\"], axis=1)\n",
    "y = df_redundant.drop([\"VNSLC_16\", \"VNSLC_19\"])[\"resp\"]\n",
    "\n",
    "recursive_feature_elimination_logreg = fitLogReg(X, y, folds=2)\n",
    "\n",
    "logreg_selected = recursive_feature_elimination_logreg.get_feature_names_out()\n",
    "\n",
    "df_rfe_full_bin = df_redundant[logreg_selected]\n",
    "df_rfe_full_bin = pd.concat([df_redundant[[\"resp\", \"respPart\"]], df_rfe_full_bin], axis=1)\n",
    "print(df_rfe_full_bin.shape)\n",
    "\n",
    "estimateScoresLogReg(df_rfe_full_bin.drop([\"VNSLC_16\", \"VNSLC_19\"]).drop([\"resp\", \"respPart\"], axis=1), df_rfe_full_bin.drop([\"VNSLC_16\", \"VNSLC_19\"])[\"resp\"], folds=2)"
   ]
  },
  {
   "cell_type": "markdown",
   "metadata": {},
   "source": [
    "#### SFS"
   ]
  },
  {
   "cell_type": "code",
   "execution_count": 178,
   "metadata": {},
   "outputs": [
    {
     "name": "stdout",
     "output_type": "stream",
     "text": [
      "(19, 1004)\n",
      "(19, 425)\n",
      "(18, 538)\n",
      "(17, 41)\n",
      "roc_auc + f1:\t2.000\t(1.000,\t1.000)\n",
      "accuracy:\t1.000\n",
      "Brier:\t\t-0.250\n",
      "LogLoss:\t-0.693\n",
      "roc_auc + f1:\t2.000\t(1.000,\t1.000)\n",
      "accuracy:\t1.000\n",
      "Brier:\t\t-0.250\n",
      "LogLoss:\t-0.693\n",
      "roc_auc + f1:\t2.000\t(1.000,\t1.000)\n",
      "accuracy:\t1.000\n",
      "Brier:\t\t-0.250\n",
      "LogLoss:\t-0.693\n",
      "\n",
      "roc_auc + f1:\t2.000\t(1.000,\t1.000)\n",
      "accuracy:\t1.000\n",
      "Brier:\t\t-0.250\n",
      "LogLoss:\t-0.692\n"
     ]
    }
   ],
   "source": [
    "X1, y1, X2, y2, X3, y3 = separateDFs(df_multivariate_multiclass, \"resp\")\n",
    "\n",
    "estimateScoresLogReg(X1, y1)\n",
    "estimateScoresLogReg(X2, y2)\n",
    "estimateScoresLogReg(X3, y3)\n",
    "print()\n",
    "estimateScoresLogReg(df_multivariate_multiclass.drop([\"VNSLC_16\", \"VNSLC_19\"]).drop([\"resp\", \"respPart\"], axis=1), y3)"
   ]
  },
  {
   "cell_type": "code",
   "execution_count": 310,
   "metadata": {},
   "outputs": [
    {
     "data": {
      "text/plain": [
       "(19, 12)"
      ]
     },
     "execution_count": 310,
     "metadata": {},
     "output_type": "execute_result"
    }
   ],
   "source": [
    "X_full   = df_rfe_full_bin.drop([\"VNSLC_16\", \"VNSLC_19\"]).drop([\"resp\", \"respPart\"], axis=1)\n",
    "y_bin    = df_rfe_full_bin.drop([\"VNSLC_16\", \"VNSLC_19\"])[\"resp\"]\n",
    "# y_multi  = df_rfe_full_bin.drop([\"VNSLC_16\", \"VNSLC_19\"])[\"respPart\"]\n",
    "\n",
    "logReg = LogisticRegression(\n",
    "    C=1e-6,\n",
    "    class_weight=\"balanced\",\n",
    "    random_state=7,\n",
    "    n_jobs=-1,\n",
    "    max_iter=10000\n",
    ")\n",
    "\n",
    "sfs = SFS(\n",
    "    logReg,\n",
    "    k_features=10,\n",
    "    forward=True,\n",
    "    floating=True,\n",
    "    # scoring=\"neg_log_loss\",\n",
    "    scoring=\"neg_brier_score\",\n",
    "    cv=2,\n",
    "    n_jobs=-1,\n",
    ")\n",
    "# sfs.fit(X_full,y_multi)\n",
    "sfs.fit(X_full, y_bin)\n",
    "\n",
    "df_sfs = df_rfe_full_bin[list(sfs.k_feature_names_)]\n",
    "df_sfs = pd.concat([df_rfe_full_bin[[\"resp\", \"respPart\"]], df_sfs], axis=1)\n",
    "df_sfs.shape"
   ]
  },
  {
   "cell_type": "code",
   "execution_count": 309,
   "metadata": {},
   "outputs": [
    {
     "name": "stdout",
     "output_type": "stream",
     "text": [
      "('Left-Caudate_MD_wavelet-HHL_glcm_Imc1', 'Left-Caudate_MD_wavelet-HHL_glcm_Imc2', 'Left-Caudate_MD_wavelet-HHL_ngtdm_Complexity', 'Left-Hippocampus_icvf_wavelet-LLL_firstorder_Minimum', 'Left-Putamen_frac_csf_mf_wavelet-LLL_firstorder_MeanAbsoluteDeviation', 'cc.rostrum_FA_wavelet-LLH_glrlm_HighGrayLevelRunEmphasis', 'lh.uf_MD_wavelet-LLH_glcm_Contrast', 'lh.uf_MD_wavelet-LLH_glcm_Correlation', 'lh.uf_MD_wavelet-LLH_glcm_DifferenceEntropy', 'lh.uf_MD_wavelet-LLH_glcm_Imc1', 'lh.uf_MD_wavelet-LLH_ngtdm_Contrast', 'rh.fat_wAD_lbp-2D_firstorder_Skewness')\n",
      "12\n"
     ]
    },
    {
     "data": {
      "text/plain": [
       "(<Figure size 640x480 with 1 Axes>,\n",
       " <AxesSubplot:xlabel='Number of Features', ylabel='Performance'>)"
      ]
     },
     "execution_count": 309,
     "metadata": {},
     "output_type": "execute_result"
    },
    {
     "data": {
      "image/png": "[encoded data removed]",
      "text/plain": [
       "<Figure size 640x480 with 1 Axes>"
      ]
     },
     "metadata": {},
     "output_type": "display_data"
    }
   ],
   "source": [
    "print(sfs.k_feature_names_)\n",
    "print(len(sfs.k_feature_names_))\n",
    "\n",
    "plot_sfs(sfs.get_metric_dict(), kind='std_dev')"
   ]
  },
  {
   "cell_type": "code",
   "execution_count": 307,
   "metadata": {},
   "outputs": [
    {
     "ename": "ModuleNotFoundError",
     "evalue": "No module named 'ipympl'",
     "output_type": "error",
     "traceback": [
      "\u001b[0;31m---------------------------------------------------------------------------\u001b[0m",
      "\u001b[0;31mModuleNotFoundError\u001b[0m                       Traceback (most recent call last)",
      "\u001b[1;32m/home/michele/Dropbox (Politecnico Di Torino Studenti)/thesis/code/Epilepsy-dMRI-VNS/src/analysisRadiomics.ipynb Cell 47\u001b[0m line \u001b[0;36m1\n\u001b[0;32m----> <a href='vscode-notebook-cell:/home/michele/Dropbox%20%28Politecnico%20Di%20Torino%20Studenti%29/thesis/code/Epilepsy-dMRI-VNS/src/analysisRadiomics.ipynb#Y521sZmlsZQ%3D%3D?line=0'>1</a>\u001b[0m get_ipython()\u001b[39m.\u001b[39;49mrun_line_magic(\u001b[39m'\u001b[39;49m\u001b[39mmatplotlib\u001b[39;49m\u001b[39m'\u001b[39;49m, \u001b[39m'\u001b[39;49m\u001b[39mwidget\u001b[39;49m\u001b[39m'\u001b[39;49m)\n\u001b[1;32m      <a href='vscode-notebook-cell:/home/michele/Dropbox%20%28Politecnico%20Di%20Torino%20Studenti%29/thesis/code/Epilepsy-dMRI-VNS/src/analysisRadiomics.ipynb#Y521sZmlsZQ%3D%3D?line=1'>2</a>\u001b[0m \u001b[39mimport\u001b[39;00m \u001b[39mmatplotlib\u001b[39;00m\u001b[39m.\u001b[39;00m\u001b[39mpyplot\u001b[39;00m \u001b[39mas\u001b[39;00m \u001b[39mplt\u001b[39;00m\n\u001b[1;32m      <a href='vscode-notebook-cell:/home/michele/Dropbox%20%28Politecnico%20Di%20Torino%20Studenti%29/thesis/code/Epilepsy-dMRI-VNS/src/analysisRadiomics.ipynb#Y521sZmlsZQ%3D%3D?line=2'>3</a>\u001b[0m \u001b[39mfrom\u001b[39;00m \u001b[39mmpl_toolkits\u001b[39;00m\u001b[39m.\u001b[39;00m\u001b[39mmplot3d\u001b[39;00m \u001b[39mimport\u001b[39;00m Axes3D\n",
      "File \u001b[0;32m~/anaconda3/envs/pyRadiomics/lib/python3.9/site-packages/IPython/core/interactiveshell.py:2432\u001b[0m, in \u001b[0;36mInteractiveShell.run_line_magic\u001b[0;34m(self, magic_name, line, _stack_depth)\u001b[0m\n\u001b[1;32m   2430\u001b[0m     kwargs[\u001b[39m'\u001b[39m\u001b[39mlocal_ns\u001b[39m\u001b[39m'\u001b[39m] \u001b[39m=\u001b[39m \u001b[39mself\u001b[39m\u001b[39m.\u001b[39mget_local_scope(stack_depth)\n\u001b[1;32m   2431\u001b[0m \u001b[39mwith\u001b[39;00m \u001b[39mself\u001b[39m\u001b[39m.\u001b[39mbuiltin_trap:\n\u001b[0;32m-> 2432\u001b[0m     result \u001b[39m=\u001b[39m fn(\u001b[39m*\u001b[39;49margs, \u001b[39m*\u001b[39;49m\u001b[39m*\u001b[39;49mkwargs)\n\u001b[1;32m   2434\u001b[0m \u001b[39m# The code below prevents the output from being displayed\u001b[39;00m\n\u001b[1;32m   2435\u001b[0m \u001b[39m# when using magics with decorator @output_can_be_silenced\u001b[39;00m\n\u001b[1;32m   2436\u001b[0m \u001b[39m# when the last Python token in the expression is a ';'.\u001b[39;00m\n\u001b[1;32m   2437\u001b[0m \u001b[39mif\u001b[39;00m \u001b[39mgetattr\u001b[39m(fn, magic\u001b[39m.\u001b[39mMAGIC_OUTPUT_CAN_BE_SILENCED, \u001b[39mFalse\u001b[39;00m):\n",
      "File \u001b[0;32m~/anaconda3/envs/pyRadiomics/lib/python3.9/site-packages/IPython/core/magics/pylab.py:99\u001b[0m, in \u001b[0;36mPylabMagics.matplotlib\u001b[0;34m(self, line)\u001b[0m\n\u001b[1;32m     97\u001b[0m     \u001b[39mprint\u001b[39m(\u001b[39m\"\u001b[39m\u001b[39mAvailable matplotlib backends: \u001b[39m\u001b[39m%s\u001b[39;00m\u001b[39m\"\u001b[39m \u001b[39m%\u001b[39m backends_list)\n\u001b[1;32m     98\u001b[0m \u001b[39melse\u001b[39;00m:\n\u001b[0;32m---> 99\u001b[0m     gui, backend \u001b[39m=\u001b[39m \u001b[39mself\u001b[39;49m\u001b[39m.\u001b[39;49mshell\u001b[39m.\u001b[39;49menable_matplotlib(args\u001b[39m.\u001b[39;49mgui\u001b[39m.\u001b[39;49mlower() \u001b[39mif\u001b[39;49;00m \u001b[39misinstance\u001b[39;49m(args\u001b[39m.\u001b[39;49mgui, \u001b[39mstr\u001b[39;49m) \u001b[39melse\u001b[39;49;00m args\u001b[39m.\u001b[39;49mgui)\n\u001b[1;32m    100\u001b[0m     \u001b[39mself\u001b[39m\u001b[39m.\u001b[39m_show_matplotlib_backend(args\u001b[39m.\u001b[39mgui, backend)\n",
      "File \u001b[0;32m~/anaconda3/envs/pyRadiomics/lib/python3.9/site-packages/IPython/core/interactiveshell.py:3621\u001b[0m, in \u001b[0;36mInteractiveShell.enable_matplotlib\u001b[0;34m(self, gui)\u001b[0m\n\u001b[1;32m   3617\u001b[0m         \u001b[39mprint\u001b[39m(\u001b[39m'\u001b[39m\u001b[39mWarning: Cannot change to a different GUI toolkit: \u001b[39m\u001b[39m%s\u001b[39;00m\u001b[39m.\u001b[39m\u001b[39m'\u001b[39m\n\u001b[1;32m   3618\u001b[0m                 \u001b[39m'\u001b[39m\u001b[39m Using \u001b[39m\u001b[39m%s\u001b[39;00m\u001b[39m instead.\u001b[39m\u001b[39m'\u001b[39m \u001b[39m%\u001b[39m (gui, \u001b[39mself\u001b[39m\u001b[39m.\u001b[39mpylab_gui_select))\n\u001b[1;32m   3619\u001b[0m         gui, backend \u001b[39m=\u001b[39m pt\u001b[39m.\u001b[39mfind_gui_and_backend(\u001b[39mself\u001b[39m\u001b[39m.\u001b[39mpylab_gui_select)\n\u001b[0;32m-> 3621\u001b[0m pt\u001b[39m.\u001b[39;49mactivate_matplotlib(backend)\n\u001b[1;32m   3622\u001b[0m configure_inline_support(\u001b[39mself\u001b[39m, backend)\n\u001b[1;32m   3624\u001b[0m \u001b[39m# Now we must activate the gui pylab wants to use, and fix %run to take\u001b[39;00m\n\u001b[1;32m   3625\u001b[0m \u001b[39m# plot updates into account\u001b[39;00m\n",
      "File \u001b[0;32m~/anaconda3/envs/pyRadiomics/lib/python3.9/site-packages/IPython/core/pylabtools.py:368\u001b[0m, in \u001b[0;36mactivate_matplotlib\u001b[0;34m(backend)\u001b[0m\n\u001b[1;32m    363\u001b[0m \u001b[39m# Due to circular imports, pyplot may be only partially initialised\u001b[39;00m\n\u001b[1;32m    364\u001b[0m \u001b[39m# when this function runs.\u001b[39;00m\n\u001b[1;32m    365\u001b[0m \u001b[39m# So avoid needing matplotlib attribute-lookup to access pyplot.\u001b[39;00m\n\u001b[1;32m    366\u001b[0m \u001b[39mfrom\u001b[39;00m \u001b[39mmatplotlib\u001b[39;00m \u001b[39mimport\u001b[39;00m pyplot \u001b[39mas\u001b[39;00m plt\n\u001b[0;32m--> 368\u001b[0m plt\u001b[39m.\u001b[39;49mswitch_backend(backend)\n\u001b[1;32m    370\u001b[0m plt\u001b[39m.\u001b[39mshow\u001b[39m.\u001b[39m_needmain \u001b[39m=\u001b[39m \u001b[39mFalse\u001b[39;00m\n\u001b[1;32m    371\u001b[0m \u001b[39m# We need to detect at runtime whether show() is called by the user.\u001b[39;00m\n\u001b[1;32m    372\u001b[0m \u001b[39m# For this, we wrap it into a decorator which adds a 'called' flag.\u001b[39;00m\n",
      "File \u001b[0;32m~/anaconda3/envs/pyRadiomics/lib/python3.9/site-packages/matplotlib/pyplot.py:276\u001b[0m, in \u001b[0;36mswitch_backend\u001b[0;34m(newbackend)\u001b[0m\n\u001b[1;32m    269\u001b[0m \u001b[39m# Backends are implemented as modules, but \"inherit\" default method\u001b[39;00m\n\u001b[1;32m    270\u001b[0m \u001b[39m# implementations from backend_bases._Backend.  This is achieved by\u001b[39;00m\n\u001b[1;32m    271\u001b[0m \u001b[39m# creating a \"class\" that inherits from backend_bases._Backend and whose\u001b[39;00m\n\u001b[1;32m    272\u001b[0m \u001b[39m# body is filled with the module's globals.\u001b[39;00m\n\u001b[1;32m    274\u001b[0m backend_name \u001b[39m=\u001b[39m cbook\u001b[39m.\u001b[39m_backend_module_name(newbackend)\n\u001b[0;32m--> 276\u001b[0m \u001b[39mclass\u001b[39;00m \u001b[39mbackend_mod\u001b[39;00m(matplotlib\u001b[39m.\u001b[39mbackend_bases\u001b[39m.\u001b[39m_Backend):\n\u001b[1;32m    277\u001b[0m     \u001b[39mlocals\u001b[39m()\u001b[39m.\u001b[39mupdate(\u001b[39mvars\u001b[39m(importlib\u001b[39m.\u001b[39mimport_module(backend_name)))\n\u001b[1;32m    279\u001b[0m required_framework \u001b[39m=\u001b[39m _get_required_interactive_framework(backend_mod)\n",
      "File \u001b[0;32m~/anaconda3/envs/pyRadiomics/lib/python3.9/site-packages/matplotlib/pyplot.py:277\u001b[0m, in \u001b[0;36mswitch_backend.<locals>.backend_mod\u001b[0;34m()\u001b[0m\n\u001b[1;32m    276\u001b[0m \u001b[39mclass\u001b[39;00m \u001b[39mbackend_mod\u001b[39;00m(matplotlib\u001b[39m.\u001b[39mbackend_bases\u001b[39m.\u001b[39m_Backend):\n\u001b[0;32m--> 277\u001b[0m     \u001b[39mlocals\u001b[39m()\u001b[39m.\u001b[39mupdate(\u001b[39mvars\u001b[39m(importlib\u001b[39m.\u001b[39;49mimport_module(backend_name)))\n",
      "File \u001b[0;32m~/anaconda3/envs/pyRadiomics/lib/python3.9/importlib/__init__.py:127\u001b[0m, in \u001b[0;36mimport_module\u001b[0;34m(name, package)\u001b[0m\n\u001b[1;32m    125\u001b[0m             \u001b[39mbreak\u001b[39;00m\n\u001b[1;32m    126\u001b[0m         level \u001b[39m+\u001b[39m\u001b[39m=\u001b[39m \u001b[39m1\u001b[39m\n\u001b[0;32m--> 127\u001b[0m \u001b[39mreturn\u001b[39;00m _bootstrap\u001b[39m.\u001b[39;49m_gcd_import(name[level:], package, level)\n",
      "File \u001b[0;32m<frozen importlib._bootstrap>:1030\u001b[0m, in \u001b[0;36m_gcd_import\u001b[0;34m(name, package, level)\u001b[0m\n",
      "File \u001b[0;32m<frozen importlib._bootstrap>:1007\u001b[0m, in \u001b[0;36m_find_and_load\u001b[0;34m(name, import_)\u001b[0m\n",
      "File \u001b[0;32m<frozen importlib._bootstrap>:972\u001b[0m, in \u001b[0;36m_find_and_load_unlocked\u001b[0;34m(name, import_)\u001b[0m\n",
      "File \u001b[0;32m<frozen importlib._bootstrap>:228\u001b[0m, in \u001b[0;36m_call_with_frames_removed\u001b[0;34m(f, *args, **kwds)\u001b[0m\n",
      "File \u001b[0;32m<frozen importlib._bootstrap>:1030\u001b[0m, in \u001b[0;36m_gcd_import\u001b[0;34m(name, package, level)\u001b[0m\n",
      "File \u001b[0;32m<frozen importlib._bootstrap>:1007\u001b[0m, in \u001b[0;36m_find_and_load\u001b[0;34m(name, import_)\u001b[0m\n",
      "File \u001b[0;32m<frozen importlib._bootstrap>:984\u001b[0m, in \u001b[0;36m_find_and_load_unlocked\u001b[0;34m(name, import_)\u001b[0m\n",
      "\u001b[0;31mModuleNotFoundError\u001b[0m: No module named 'ipympl'"
     ]
    }
   ],
   "source": [
    "%matplotlib widget\n",
    "import matplotlib.pyplot as plt\n",
    "from mpl_toolkits.mplot3d import Axes3D\n",
    "\n",
    "df = df_rfe_full_bin\n",
    "\n",
    "# colors = [\"red\", \"green\"]\n",
    "\n",
    "fig = plt.figure(figsize=(6,6))\n",
    "fig.set_size_inches(7,7)\n",
    "ax = fig.add_subplot(111, projection='3d')\n",
    "\n",
    "ax.set_title(\"Titolo di prova\")\n",
    "ax.set_xlabel(\"Left-Caudate_MD_wavelet-HHL_glcm_Imc2\")\n",
    "ax.set_ylabel(\"Left-Caudate_MD_wavelet-HHL_ngtdm_Complexity\")\n",
    "ax.set_zlabel(\"rh.fat_wAD_lbp-2D_firstorder_Skewness\")\n",
    "# ax.set_xlim(0, 50)\n",
    "# ax.set_ylim(0, 15)\n",
    "# ax.set_zlim(30, 80)\n",
    "# ax.set_xticks([10, 30, 50])\n",
    "# ax.grid(False)\n",
    "\n",
    "for i, lab in enumerate([\"nonResp\", \"resp\"]):\n",
    "    sub_df = df[df[\"resp\"] == i]\n",
    "    xs = sub_df[\"Left-Caudate_MD_wavelet-HHL_glcm_Imc2\"]\n",
    "    ys = sub_df[\"Left-Caudate_MD_wavelet-HHL_ngtdm_Complexity\"]\n",
    "    zs = sub_df[\"rh.fat_wAD_lbp-2D_firstorder_Skewness\"]\n",
    "\n",
    "    scatter = ax.scatter(xs, ys, zs, marker=\"o\", label=lab)\n",
    "    # c := cambia colore\n",
    "    # s := cambia dimensione del pallino (può anche dipendere da una variabile)\n",
    "\n",
    "\n",
    "ax.legend(loc=\"best\")\n",
    "\n",
    "# cb = plt.colorbar(scatter, pad=0.2)\n",
    "# cb.set_ticks([0, 1])\n",
    "# cb.set_ticklabels([\"nonResp\", \"Resp\"])\n",
    "\n",
    "plt.show()"
   ]
  },
  {
   "cell_type": "code",
   "execution_count": 312,
   "metadata": {},
   "outputs": [
    {
     "name": "stdout",
     "output_type": "stream",
     "text": [
      "roc_auc + f1:\t2.000\t(1.000,\t1.000)\n",
      "accuracy:\t1.000\n",
      "Brier:\t\t-0.250\n",
      "LogLoss:\t-0.693\n"
     ]
    }
   ],
   "source": [
    "X = df_sfs.drop([\"VNSLC_16\", \"VNSLC_19\"]).drop([\"resp\",\"respPart\"], axis=1)\n",
    "y = df_sfs.drop([\"VNSLC_16\", \"VNSLC_19\"])[\"resp\"]\n",
    "\n",
    "estimateScoresLogReg(X, y, folds=2)"
   ]
  },
  {
   "cell_type": "code",
   "execution_count": 107,
   "metadata": {},
   "outputs": [],
   "source": [
    "from contextlib import redirect_stdout, redirect_stderr, contextmanager, ExitStack\n",
    "import os\n",
    "\n",
    "@contextmanager\n",
    "def suppress(out=True, err=False):\n",
    "    with ExitStack() as stack:\n",
    "        with open(os.devnull, \"w\") as null:\n",
    "            if out:\n",
    "                stack.enter_context(redirect_stdout(null))\n",
    "            if err:\n",
    "                stack.enter_context(redirect_stderr(null))\n",
    "            yield"
   ]
  },
  {
   "cell_type": "code",
   "execution_count": 266,
   "metadata": {},
   "outputs": [
    {
     "ename": "KeyboardInterrupt",
     "evalue": "",
     "output_type": "error",
     "traceback": [
      "\u001b[0;31m---------------------------------------------------------------------------\u001b[0m",
      "\u001b[0;31mKeyboardInterrupt\u001b[0m                         Traceback (most recent call last)",
      "\u001b[1;32m/home/michele/Dropbox (Politecnico Di Torino Studenti)/thesis/code/Epilepsy-dMRI-VNS/src/analysisRadiomics.ipynb Cell 49\u001b[0m line \u001b[0;36m3\n\u001b[1;32m     <a href='vscode-notebook-cell:/home/michele/Dropbox%20%28Politecnico%20Di%20Torino%20Studenti%29/thesis/code/Epilepsy-dMRI-VNS/src/analysisRadiomics.ipynb#Y411sZmlsZQ%3D%3D?line=33'>34</a>\u001b[0m f1_str \u001b[39m=\u001b[39m \u001b[39m\"\u001b[39m\u001b[39mf1\u001b[39m\u001b[39m\"\u001b[39m \u001b[39mif\u001b[39;00m isBinary \u001b[39melse\u001b[39;00m \u001b[39m\"\u001b[39m\u001b[39mf1_weighted\u001b[39m\u001b[39m\"\u001b[39m\n\u001b[1;32m     <a href='vscode-notebook-cell:/home/michele/Dropbox%20%28Politecnico%20Di%20Torino%20Studenti%29/thesis/code/Epilepsy-dMRI-VNS/src/analysisRadiomics.ipynb#Y411sZmlsZQ%3D%3D?line=34'>35</a>\u001b[0m y \u001b[39m=\u001b[39m y_bin \u001b[39mif\u001b[39;00m isBinary \u001b[39melse\u001b[39;00m y_multi\n\u001b[0;32m---> <a href='vscode-notebook-cell:/home/michele/Dropbox%20%28Politecnico%20Di%20Torino%20Studenti%29/thesis/code/Epilepsy-dMRI-VNS/src/analysisRadiomics.ipynb#Y411sZmlsZQ%3D%3D?line=36'>37</a>\u001b[0m cv \u001b[39m=\u001b[39m cross_validate(\n\u001b[1;32m     <a href='vscode-notebook-cell:/home/michele/Dropbox%20%28Politecnico%20Di%20Torino%20Studenti%29/thesis/code/Epilepsy-dMRI-VNS/src/analysisRadiomics.ipynb#Y411sZmlsZQ%3D%3D?line=37'>38</a>\u001b[0m     Pipeline([\n\u001b[1;32m     <a href='vscode-notebook-cell:/home/michele/Dropbox%20%28Politecnico%20Di%20Torino%20Studenti%29/thesis/code/Epilepsy-dMRI-VNS/src/analysisRadiomics.ipynb#Y411sZmlsZQ%3D%3D?line=38'>39</a>\u001b[0m         (\u001b[39m\"\u001b[39;49m\u001b[39mscaler\u001b[39;49m\u001b[39m\"\u001b[39;49m, StandardScaler()),\n\u001b[1;32m     <a href='vscode-notebook-cell:/home/michele/Dropbox%20%28Politecnico%20Di%20Torino%20Studenti%29/thesis/code/Epilepsy-dMRI-VNS/src/analysisRadiomics.ipynb#Y411sZmlsZQ%3D%3D?line=39'>40</a>\u001b[0m         (\u001b[39m\"\u001b[39;49m\u001b[39mestimator\u001b[39;49m\u001b[39m\"\u001b[39;49m, logReg),\n\u001b[1;32m     <a href='vscode-notebook-cell:/home/michele/Dropbox%20%28Politecnico%20Di%20Torino%20Studenti%29/thesis/code/Epilepsy-dMRI-VNS/src/analysisRadiomics.ipynb#Y411sZmlsZQ%3D%3D?line=40'>41</a>\u001b[0m     ]),\n\u001b[1;32m     <a href='vscode-notebook-cell:/home/michele/Dropbox%20%28Politecnico%20Di%20Torino%20Studenti%29/thesis/code/Epilepsy-dMRI-VNS/src/analysisRadiomics.ipynb#Y411sZmlsZQ%3D%3D?line=41'>42</a>\u001b[0m     X, y,\n\u001b[1;32m     <a href='vscode-notebook-cell:/home/michele/Dropbox%20%28Politecnico%20Di%20Torino%20Studenti%29/thesis/code/Epilepsy-dMRI-VNS/src/analysisRadiomics.ipynb#Y411sZmlsZQ%3D%3D?line=42'>43</a>\u001b[0m     scoring\u001b[39m=\u001b[39;49m(auc_str, f1_str, \u001b[39m\"\u001b[39;49m\u001b[39mneg_brier_score\u001b[39;49m\u001b[39m\"\u001b[39;49m, \u001b[39m\"\u001b[39;49m\u001b[39mneg_log_loss\u001b[39;49m\u001b[39m\"\u001b[39;49m) \u001b[39mif\u001b[39;49;00m isBinary \u001b[39melse\u001b[39;49;00m (auc_str, f1_str, \u001b[39m\"\u001b[39;49m\u001b[39mneg_log_loss\u001b[39;49m\u001b[39m\"\u001b[39;49m),\n\u001b[1;32m     <a href='vscode-notebook-cell:/home/michele/Dropbox%20%28Politecnico%20Di%20Torino%20Studenti%29/thesis/code/Epilepsy-dMRI-VNS/src/analysisRadiomics.ipynb#Y411sZmlsZQ%3D%3D?line=43'>44</a>\u001b[0m     cv\u001b[39m=\u001b[39;49m\u001b[39m3\u001b[39;49m,\n\u001b[1;32m     <a href='vscode-notebook-cell:/home/michele/Dropbox%20%28Politecnico%20Di%20Torino%20Studenti%29/thesis/code/Epilepsy-dMRI-VNS/src/analysisRadiomics.ipynb#Y411sZmlsZQ%3D%3D?line=44'>45</a>\u001b[0m     n_jobs\u001b[39m=\u001b[39;49m\u001b[39m-\u001b[39;49m\u001b[39m1\u001b[39;49m,\n\u001b[1;32m     <a href='vscode-notebook-cell:/home/michele/Dropbox%20%28Politecnico%20Di%20Torino%20Studenti%29/thesis/code/Epilepsy-dMRI-VNS/src/analysisRadiomics.ipynb#Y411sZmlsZQ%3D%3D?line=45'>46</a>\u001b[0m )\n\u001b[1;32m     <a href='vscode-notebook-cell:/home/michele/Dropbox%20%28Politecnico%20Di%20Torino%20Studenti%29/thesis/code/Epilepsy-dMRI-VNS/src/analysisRadiomics.ipynb#Y411sZmlsZQ%3D%3D?line=47'>48</a>\u001b[0m score \u001b[39m+\u001b[39m\u001b[39m=\u001b[39m cv[\u001b[39mf\u001b[39m\u001b[39m\"\u001b[39m\u001b[39mtest_\u001b[39m\u001b[39m{\u001b[39;00mauc_str\u001b[39m}\u001b[39;00m\u001b[39m\"\u001b[39m]\u001b[39m.\u001b[39mmean()\n\u001b[1;32m     <a href='vscode-notebook-cell:/home/michele/Dropbox%20%28Politecnico%20Di%20Torino%20Studenti%29/thesis/code/Epilepsy-dMRI-VNS/src/analysisRadiomics.ipynb#Y411sZmlsZQ%3D%3D?line=48'>49</a>\u001b[0m score \u001b[39m+\u001b[39m\u001b[39m=\u001b[39m cv[\u001b[39mf\u001b[39m\u001b[39m\"\u001b[39m\u001b[39mtest_\u001b[39m\u001b[39m{\u001b[39;00mf1_str\u001b[39m}\u001b[39;00m\u001b[39m\"\u001b[39m]\u001b[39m.\u001b[39mmean()\n",
      "File \u001b[0;32m~/anaconda3/envs/pyRadiomics/lib/python3.9/site-packages/sklearn/utils/_param_validation.py:211\u001b[0m, in \u001b[0;36mvalidate_params.<locals>.decorator.<locals>.wrapper\u001b[0;34m(*args, **kwargs)\u001b[0m\n\u001b[1;32m    205\u001b[0m \u001b[39mtry\u001b[39;00m:\n\u001b[1;32m    206\u001b[0m     \u001b[39mwith\u001b[39;00m config_context(\n\u001b[1;32m    207\u001b[0m         skip_parameter_validation\u001b[39m=\u001b[39m(\n\u001b[1;32m    208\u001b[0m             prefer_skip_nested_validation \u001b[39mor\u001b[39;00m global_skip_validation\n\u001b[1;32m    209\u001b[0m         )\n\u001b[1;32m    210\u001b[0m     ):\n\u001b[0;32m--> 211\u001b[0m         \u001b[39mreturn\u001b[39;00m func(\u001b[39m*\u001b[39;49margs, \u001b[39m*\u001b[39;49m\u001b[39m*\u001b[39;49mkwargs)\n\u001b[1;32m    212\u001b[0m \u001b[39mexcept\u001b[39;00m InvalidParameterError \u001b[39mas\u001b[39;00m e:\n\u001b[1;32m    213\u001b[0m     \u001b[39m# When the function is just a wrapper around an estimator, we allow\u001b[39;00m\n\u001b[1;32m    214\u001b[0m     \u001b[39m# the function to delegate validation to the estimator, but we replace\u001b[39;00m\n\u001b[1;32m    215\u001b[0m     \u001b[39m# the name of the estimator by the name of the function in the error\u001b[39;00m\n\u001b[1;32m    216\u001b[0m     \u001b[39m# message to avoid confusion.\u001b[39;00m\n\u001b[1;32m    217\u001b[0m     msg \u001b[39m=\u001b[39m re\u001b[39m.\u001b[39msub(\n\u001b[1;32m    218\u001b[0m         \u001b[39mr\u001b[39m\u001b[39m\"\u001b[39m\u001b[39mparameter of \u001b[39m\u001b[39m\\\u001b[39m\u001b[39mw+ must be\u001b[39m\u001b[39m\"\u001b[39m,\n\u001b[1;32m    219\u001b[0m         \u001b[39mf\u001b[39m\u001b[39m\"\u001b[39m\u001b[39mparameter of \u001b[39m\u001b[39m{\u001b[39;00mfunc\u001b[39m.\u001b[39m\u001b[39m__qualname__\u001b[39m\u001b[39m}\u001b[39;00m\u001b[39m must be\u001b[39m\u001b[39m\"\u001b[39m,\n\u001b[1;32m    220\u001b[0m         \u001b[39mstr\u001b[39m(e),\n\u001b[1;32m    221\u001b[0m     )\n",
      "File \u001b[0;32m~/anaconda3/envs/pyRadiomics/lib/python3.9/site-packages/sklearn/model_selection/_validation.py:309\u001b[0m, in \u001b[0;36mcross_validate\u001b[0;34m(estimator, X, y, groups, scoring, cv, n_jobs, verbose, fit_params, pre_dispatch, return_train_score, return_estimator, return_indices, error_score)\u001b[0m\n\u001b[1;32m    306\u001b[0m \u001b[39m# We clone the estimator to make sure that all the folds are\u001b[39;00m\n\u001b[1;32m    307\u001b[0m \u001b[39m# independent, and that it is pickle-able.\u001b[39;00m\n\u001b[1;32m    308\u001b[0m parallel \u001b[39m=\u001b[39m Parallel(n_jobs\u001b[39m=\u001b[39mn_jobs, verbose\u001b[39m=\u001b[39mverbose, pre_dispatch\u001b[39m=\u001b[39mpre_dispatch)\n\u001b[0;32m--> 309\u001b[0m results \u001b[39m=\u001b[39m parallel(\n\u001b[1;32m    310\u001b[0m     delayed(_fit_and_score)(\n\u001b[1;32m    311\u001b[0m         clone(estimator),\n\u001b[1;32m    312\u001b[0m         X,\n\u001b[1;32m    313\u001b[0m         y,\n\u001b[1;32m    314\u001b[0m         scorers,\n\u001b[1;32m    315\u001b[0m         train,\n\u001b[1;32m    316\u001b[0m         test,\n\u001b[1;32m    317\u001b[0m         verbose,\n\u001b[1;32m    318\u001b[0m         \u001b[39mNone\u001b[39;49;00m,\n\u001b[1;32m    319\u001b[0m         fit_params,\n\u001b[1;32m    320\u001b[0m         return_train_score\u001b[39m=\u001b[39;49mreturn_train_score,\n\u001b[1;32m    321\u001b[0m         return_times\u001b[39m=\u001b[39;49m\u001b[39mTrue\u001b[39;49;00m,\n\u001b[1;32m    322\u001b[0m         return_estimator\u001b[39m=\u001b[39;49mreturn_estimator,\n\u001b[1;32m    323\u001b[0m         error_score\u001b[39m=\u001b[39;49merror_score,\n\u001b[1;32m    324\u001b[0m     )\n\u001b[1;32m    325\u001b[0m     \u001b[39mfor\u001b[39;49;00m train, test \u001b[39min\u001b[39;49;00m indices\n\u001b[1;32m    326\u001b[0m )\n\u001b[1;32m    328\u001b[0m _warn_or_raise_about_fit_failures(results, error_score)\n\u001b[1;32m    330\u001b[0m \u001b[39m# For callable scoring, the return type is only know after calling. If the\u001b[39;00m\n\u001b[1;32m    331\u001b[0m \u001b[39m# return type is a dictionary, the error scores can now be inserted with\u001b[39;00m\n\u001b[1;32m    332\u001b[0m \u001b[39m# the correct key.\u001b[39;00m\n",
      "File \u001b[0;32m~/anaconda3/envs/pyRadiomics/lib/python3.9/site-packages/sklearn/utils/parallel.py:65\u001b[0m, in \u001b[0;36mParallel.__call__\u001b[0;34m(self, iterable)\u001b[0m\n\u001b[1;32m     60\u001b[0m config \u001b[39m=\u001b[39m get_config()\n\u001b[1;32m     61\u001b[0m iterable_with_config \u001b[39m=\u001b[39m (\n\u001b[1;32m     62\u001b[0m     (_with_config(delayed_func, config), args, kwargs)\n\u001b[1;32m     63\u001b[0m     \u001b[39mfor\u001b[39;00m delayed_func, args, kwargs \u001b[39min\u001b[39;00m iterable\n\u001b[1;32m     64\u001b[0m )\n\u001b[0;32m---> 65\u001b[0m \u001b[39mreturn\u001b[39;00m \u001b[39msuper\u001b[39;49m()\u001b[39m.\u001b[39;49m\u001b[39m__call__\u001b[39;49m(iterable_with_config)\n",
      "File \u001b[0;32m~/anaconda3/envs/pyRadiomics/lib/python3.9/site-packages/joblib/parallel.py:1952\u001b[0m, in \u001b[0;36mParallel.__call__\u001b[0;34m(self, iterable)\u001b[0m\n\u001b[1;32m   1946\u001b[0m \u001b[39m# The first item from the output is blank, but it makes the interpreter\u001b[39;00m\n\u001b[1;32m   1947\u001b[0m \u001b[39m# progress until it enters the Try/Except block of the generator and\u001b[39;00m\n\u001b[1;32m   1948\u001b[0m \u001b[39m# reach the first `yield` statement. This starts the aynchronous\u001b[39;00m\n\u001b[1;32m   1949\u001b[0m \u001b[39m# dispatch of the tasks to the workers.\u001b[39;00m\n\u001b[1;32m   1950\u001b[0m \u001b[39mnext\u001b[39m(output)\n\u001b[0;32m-> 1952\u001b[0m \u001b[39mreturn\u001b[39;00m output \u001b[39mif\u001b[39;00m \u001b[39mself\u001b[39m\u001b[39m.\u001b[39mreturn_generator \u001b[39melse\u001b[39;00m \u001b[39mlist\u001b[39;49m(output)\n",
      "File \u001b[0;32m~/anaconda3/envs/pyRadiomics/lib/python3.9/site-packages/joblib/parallel.py:1595\u001b[0m, in \u001b[0;36mParallel._get_outputs\u001b[0;34m(self, iterator, pre_dispatch)\u001b[0m\n\u001b[1;32m   1592\u001b[0m     \u001b[39myield\u001b[39;00m\n\u001b[1;32m   1594\u001b[0m     \u001b[39mwith\u001b[39;00m \u001b[39mself\u001b[39m\u001b[39m.\u001b[39m_backend\u001b[39m.\u001b[39mretrieval_context():\n\u001b[0;32m-> 1595\u001b[0m         \u001b[39myield from\u001b[39;00m \u001b[39mself\u001b[39m\u001b[39m.\u001b[39m_retrieve()\n\u001b[1;32m   1597\u001b[0m \u001b[39mexcept\u001b[39;00m \u001b[39mGeneratorExit\u001b[39;00m:\n\u001b[1;32m   1598\u001b[0m     \u001b[39m# The generator has been garbage collected before being fully\u001b[39;00m\n\u001b[1;32m   1599\u001b[0m     \u001b[39m# consumed. This aborts the remaining tasks if possible and warn\u001b[39;00m\n\u001b[1;32m   1600\u001b[0m     \u001b[39m# the user if necessary.\u001b[39;00m\n\u001b[1;32m   1601\u001b[0m     \u001b[39mself\u001b[39m\u001b[39m.\u001b[39m_exception \u001b[39m=\u001b[39m \u001b[39mTrue\u001b[39;00m\n",
      "File \u001b[0;32m~/anaconda3/envs/pyRadiomics/lib/python3.9/site-packages/joblib/parallel.py:1707\u001b[0m, in \u001b[0;36mParallel._retrieve\u001b[0;34m(self)\u001b[0m\n\u001b[1;32m   1702\u001b[0m \u001b[39m# If the next job is not ready for retrieval yet, we just wait for\u001b[39;00m\n\u001b[1;32m   1703\u001b[0m \u001b[39m# async callbacks to progress.\u001b[39;00m\n\u001b[1;32m   1704\u001b[0m \u001b[39mif\u001b[39;00m ((\u001b[39mlen\u001b[39m(\u001b[39mself\u001b[39m\u001b[39m.\u001b[39m_jobs) \u001b[39m==\u001b[39m \u001b[39m0\u001b[39m) \u001b[39mor\u001b[39;00m\n\u001b[1;32m   1705\u001b[0m     (\u001b[39mself\u001b[39m\u001b[39m.\u001b[39m_jobs[\u001b[39m0\u001b[39m]\u001b[39m.\u001b[39mget_status(\n\u001b[1;32m   1706\u001b[0m         timeout\u001b[39m=\u001b[39m\u001b[39mself\u001b[39m\u001b[39m.\u001b[39mtimeout) \u001b[39m==\u001b[39m TASK_PENDING)):\n\u001b[0;32m-> 1707\u001b[0m     time\u001b[39m.\u001b[39;49msleep(\u001b[39m0.01\u001b[39;49m)\n\u001b[1;32m   1708\u001b[0m     \u001b[39mcontinue\u001b[39;00m\n\u001b[1;32m   1710\u001b[0m \u001b[39m# We need to be careful: the job list can be filling up as\u001b[39;00m\n\u001b[1;32m   1711\u001b[0m \u001b[39m# we empty it and Python list are not thread-safe by\u001b[39;00m\n\u001b[1;32m   1712\u001b[0m \u001b[39m# default hence the use of the lock\u001b[39;00m\n",
      "\u001b[0;31mKeyboardInterrupt\u001b[0m: "
     ]
    }
   ],
   "source": [
    "features_to_select = 15 + 1\n",
    "\n",
    "logReg = LogisticRegression(\n",
    "    C=1e-6,\n",
    "    class_weight=\"balanced\",\n",
    "    random_state=7,\n",
    "    n_jobs=-1,\n",
    "    max_iter=10000\n",
    ")\n",
    "\n",
    "X_full   = df_multivariate_multiclass.drop([\"VNSLC_16\", \"VNSLC_19\"]).drop([\"resp\", \"respPart\"], axis=1)\n",
    "y_bin    = df_multivariate_multiclass.drop([\"VNSLC_16\", \"VNSLC_19\"])[\"resp\"]\n",
    "y_multi  = df_multivariate_multiclass.drop([\"VNSLC_16\", \"VNSLC_19\"])[\"respPart\"]\n",
    "\n",
    "best_selected = []\n",
    "scores_features = []\n",
    "prev_best_score = 0\n",
    "\n",
    "for n_features in range(1, min(features_to_select, X_full.shape[1]+1)):\n",
    "\n",
    "    scores = {}\n",
    "\n",
    "    for col in X_full.columns:\n",
    "\n",
    "        if col in best_selected:\n",
    "            continue\n",
    "\n",
    "        X = X_full[[*best_selected, col]]\n",
    "\n",
    "        score = 0\n",
    "        for isBinary in [True, False]:\n",
    "\n",
    "            auc_str = \"roc_auc\" if isBinary else \"roc_auc_ovr_weighted\"\n",
    "            f1_str = \"f1\" if isBinary else \"f1_weighted\"\n",
    "            y = y_bin if isBinary else y_multi\n",
    "\n",
    "            cv = cross_validate(\n",
    "                Pipeline([\n",
    "                    (\"scaler\", StandardScaler()),\n",
    "                    (\"estimator\", logReg),\n",
    "                ]),\n",
    "                X, y,\n",
    "                scoring=(auc_str, f1_str, \"neg_brier_score\", \"neg_log_loss\") if isBinary else (auc_str, f1_str, \"neg_log_loss\"),\n",
    "                cv=3,\n",
    "                n_jobs=-1,\n",
    "            )\n",
    "\n",
    "            score += cv[f\"test_{auc_str}\"].mean()\n",
    "            score += cv[f\"test_{f1_str}\"].mean()\n",
    "            if isBinary:\n",
    "                score += cv[\"test_neg_brier_score\"].mean()\n",
    "                score += cv[\"test_neg_log_loss\"].mean()\n",
    "            else:\n",
    "                score += cv[\"test_neg_log_loss\"].mean()\n",
    "\n",
    "        scores[col] = score\n",
    "    \n",
    "    scores = pd.Series(scores)\n",
    "    best_idx = scores.argmax()\n",
    "\n",
    "    best_feature = scores.index[best_idx]\n",
    "    best_score = scores[best_idx]\n",
    "\n",
    "    # print(best_feature)\n",
    "    # print(best_score)\n",
    "\n",
    "    best_selected.append(best_feature)\n",
    "    scores_features.append(best_score)\n",
    "\n",
    "best_score_idx = np.array(scores_features).argmax()\n",
    "\n",
    "# print(best_selected)\n",
    "# print()\n",
    "\n",
    "df_sfs = df_multivariate_multiclass[best_selected[:(best_score_idx+1)]]\n",
    "df_sfs = pd.concat([df_multivariate_multiclass[[\"resp\", \"respPart\"]], df_sfs], axis=1)\n",
    "df_sfs.shape"
   ]
  },
  {
   "cell_type": "code",
   "execution_count": 313,
   "metadata": {},
   "outputs": [],
   "source": [
    "df_sfs.to_csv(\"../study/stats/datasetRadiomicsSelected.csv\")"
   ]
  },
  {
   "cell_type": "code",
   "execution_count": 314,
   "metadata": {},
   "outputs": [
    {
     "data": {
      "text/plain": [
       "(19, 12)"
      ]
     },
     "execution_count": 314,
     "metadata": {},
     "output_type": "execute_result"
    }
   ],
   "source": [
    "df_sfs = pd.read_csv(\"../study/stats/datasetRadiomicsSelected.csv\", index_col=\"ID\")\n",
    "df_sfs.shape"
   ]
  },
  {
   "cell_type": "markdown",
   "metadata": {},
   "source": [
    "# Feature extraction"
   ]
  },
  {
   "cell_type": "code",
   "execution_count": 336,
   "metadata": {},
   "outputs": [
    {
     "name": "stdout",
     "output_type": "stream",
     "text": [
      "roc_auc + f1:\t2.000\t(1.000,\t1.000)\n",
      "accuracy:\t1.000\n",
      "Brier:\t\t-0.250\n",
      "LogLoss:\t-0.693\n"
     ]
    }
   ],
   "source": [
    "X = df_sfs.drop([\"VNSLC_16\", \"VNSLC_19\"]).drop([\"resp\",\"respPart\"], axis=1)\n",
    "y = df_sfs.drop([\"VNSLC_16\", \"VNSLC_19\"])[\"resp\"]\n",
    "\n",
    "estimateScoresLogReg(X, y, folds=2)"
   ]
  },
  {
   "cell_type": "code",
   "execution_count": 331,
   "metadata": {},
   "outputs": [
    {
     "data": {
      "text/plain": [
       "Index(['Left-Caudate_MD_wavelet-HHL_glcm_Imc2',\n",
       "       'Left-Caudate_MD_wavelet-HHL_ngtdm_Complexity',\n",
       "       'Left-Hippocampus_icvf_wavelet-LLL_firstorder_Minimum',\n",
       "       'cc.rostrum_FA_wavelet-LLH_glrlm_HighGrayLevelRunEmphasis',\n",
       "       'lh.uf_MD_wavelet-LLH_glcm_Contrast',\n",
       "       'lh.uf_MD_wavelet-LLH_glcm_Correlation',\n",
       "       'lh.uf_MD_wavelet-LLH_glcm_DifferenceEntropy',\n",
       "       'lh.uf_MD_wavelet-LLH_glcm_Imc1', 'lh.uf_MD_wavelet-LLH_ngtdm_Contrast',\n",
       "       'rh.fat_wAD_lbp-2D_firstorder_Skewness'],\n",
       "      dtype='object')"
      ]
     },
     "execution_count": 331,
     "metadata": {},
     "output_type": "execute_result"
    }
   ],
   "source": [
    "X.columns"
   ]
  },
  {
   "cell_type": "markdown",
   "metadata": {},
   "source": [
    "#### PCA"
   ]
  },
  {
   "cell_type": "code",
   "execution_count": 332,
   "metadata": {},
   "outputs": [
    {
     "name": "stderr",
     "output_type": "stream",
     "text": [
      "/home/michele/anaconda3/envs/pyRadiomics/lib/python3.9/site-packages/seaborn/_oldcore.py:1498: FutureWarning: is_categorical_dtype is deprecated and will be removed in a future version. Use isinstance(dtype, CategoricalDtype) instead\n",
      "  if pd.api.types.is_categorical_dtype(vector):\n",
      "/home/michele/anaconda3/envs/pyRadiomics/lib/python3.9/site-packages/seaborn/_oldcore.py:1498: FutureWarning: is_categorical_dtype is deprecated and will be removed in a future version. Use isinstance(dtype, CategoricalDtype) instead\n",
      "  if pd.api.types.is_categorical_dtype(vector):\n",
      "/home/michele/anaconda3/envs/pyRadiomics/lib/python3.9/site-packages/seaborn/_oldcore.py:1498: FutureWarning: is_categorical_dtype is deprecated and will be removed in a future version. Use isinstance(dtype, CategoricalDtype) instead\n",
      "  if pd.api.types.is_categorical_dtype(vector):\n",
      "/home/michele/anaconda3/envs/pyRadiomics/lib/python3.9/site-packages/seaborn/_oldcore.py:1498: FutureWarning: is_categorical_dtype is deprecated and will be removed in a future version. Use isinstance(dtype, CategoricalDtype) instead\n",
      "  if pd.api.types.is_categorical_dtype(vector):\n"
     ]
    },
    {
     "data": {
      "text/plain": [
       "<AxesSubplot:>"
      ]
     },
     "execution_count": 332,
     "metadata": {},
     "output_type": "execute_result"
    },
    {
     "data": {
      "image/png": "[encoded data removed]",
      "text/plain": [
       "<Figure size 640x480 with 1 Axes>"
      ]
     },
     "metadata": {},
     "output_type": "display_data"
    }
   ],
   "source": [
    "n_components = 2\n",
    "whiten = True\n",
    "pca = PCA(\n",
    "    n_components,\n",
    "    whiten=whiten,\n",
    "    svd_solver=\"full\",\n",
    "    random_state=7\n",
    ")\n",
    "\n",
    "X_scaled = StandardScaler().fit_transform(X)\n",
    "X_pca = pca.fit_transform(X_scaled)\n",
    "\n",
    "sns.scatterplot(x=X_pca[:,0], y=X_pca[:,1], hue=y, palette=\"deep\")"
   ]
  },
  {
   "cell_type": "markdown",
   "metadata": {},
   "source": [
    "#### LDA"
   ]
  },
  {
   "cell_type": "code",
   "execution_count": 333,
   "metadata": {},
   "outputs": [
    {
     "name": "stderr",
     "output_type": "stream",
     "text": [
      "/home/michele/anaconda3/envs/pyRadiomics/lib/python3.9/site-packages/seaborn/_oldcore.py:1498: FutureWarning: is_categorical_dtype is deprecated and will be removed in a future version. Use isinstance(dtype, CategoricalDtype) instead\n",
      "  if pd.api.types.is_categorical_dtype(vector):\n",
      "/home/michele/anaconda3/envs/pyRadiomics/lib/python3.9/site-packages/seaborn/_oldcore.py:1498: FutureWarning: is_categorical_dtype is deprecated and will be removed in a future version. Use isinstance(dtype, CategoricalDtype) instead\n",
      "  if pd.api.types.is_categorical_dtype(vector):\n",
      "/home/michele/anaconda3/envs/pyRadiomics/lib/python3.9/site-packages/seaborn/_oldcore.py:1498: FutureWarning: is_categorical_dtype is deprecated and will be removed in a future version. Use isinstance(dtype, CategoricalDtype) instead\n",
      "  if pd.api.types.is_categorical_dtype(vector):\n",
      "/home/michele/anaconda3/envs/pyRadiomics/lib/python3.9/site-packages/seaborn/_oldcore.py:1498: FutureWarning: is_categorical_dtype is deprecated and will be removed in a future version. Use isinstance(dtype, CategoricalDtype) instead\n",
      "  if pd.api.types.is_categorical_dtype(vector):\n"
     ]
    },
    {
     "data": {
      "text/plain": [
       "<AxesSubplot:>"
      ]
     },
     "execution_count": 333,
     "metadata": {},
     "output_type": "execute_result"
    },
    {
     "data": {
      "image/png": "[encoded data removed]",
      "text/plain": [
       "<Figure size 640x480 with 1 Axes>"
      ]
     },
     "metadata": {},
     "output_type": "display_data"
    }
   ],
   "source": [
    "n_components = 2\n",
    "# By using the Ledoit Wolf or OAS covariance mareices can be even better (Maybe see later)\n",
    "lda = LinearDiscriminantAnalysis(\n",
    "    # solver=\"eigen\",\n",
    "    # shrinkage=\"auto\",\n",
    "    n_components=n_components,\n",
    ")\n",
    "\n",
    "X_scaled = StandardScaler().fit_transform(X)\n",
    "X_lda = lda.fit_transform(X_scaled, y)\n",
    "\n",
    "sns.scatterplot(x=X_lda[:,0], y=X_lda[:,1], hue=y, palette=\"deep\")"
   ]
  },
  {
   "cell_type": "markdown",
   "metadata": {},
   "source": [
    "#### Clustering"
   ]
  },
  {
   "cell_type": "code",
   "execution_count": 334,
   "metadata": {},
   "outputs": [
    {
     "data": {
      "text/plain": [
       "<seaborn.matrix.ClusterGrid at 0x7f203a5dfc70>"
      ]
     },
     "execution_count": 334,
     "metadata": {},
     "output_type": "execute_result"
    },
    {
     "data": {
      "image/png": "[encoded data removed]",
      "text/plain": [
       "<Figure size 1000x1000 with 5 Axes>"
      ]
     },
     "metadata": {},
     "output_type": "display_data"
    }
   ],
   "source": [
    "lut = dict(zip([0, 1, 2], \"ryg\"))\n",
    "row_colors = y.map(lut)\n",
    "\n",
    "sns.clustermap(X, method=\"ward\", row_colors=row_colors, z_score=1, robust=True, xticklabels=False)"
   ]
  }
 ],
 "metadata": {
  "kernelspec": {
   "display_name": "dMRI",
   "language": "python",
   "name": "python3"
  },
  "language_info": {
   "codemirror_mode": {
    "name": "ipython",
    "version": 3
   },
   "file_extension": ".py",
   "mimetype": "text/x-python",
   "name": "python",
   "nbconvert_exporter": "python",
   "pygments_lexer": "ipython3",
   "version": "3.10.12"
  },
  "orig_nbformat": 4
 },
 "nbformat": 4,
 "nbformat_minor": 2
}
