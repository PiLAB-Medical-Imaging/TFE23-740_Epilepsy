{
 "cells": [
  {
   "cell_type": "markdown",
   "metadata": {},
   "source": [
    "# Radiomics analysis"
   ]
  },
  {
   "cell_type": "code",
   "execution_count": 78,
   "metadata": {},
   "outputs": [],
   "source": [
    "import pandas as pd\n",
    "import matplotlib.pyplot as plt\n",
    "import seaborn as sns\n",
    "import os\n",
    "import numpy as np\n",
    "import fastcluster\n",
    "import json\n",
    "import itertools\n",
    "\n",
    "from scipy import stats\n",
    "from sklearn.feature_selection import VarianceThreshold, RFECV\n",
    "from sklearn.preprocessing import StandardScaler\n",
    "from sklearn.svm import SVC, LinearSVC\n",
    "from sklearn.linear_model import LogisticRegression\n",
    "from sklearn.metrics import make_scorer\n",
    "from sklearn.pipeline import Pipeline\n",
    "from sklearn.model_selection import cross_validate\n",
    "from sklearn.decomposition import PCA\n",
    "from sklearn.discriminant_analysis import LinearDiscriminantAnalysis\n",
    "from statsmodels.stats.multitest import fdrcorrection, multipletests\n",
    "from mlxtend.feature_selection import SequentialFeatureSelector as SFS\n",
    "from mlxtend.plotting import plot_sequential_feature_selection as plot_sfs\n",
    "from tqdm import tqdm\n",
    "from tools_analysis import auc_and_f1\n",
    "\n",
    "ds_path = \"../study/stats/datasetRadiomics.csv\""
   ]
  },
  {
   "cell_type": "code",
   "execution_count": 3,
   "metadata": {},
   "outputs": [
    {
     "ename": "ParserError",
     "evalue": "Error tokenizing data. C error: Calling read(nbytes) on source failed. Try engine='python'.",
     "output_type": "error",
     "traceback": [
      "\u001b[0;31m---------------------------------------------------------------------------\u001b[0m",
      "\u001b[0;31mParserError\u001b[0m                               Traceback (most recent call last)",
      "\u001b[1;32m/home/michele/Dropbox (Politecnico Di Torino Studenti)/thesis/code/Epilepsy-dMRI-VNS/src/analysisRadiomics.ipynb Cell 3\u001b[0m line \u001b[0;36m1\n\u001b[0;32m----> <a href='vscode-notebook-cell:/home/michele/Dropbox%20%28Politecnico%20Di%20Torino%20Studenti%29/thesis/code/Epilepsy-dMRI-VNS/src/analysisRadiomics.ipynb#W2sZmlsZQ%3D%3D?line=0'>1</a>\u001b[0m df \u001b[39m=\u001b[39m pd\u001b[39m.\u001b[39;49mread_csv(ds_path, index_col\u001b[39m=\u001b[39;49m\u001b[39m\"\u001b[39;49m\u001b[39mID\u001b[39;49m\u001b[39m\"\u001b[39;49m)\n\u001b[1;32m      <a href='vscode-notebook-cell:/home/michele/Dropbox%20%28Politecnico%20Di%20Torino%20Studenti%29/thesis/code/Epilepsy-dMRI-VNS/src/analysisRadiomics.ipynb#W2sZmlsZQ%3D%3D?line=1'>2</a>\u001b[0m df\u001b[39m.\u001b[39mshape\n",
      "File \u001b[0;32m~/anaconda3/envs/pyRadiomics/lib/python3.9/site-packages/pandas/io/parsers/readers.py:948\u001b[0m, in \u001b[0;36mread_csv\u001b[0;34m(filepath_or_buffer, sep, delimiter, header, names, index_col, usecols, dtype, engine, converters, true_values, false_values, skipinitialspace, skiprows, skipfooter, nrows, na_values, keep_default_na, na_filter, verbose, skip_blank_lines, parse_dates, infer_datetime_format, keep_date_col, date_parser, date_format, dayfirst, cache_dates, iterator, chunksize, compression, thousands, decimal, lineterminator, quotechar, quoting, doublequote, escapechar, comment, encoding, encoding_errors, dialect, on_bad_lines, delim_whitespace, low_memory, memory_map, float_precision, storage_options, dtype_backend)\u001b[0m\n\u001b[1;32m    935\u001b[0m kwds_defaults \u001b[39m=\u001b[39m _refine_defaults_read(\n\u001b[1;32m    936\u001b[0m     dialect,\n\u001b[1;32m    937\u001b[0m     delimiter,\n\u001b[0;32m   (...)\u001b[0m\n\u001b[1;32m    944\u001b[0m     dtype_backend\u001b[39m=\u001b[39mdtype_backend,\n\u001b[1;32m    945\u001b[0m )\n\u001b[1;32m    946\u001b[0m kwds\u001b[39m.\u001b[39mupdate(kwds_defaults)\n\u001b[0;32m--> 948\u001b[0m \u001b[39mreturn\u001b[39;00m _read(filepath_or_buffer, kwds)\n",
      "File \u001b[0;32m~/anaconda3/envs/pyRadiomics/lib/python3.9/site-packages/pandas/io/parsers/readers.py:611\u001b[0m, in \u001b[0;36m_read\u001b[0;34m(filepath_or_buffer, kwds)\u001b[0m\n\u001b[1;32m    608\u001b[0m _validate_names(kwds\u001b[39m.\u001b[39mget(\u001b[39m\"\u001b[39m\u001b[39mnames\u001b[39m\u001b[39m\"\u001b[39m, \u001b[39mNone\u001b[39;00m))\n\u001b[1;32m    610\u001b[0m \u001b[39m# Create the parser.\u001b[39;00m\n\u001b[0;32m--> 611\u001b[0m parser \u001b[39m=\u001b[39m TextFileReader(filepath_or_buffer, \u001b[39m*\u001b[39;49m\u001b[39m*\u001b[39;49mkwds)\n\u001b[1;32m    613\u001b[0m \u001b[39mif\u001b[39;00m chunksize \u001b[39mor\u001b[39;00m iterator:\n\u001b[1;32m    614\u001b[0m     \u001b[39mreturn\u001b[39;00m parser\n",
      "File \u001b[0;32m~/anaconda3/envs/pyRadiomics/lib/python3.9/site-packages/pandas/io/parsers/readers.py:1448\u001b[0m, in \u001b[0;36mTextFileReader.__init__\u001b[0;34m(self, f, engine, **kwds)\u001b[0m\n\u001b[1;32m   1445\u001b[0m     \u001b[39mself\u001b[39m\u001b[39m.\u001b[39moptions[\u001b[39m\"\u001b[39m\u001b[39mhas_index_names\u001b[39m\u001b[39m\"\u001b[39m] \u001b[39m=\u001b[39m kwds[\u001b[39m\"\u001b[39m\u001b[39mhas_index_names\u001b[39m\u001b[39m\"\u001b[39m]\n\u001b[1;32m   1447\u001b[0m \u001b[39mself\u001b[39m\u001b[39m.\u001b[39mhandles: IOHandles \u001b[39m|\u001b[39m \u001b[39mNone\u001b[39;00m \u001b[39m=\u001b[39m \u001b[39mNone\u001b[39;00m\n\u001b[0;32m-> 1448\u001b[0m \u001b[39mself\u001b[39m\u001b[39m.\u001b[39m_engine \u001b[39m=\u001b[39m \u001b[39mself\u001b[39;49m\u001b[39m.\u001b[39;49m_make_engine(f, \u001b[39mself\u001b[39;49m\u001b[39m.\u001b[39;49mengine)\n",
      "File \u001b[0;32m~/anaconda3/envs/pyRadiomics/lib/python3.9/site-packages/pandas/io/parsers/readers.py:1723\u001b[0m, in \u001b[0;36mTextFileReader._make_engine\u001b[0;34m(self, f, engine)\u001b[0m\n\u001b[1;32m   1720\u001b[0m     \u001b[39mraise\u001b[39;00m \u001b[39mValueError\u001b[39;00m(msg)\n\u001b[1;32m   1722\u001b[0m \u001b[39mtry\u001b[39;00m:\n\u001b[0;32m-> 1723\u001b[0m     \u001b[39mreturn\u001b[39;00m mapping[engine](f, \u001b[39m*\u001b[39;49m\u001b[39m*\u001b[39;49m\u001b[39mself\u001b[39;49m\u001b[39m.\u001b[39;49moptions)\n\u001b[1;32m   1724\u001b[0m \u001b[39mexcept\u001b[39;00m \u001b[39mException\u001b[39;00m:\n\u001b[1;32m   1725\u001b[0m     \u001b[39mif\u001b[39;00m \u001b[39mself\u001b[39m\u001b[39m.\u001b[39mhandles \u001b[39mis\u001b[39;00m \u001b[39mnot\u001b[39;00m \u001b[39mNone\u001b[39;00m:\n",
      "File \u001b[0;32m~/anaconda3/envs/pyRadiomics/lib/python3.9/site-packages/pandas/io/parsers/c_parser_wrapper.py:93\u001b[0m, in \u001b[0;36mCParserWrapper.__init__\u001b[0;34m(self, src, **kwds)\u001b[0m\n\u001b[1;32m     90\u001b[0m \u001b[39mif\u001b[39;00m kwds[\u001b[39m\"\u001b[39m\u001b[39mdtype_backend\u001b[39m\u001b[39m\"\u001b[39m] \u001b[39m==\u001b[39m \u001b[39m\"\u001b[39m\u001b[39mpyarrow\u001b[39m\u001b[39m\"\u001b[39m:\n\u001b[1;32m     91\u001b[0m     \u001b[39m# Fail here loudly instead of in cython after reading\u001b[39;00m\n\u001b[1;32m     92\u001b[0m     import_optional_dependency(\u001b[39m\"\u001b[39m\u001b[39mpyarrow\u001b[39m\u001b[39m\"\u001b[39m)\n\u001b[0;32m---> 93\u001b[0m \u001b[39mself\u001b[39m\u001b[39m.\u001b[39m_reader \u001b[39m=\u001b[39m parsers\u001b[39m.\u001b[39;49mTextReader(src, \u001b[39m*\u001b[39;49m\u001b[39m*\u001b[39;49mkwds)\n\u001b[1;32m     95\u001b[0m \u001b[39mself\u001b[39m\u001b[39m.\u001b[39munnamed_cols \u001b[39m=\u001b[39m \u001b[39mself\u001b[39m\u001b[39m.\u001b[39m_reader\u001b[39m.\u001b[39munnamed_cols\n\u001b[1;32m     97\u001b[0m \u001b[39m# error: Cannot determine type of 'names'\u001b[39;00m\n",
      "File \u001b[0;32mparsers.pyx:579\u001b[0m, in \u001b[0;36mpandas._libs.parsers.TextReader.__cinit__\u001b[0;34m()\u001b[0m\n",
      "File \u001b[0;32mparsers.pyx:668\u001b[0m, in \u001b[0;36mpandas._libs.parsers.TextReader._get_header\u001b[0;34m()\u001b[0m\n",
      "File \u001b[0;32mparsers.pyx:879\u001b[0m, in \u001b[0;36mpandas._libs.parsers.TextReader._tokenize_rows\u001b[0;34m()\u001b[0m\n",
      "File \u001b[0;32mparsers.pyx:890\u001b[0m, in \u001b[0;36mpandas._libs.parsers.TextReader._check_tokenize_status\u001b[0;34m()\u001b[0m\n",
      "File \u001b[0;32mparsers.pyx:2058\u001b[0m, in \u001b[0;36mpandas._libs.parsers.raise_parser_error\u001b[0;34m()\u001b[0m\n",
      "\u001b[0;31mParserError\u001b[0m: Error tokenizing data. C error: Calling read(nbytes) on source failed. Try engine='python'."
     ]
    }
   ],
   "source": [
    "df = pd.read_csv(ds_path, index_col=\"ID\")\n",
    "df.shape"
   ]
  },
  {
   "cell_type": "markdown",
   "metadata": {},
   "source": [
    "[roi_name]\\_[metric]\\_[image]\\_[feature] "
   ]
  },
  {
   "cell_type": "code",
   "execution_count": 5,
   "metadata": {},
   "outputs": [],
   "source": [
    "def separateDFs(df, which=\"resp\"):\n",
    "    y1 = df[which]\n",
    "    X = df.drop([\"resp\", \"respPart\"], axis=1)\n",
    "    print(X.shape)\n",
    "\n",
    "    a = X.isna().any(axis=0)\n",
    "    # X1 is the first ds\n",
    "    X1 = X.drop(a[a==True].index, axis=1)\n",
    "\n",
    "    print(X1.shape)\n",
    "\n",
    "    X2_1 = X.loc[:, a==True].drop(\"VNSLC_16\")\n",
    "    b = X2_1.isna().any(axis=0)\n",
    "    # X2 is the second ds\n",
    "    X2 = X2_1.drop(b[b==True].index, axis=1)\n",
    "    y2 = y1.drop(\"VNSLC_16\")\n",
    "    print(X2.shape)\n",
    "\n",
    "    # X3 is the third ds\n",
    "    X3 = X2_1.loc[:, b==True].drop(\"VNSLC_19\")\n",
    "    y3 = y2.drop(\"VNSLC_19\")\n",
    "    print(X3.shape)\n",
    "\n",
    "    return X1, y1, X2, y2, X3, y3"
   ]
  },
  {
   "cell_type": "markdown",
   "metadata": {},
   "source": [
    "# Filtering"
   ]
  },
  {
   "cell_type": "markdown",
   "metadata": {},
   "source": [
    "##### Remove duplicate"
   ]
  },
  {
   "cell_type": "code",
   "execution_count": 479,
   "metadata": {},
   "outputs": [
    {
     "data": {
      "text/plain": [
       "(19, 786187)"
      ]
     },
     "execution_count": 479,
     "metadata": {},
     "output_type": "execute_result"
    }
   ],
   "source": [
    "df_duplicates = df.T.drop_duplicates().T\n",
    "df_duplicates.shape"
   ]
  },
  {
   "cell_type": "markdown",
   "metadata": {},
   "source": [
    "##### Variance threshold"
   ]
  },
  {
   "cell_type": "code",
   "execution_count": 480,
   "metadata": {},
   "outputs": [
    {
     "name": "stdout",
     "output_type": "stream",
     "text": [
      "(19, 786185)\n",
      "(19, 464538)\n",
      "(18, 307624)\n",
      "(17, 14023)\n"
     ]
    }
   ],
   "source": [
    "X1, y1, X2, y2, X3, y3 = separateDFs(df_duplicates)"
   ]
  },
  {
   "cell_type": "code",
   "execution_count": 481,
   "metadata": {},
   "outputs": [
    {
     "data": {
      "text/plain": [
       "(19, 786135)"
      ]
     },
     "execution_count": 481,
     "metadata": {},
     "output_type": "execute_result"
    }
   ],
   "source": [
    "X_selected = []\n",
    "\n",
    "for X in [X1, X2, X3]:\n",
    "    varThresh = VarianceThreshold()\n",
    "    varThresh.fit_transform(X)\n",
    "    selected_feature_indices = varThresh.get_support(indices=True)\n",
    "    X_selected.append(X.iloc[:, selected_feature_indices])\n",
    "\n",
    "df_selected = pd.concat([df[\"resp\"], df[\"respPart\"], X_selected[0], X_selected[1], X_selected[2]], axis=1)\n",
    "df_selected.shape"
   ]
  },
  {
   "cell_type": "markdown",
   "metadata": {},
   "source": [
    "##### Mannwhiten"
   ]
  },
  {
   "cell_type": "code",
   "execution_count": 482,
   "metadata": {},
   "outputs": [],
   "source": [
    "X_resp = df_selected[df[\"resp\"]==1]\n",
    "X_non = df_selected[df[\"resp\"]==0]\n",
    "res_mannwhitneyu = pd.DataFrame(stats.mannwhitneyu(X_resp, X_non, nan_policy=\"omit\").pvalue, index=df_selected.columns)"
   ]
  },
  {
   "cell_type": "code",
   "execution_count": 483,
   "metadata": {},
   "outputs": [
    {
     "data": {
      "text/plain": [
       "(19, 38650)"
      ]
     },
     "execution_count": 483,
     "metadata": {},
     "output_type": "execute_result"
    }
   ],
   "source": [
    "temp = res_mannwhitneyu>0.05\n",
    "features_to_remove = temp[temp == True].dropna().index\n",
    "df_mannwhiten = df_selected.drop(features_to_remove,axis=1)\n",
    "df_mannwhiten.shape"
   ]
  },
  {
   "cell_type": "markdown",
   "metadata": {},
   "source": [
    "##### Kruskal"
   ]
  },
  {
   "cell_type": "code",
   "execution_count": 484,
   "metadata": {},
   "outputs": [],
   "source": [
    "X_resp= df_mannwhiten[df[\"respPart\"]==2]\n",
    "X_respPart = df_mannwhiten[df[\"respPart\"]==1]\n",
    "X_non = df_mannwhiten[df[\"respPart\"]==0]\n",
    "res_kruskal = pd.DataFrame(stats.kruskal(X_non, X_respPart, X_resp, nan_policy=\"omit\", axis=0).pvalue, index=df_mannwhiten.columns)"
   ]
  },
  {
   "cell_type": "code",
   "execution_count": 485,
   "metadata": {},
   "outputs": [
    {
     "data": {
      "text/plain": [
       "(19, 18288)"
      ]
     },
     "execution_count": 485,
     "metadata": {},
     "output_type": "execute_result"
    }
   ],
   "source": [
    "temp = res_kruskal>0.05\n",
    "features_to_remove = temp[temp == True].dropna().index\n",
    "df_kruskal = df_mannwhiten.drop(features_to_remove,axis=1)\n",
    "df_kruskal.shape"
   ]
  },
  {
   "cell_type": "markdown",
   "metadata": {},
   "source": [
    "##### Outlier removal"
   ]
  },
  {
   "cell_type": "code",
   "execution_count": 486,
   "metadata": {},
   "outputs": [
    {
     "data": {
      "text/plain": [
       "(19, 10566)"
      ]
     },
     "execution_count": 486,
     "metadata": {},
     "output_type": "execute_result"
    }
   ],
   "source": [
    "features_to_remove = []\n",
    "\n",
    "for i in [0, 1, 2]:\n",
    "    df_curr = df_kruskal[df[\"respPart\"]==i]\n",
    "    z_scores_abs = abs((df_curr - df_curr.mean())/df_curr.std())\n",
    "\n",
    "    features_with_outliers = (z_scores_abs >= 2).any(axis=0)\n",
    "    features_to_remove_curr = features_with_outliers[features_with_outliers == True].dropna().index\n",
    "\n",
    "    features_to_remove = [*features_to_remove, *features_to_remove_curr]\n",
    "\n",
    "df_outliers = df_kruskal.drop(features_to_remove, axis=1)\n",
    "df_outliers.shape"
   ]
  },
  {
   "cell_type": "markdown",
   "metadata": {},
   "source": [
    "##### Kurtosis filtering"
   ]
  },
  {
   "cell_type": "code",
   "execution_count": 487,
   "metadata": {},
   "outputs": [
    {
     "data": {
      "text/plain": [
       "(19, 5709)"
      ]
     },
     "execution_count": 487,
     "metadata": {},
     "output_type": "execute_result"
    }
   ],
   "source": [
    "res_kurtosis = pd.DataFrame(stats.kurtosis(df_outliers, axis=0, bias=False, nan_policy=\"omit\"), index=df_outliers.columns)\n",
    "temp = (res_kurtosis>2) | (res_kurtosis<-0.5)\n",
    "features_to_remove = temp[temp == True].dropna().index\n",
    "df_kurtosis = df_outliers.drop(features_to_remove,axis=1)\n",
    "df_kurtosis = pd.concat([df[[\"resp\", \"respPart\"]], df_kurtosis], axis=1)\n",
    "df_kurtosis.shape"
   ]
  },
  {
   "cell_type": "markdown",
   "metadata": {},
   "source": [
    "##### Remove redundant"
   ]
  },
  {
   "cell_type": "code",
   "execution_count": 494,
   "metadata": {},
   "outputs": [
    {
     "name": "stdout",
     "output_type": "stream",
     "text": [
      "1593\n"
     ]
    },
    {
     "data": {
      "text/plain": [
       "(19, 4116)"
      ]
     },
     "execution_count": 494,
     "metadata": {},
     "output_type": "execute_result"
    }
   ],
   "source": [
    "corr_matrix = df_kurtosis.corr().abs()\n",
    "\n",
    "upper = corr_matrix.where(np.triu(np.ones(corr_matrix.shape), k=1).astype(\"bool\"))\n",
    "\n",
    "to_drop = [column for column in upper.columns if any(upper[column]>=0.99)]\n",
    "print(len(to_drop))\n",
    "\n",
    "df_redundant = df_kurtosis.drop(to_drop, axis=1)\n",
    "df_redundant.shape\n"
   ]
  },
  {
   "cell_type": "code",
   "execution_count": 495,
   "metadata": {},
   "outputs": [
    {
     "name": "stderr",
     "output_type": "stream",
     "text": [
      "100%|██████████| 5709/5709 [01:47<00:00, 53.32it/s] "
     ]
    },
    {
     "name": "stdout",
     "output_type": "stream",
     "text": [
      "1593\n"
     ]
    },
    {
     "name": "stderr",
     "output_type": "stream",
     "text": [
      "\n"
     ]
    }
   ],
   "source": [
    "c = 0\n",
    "correlated_features = []\n",
    "for column in tqdm(upper.columns):\n",
    "    temp = upper[column].isna() == False\n",
    "    temp = temp[temp==True].index\n",
    "    to_remove=False\n",
    "    for col in temp:\n",
    "        if upper[column][col]>=0.99:\n",
    "            to_remove=True\n",
    "            correlated_features.append((column, col, upper[column][col]))\n",
    "    if to_remove:\n",
    "        c += 1\n",
    "\n",
    "correlated_features_df = pd.DataFrame(correlated_features)\n",
    "print(c)"
   ]
  },
  {
   "cell_type": "code",
   "execution_count": 496,
   "metadata": {},
   "outputs": [
    {
     "data": {
      "text/plain": [
       "<seaborn.axisgrid.FacetGrid at 0x7fdc233c3fd0>"
      ]
     },
     "execution_count": 496,
     "metadata": {},
     "output_type": "execute_result"
    },
    {
     "data": {
      "image/png": "[encoded data removed]",
      "text/plain": [
       "<Figure size 500x500 with 1 Axes>"
      ]
     },
     "metadata": {},
     "output_type": "display_data"
    }
   ],
   "source": [
    "sns.lmplot(df_duplicates, x=\"Right-Putamen_odi_squareroot_firstorder_RobustMeanAbsoluteDeviation\", y=\"Right-Putamen_odi_squareroot_firstorder_MeanAbsoluteDeviation\")"
   ]
  },
  {
   "cell_type": "code",
   "execution_count": 503,
   "metadata": {},
   "outputs": [],
   "source": [
    "df_redundant.to_csv(\"../study/stats/datasetRadiomicsFiltered.csv\")"
   ]
  },
  {
   "cell_type": "code",
   "execution_count": 6,
   "metadata": {},
   "outputs": [
    {
     "data": {
      "text/plain": [
       "(19, 4116)"
      ]
     },
     "execution_count": 6,
     "metadata": {},
     "output_type": "execute_result"
    }
   ],
   "source": [
    "df_redundant = pd.read_csv(\"../study/stats/datasetRadiomicsFiltered.csv\", index_col=\"ID\")\n",
    "df_redundant.shape"
   ]
  },
  {
   "cell_type": "markdown",
   "metadata": {},
   "source": [
    "# Clustering"
   ]
  },
  {
   "cell_type": "code",
   "execution_count": 505,
   "metadata": {},
   "outputs": [],
   "source": [
    "roi_name = [\n",
    "    \"Thalamus\",\n",
    "    \"Hippocampus\",\n",
    "    \"Amygdala\",\n",
    "    \"Accumbens-area\",\n",
    "    \"Putamen\", \n",
    "    \"Pallidum\",\n",
    "    \"Caudate\",\n",
    "]\n",
    "\n",
    "tract_name = [\n",
    "    \"acomm\",\n",
    "    \"cc.bodyc\",\n",
    "    \"cc.bodyp\",\n",
    "    \"cc.bodypf\",\n",
    "    \"cc.bodypm\",\n",
    "    \"cc.bodyt\",\n",
    "    \"cc.genu\",\n",
    "    \"cc.rostrum\",\n",
    "    \"cc.splenium\",\n",
    "    \"lh.af\",\n",
    "    \"lh.ar\",\n",
    "    \"lh.atr\",\n",
    "    \"lh.cbd\",\n",
    "    \"lh.cbv\",\n",
    "    \"lh.cst\",\n",
    "    \"lh.emc\",\n",
    "    \"lh.fat\",\n",
    "    \"lh.fx\",\n",
    "    \"lh.ilf\",\n",
    "    \"lh.mlf\",\n",
    "    \"lh.or\",\n",
    "    \"lh.slf1\",\n",
    "    \"lh.slf2\",\n",
    "    \"lh.slf3\",\n",
    "    \"lh.uf\",\n",
    "    \"mcp\",\n",
    "    \"lh.af\",\n",
    "    \"rh.ar\",\n",
    "    \"rh.atr\",\n",
    "    \"rh.cbd\",\n",
    "    \"rh.cbv\",\n",
    "    \"rh.cst\",\n",
    "    \"rh.emc\",\n",
    "    \"rh.fat\",\n",
    "    \"rh.fx\",\n",
    "    \"rh.ilf\",\n",
    "    \"rh.mlf\",\n",
    "    \"rh.or\",\n",
    "    \"rh.slf1\",\n",
    "    \"rh.slf2\",\n",
    "    \"rh.slf3\",\n",
    "    \"rh.uf\",\n",
    "    \"mcp\"\n",
    "]"
   ]
  },
  {
   "cell_type": "code",
   "execution_count": 506,
   "metadata": {},
   "outputs": [],
   "source": [
    "def getDF(df, feature):\n",
    "    df.drop([\"resp\", \"respPart\"], axis=1)\n",
    "    df_filtered = df.filter(regex=feature)\n",
    "    areNaN = df_filtered.isna().any(axis=1)\n",
    "    to_remove = areNaN[areNaN == True].index\n",
    "    return df_filtered.drop(to_remove), to_remove"
   ]
  },
  {
   "cell_type": "code",
   "execution_count": 507,
   "metadata": {},
   "outputs": [],
   "source": [
    "lut = dict(zip([0, 1, 2], \"ryg\"))\n",
    "row_colors = df_redundant[\"respPart\"].map(lut)\n",
    "\n",
    "image_types = {\n",
    "    \"original\"      : \"blue\",\n",
    "    \"exponential\"   : \"orange\",\n",
    "    \"gradient\"      : \"green\",\n",
    "    \"lbp-2D\"        : \"red\",\n",
    "    \"lbp-3D\"        : \"purple\",\n",
    "    \"log\"           : \"brown\",\n",
    "    \"logarithm\"     : \"pink\",\n",
    "    \"square\"        : \"gray\",\n",
    "    \"squareroot\"    : \"olive\",\n",
    "    \"wavelet\"       : \"cyan\"\n",
    "}\n",
    "\n",
    "def mapping_func(v):\n",
    "    for image_type in lut.keys():\n",
    "        if image_type in v:\n",
    "            return lut[image_type]\n",
    "    return \"k\"\n",
    "\n",
    "lut = image_types\n",
    "col_colors_image = pd.DataFrame(df_redundant.columns.map(mapping_func)).T\n",
    "col_colors_image.columns = df_redundant.columns\n",
    "col_colors_image = col_colors_image\n",
    "\n",
    "metrics = {\n",
    "    \"FA\"    : \"red\",\n",
    "    \"AD\"    : \"red\",\n",
    "    \"RD\"    : \"red\",\n",
    "    \"MD\"    : \"red\",\n",
    "    \"icvf\"  : \"blue\",\n",
    "    \"odi\"   : \"blue\",\n",
    "    \"fextra\": \"blue\",\n",
    "    \"fiso\"  : \"blue\" ,\n",
    "    \"wFA\"   : \"yellow\",\n",
    "    \"wMD\"   : \"yellow\",\n",
    "    \"wAD\"   : \"yellow\",\n",
    "    \"wRD\"   : \"yellow\",\n",
    "    \"frac_csf\": \"green\",\n",
    "    \"wfvf\"  : \"green\",\n",
    "    \"fvf_tot\": \"green\",\n",
    "    \"frac_csf\":\"green\",\n",
    "}\n",
    "\n",
    "lut = metrics\n",
    "col_colors_metrics = pd.DataFrame(df_redundant.columns.map(mapping_func)).T\n",
    "col_colors_metrics.columns = df_redundant.columns\n",
    "col_colors_metrics = col_colors_metrics\n",
    "\n",
    "col_colors = pd.concat([col_colors_image, col_colors_metrics], axis=0, ignore_index=True)\n",
    "col_colors.index = [\"image_type\", \"model_type\"]"
   ]
  },
  {
   "cell_type": "code",
   "execution_count": 508,
   "metadata": {},
   "outputs": [],
   "source": [
    "method = \"average\"\n",
    "\n",
    "if not os.path.isdir(f\"../imgs/clustering/roi/\"):\n",
    "    os.mkdir(f\"../imgs/clustering/roi/\")\n",
    "\n",
    "if not os.path.isdir(f\"../imgs/clustering/roi/{method}/\"):\n",
    "    os.mkdir(f\"../imgs/clustering/roi/{method}/\")\n",
    "\n",
    "for mask in roi_name:\n",
    "    for side in [\"Left\", \"Right\"]:\n",
    "        # print(side, mask)\n",
    "\n",
    "        regex = f\"{side}-{mask}\"\n",
    "        df, to_remove = getDF(df_redundant, regex)\n",
    "        col_colors_filtered = col_colors.filter(regex=regex).T\n",
    "\n",
    "        sns.clustermap(df, row_colors=row_colors.drop(to_remove), col_colors=col_colors_filtered, z_score=1, method=method, robust=True, xticklabels=False)\n",
    "        plt.savefig(f\"../imgs/clustering/roi/{method}/{mask}-{side}-{method}.png\")\n",
    "\n",
    "        del df\n",
    "        del col_colors_filtered\n",
    "        plt.close()\n",
    "\n",
    "for mask in tract_name:\n",
    "    # print(mask)\n",
    "\n",
    "    regex = f\"{mask}\"\n",
    "    df, to_remove = getDF(df_redundant, regex)\n",
    "    col_colors_filtered = col_colors.filter(regex=regex).T\n",
    "\n",
    "    sns.clustermap(df, row_colors=row_colors.drop(to_remove), col_colors=col_colors_filtered, z_score=1, method=method, robust=True, xticklabels=False)\n",
    "    mask_fields = mask.split(\".\")\n",
    "    if len(mask_fields) == 1:\n",
    "        plt.savefig(f\"../imgs/clustering/roi/{method}/{mask}-{method}.png\")\n",
    "    else:\n",
    "        plt.savefig(f\"../imgs/clustering/roi/{method}/{mask_fields[1]}-{mask_fields[0]}-{method}.png\")\n",
    "\n",
    "    del df\n",
    "    del col_colors_filtered\n",
    "    plt.close()"
   ]
  },
  {
   "cell_type": "code",
   "execution_count": 509,
   "metadata": {},
   "outputs": [],
   "source": [
    "method = \"average\"\n",
    "\n",
    "if not os.path.isdir(f\"../imgs/clustering/metrics/\"):\n",
    "    os.mkdir(f\"../imgs/clustering/metrics/\")\n",
    "\n",
    "if not os.path.isdir(f\"../imgs/clustering/metrics/{method}/\"):\n",
    "    os.mkdir(f\"../imgs/clustering/metrics/{method}/\")\n",
    "\n",
    "for metric in metrics.keys():\n",
    "    regex = f\"{metric}\"\n",
    "    df, to_remove = getDF(df_redundant, regex)\n",
    "    col_colors_filtered = col_colors.filter(regex=regex).T\n",
    "\n",
    "    sns.clustermap(df, row_colors=row_colors.drop(to_remove), col_colors=col_colors_filtered, z_score=1, method=method, robust=True, xticklabels=False)\n",
    "\n",
    "    plt.savefig(f\"../imgs/clustering/metrics/{method}/{metric}.png\")\n",
    "    \n",
    "    del df\n",
    "    del col_colors_filtered\n",
    "    plt.close()\n",
    "\n",
    "for image_type in image_types.keys():\n",
    "    regex = f\"{image_type}\"\n",
    "    df, to_remove = getDF(df_redundant, regex)\n",
    "    col_colors_filtered = col_colors.filter(regex=regex).T\n",
    "\n",
    "    sns.clustermap(df, row_colors=row_colors.drop(to_remove), col_colors=col_colors_filtered, z_score=1, method=method, robust=True, xticklabels=False)\n",
    "\n",
    "    plt.savefig(f\"../imgs/clustering/metrics/{method}/{image_type}.png\")\n",
    "    \n",
    "    del df\n",
    "    del col_colors_filtered\n",
    "    plt.close()"
   ]
  },
  {
   "cell_type": "markdown",
   "metadata": {},
   "source": [
    "# Score estimation with Cross Validation"
   ]
  },
  {
   "cell_type": "code",
   "execution_count": 77,
   "metadata": {},
   "outputs": [],
   "source": [
    "def estimateScoresLogReg(X, y, pca=False, lda=False):\n",
    "    isBinary = True if y.unique().size == 2 else False\n",
    "\n",
    "    auc_str = \"roc_auc\" if isBinary else \"roc_auc_ovr_weighted\"\n",
    "    f1_str = \"f1\" if isBinary else \"f1_weighted\"\n",
    "\n",
    "    logReg = LogisticRegression(\n",
    "        C=1e-6,\n",
    "        class_weight=\"balanced\",\n",
    "        random_state=7,\n",
    "        n_jobs=-1,\n",
    "        max_iter=10000\n",
    "    )\n",
    "\n",
    "    pipe_dict = {\n",
    "        \"scaler\": StandardScaler(),\n",
    "        \"pca\": PCA(\n",
    "            n_components=2,\n",
    "            whiten=True,\n",
    "            svd_solver=\"full\",\n",
    "            random_state=7\n",
    "        ),\n",
    "        \"lda\": LinearDiscriminantAnalysis(\n",
    "            n_components=2\n",
    "        ),\n",
    "        \"estimator\": logReg,\n",
    "    }\n",
    "\n",
    "    if pca == False:\n",
    "        del pipe_dict[\"pca\"]\n",
    "\n",
    "    if lda == False:\n",
    "        del pipe_dict[\"lda\"]\n",
    "\n",
    "    cv = cross_validate(\n",
    "        Pipeline(list(pipe_dict.items())),\n",
    "        X, y,\n",
    "        scoring=(auc_str, f1_str, \"balanced_accuracy\", \"neg_brier_score\", \"neg_log_loss\") if isBinary else (auc_str, f1_str, \"balanced_accuracy\", \"neg_log_loss\"),\n",
    "        cv=3,\n",
    "        n_jobs=-1,\n",
    "    )\n",
    "\n",
    "    approx_auc = cv[f\"test_{auc_str}\"].mean()\n",
    "    approx_f1 = cv[f\"test_{f1_str}\"].mean()\n",
    "    print(\"roc_auc + f1:\\t%.3f\\t(%.3f,\\t%.3f)\" % (approx_auc + approx_f1, approx_auc, approx_f1))\n",
    "\n",
    "    approx_acc = cv[\"test_balanced_accuracy\"].mean()\n",
    "    print(\"accuracy:\\t%.3f\" % (approx_acc))\n",
    "\n",
    "    if isBinary:\n",
    "        print(\"Brier:\\t\\t%.3f\" % cv[\"test_neg_brier_score\"].mean())\n",
    "    print(\"LogLoss:\\t%.3f\" % cv[\"test_neg_log_loss\"].mean())\n"
   ]
  },
  {
   "cell_type": "markdown",
   "metadata": {},
   "source": [
    "# Feature selection (Multivariate)\n",
    "\n",
    "We are going to use a Recoursive Feature Selection to keep the just amount of features to correctly classify the output"
   ]
  },
  {
   "cell_type": "code",
   "execution_count": 8,
   "metadata": {},
   "outputs": [],
   "source": [
    "def fitLinearSVM(X, y, C=1e-3, min_features_to_select=1):\n",
    "    recursive_feature_elimination_svm = RFECV(\n",
    "        Pipeline([\n",
    "            (\"scaler\", StandardScaler()),\n",
    "            (\"svm\", SVC(\n",
    "                C=C,\n",
    "                kernel=\"linear\",\n",
    "                class_weight=\"balanced\",\n",
    "            )),\n",
    "        ]),\n",
    "        min_features_to_select=min_features_to_select,\n",
    "        cv=3,\n",
    "        scoring=make_scorer(auc_and_f1, needs_threshold=True),\n",
    "        n_jobs=-1,\n",
    "        importance_getter=\"named_steps.svm.coef_\" # Because of the pipe\n",
    "    )\n",
    "    recursive_feature_elimination_svm.fit(X, y)\n",
    "    return recursive_feature_elimination_svm\n",
    "\n",
    "def fitLogReg(X, y, C=1e-3, min_features_to_select=1):\n",
    "    recursive_feature_elimination_logreg = RFECV(\n",
    "        Pipeline([\n",
    "            (\"scaler\", StandardScaler()),\n",
    "            (\"logreg\", LogisticRegression(\n",
    "                C=C,\n",
    "                class_weight=\"balanced\",\n",
    "                random_state=7,\n",
    "                n_jobs=-1,\n",
    "                max_iter=10000\n",
    "            ))\n",
    "        ]),\n",
    "        min_features_to_select=min_features_to_select,\n",
    "        cv=3,\n",
    "        scoring=make_scorer(auc_and_f1, needs_proba=True),\n",
    "        n_jobs=-1,\n",
    "        importance_getter=\"named_steps.logreg.coef_\" # Because of the pipe\n",
    "    )\n",
    "\n",
    "    recursive_feature_elimination_logreg.fit(X, y)\n",
    "    return recursive_feature_elimination_logreg\n",
    "\n",
    "def printScoresByFeature(rfecv, min, max, min_selected=1,):\n",
    "    n_scores = len(rfecv.cv_results_[\"mean_test_score\"][min:max])\n",
    "    plt.figure()\n",
    "    plt.xlabel(\"Number of features selected\")\n",
    "    plt.ylabel(\"Mean test accuracy\")\n",
    "    plt.errorbar(\n",
    "        range(min_selected, n_scores + min_selected),\n",
    "        rfecv.cv_results_[\"mean_test_score\"][min:max],\n",
    "        yerr=rfecv.cv_results_[\"std_test_score\"][min:max],\n",
    "    )\n",
    "    plt.title(\"Recursive Feature Elimination \\nwith correlated features\")\n",
    "    plt.show()"
   ]
  },
  {
   "cell_type": "markdown",
   "metadata": {},
   "source": [
    "#### RFE"
   ]
  },
  {
   "cell_type": "markdown",
   "metadata": {},
   "source": [
    "##### Multiclass"
   ]
  },
  {
   "cell_type": "code",
   "execution_count": 105,
   "metadata": {},
   "outputs": [
    {
     "name": "stdout",
     "output_type": "stream",
     "text": [
      "(19, 4114)\n",
      "(19, 2394)\n",
      "(18, 1673)\n",
      "(17, 47)\n",
      "roc_auc + f1:\t1.845\t(0.972,\t0.873)\n",
      "accuracy:\t0.852\n",
      "LogLoss:\t-1.095\n",
      "roc_auc + f1:\t1.919\t(0.975,\t0.944)\n",
      "accuracy:\t0.944\n",
      "LogLoss:\t-1.096\n",
      "roc_auc + f1:\t1.734\t(0.912,\t0.822)\n",
      "accuracy:\t0.852\n",
      "LogLoss:\t-1.099\n",
      "\n",
      "roc_auc + f1:\t1.975\t(0.975,\t1.000)\n",
      "accuracy:\t1.000\n",
      "LogLoss:\t-1.093\n",
      "(19, 4114)\n",
      "(19, 2394)\n",
      "(18, 1673)\n",
      "(17, 47)\n"
     ]
    }
   ],
   "source": [
    "X1, y1, X2, y2, X3, y3 = separateDFs(df_redundant, \"respPart\")\n",
    "\n",
    "estimateScoresLogReg(X1, y1)\n",
    "estimateScoresLogReg(X2, y2)\n",
    "estimateScoresLogReg(X3, y3)\n",
    "print()\n",
    "estimateScoresLogReg(df_redundant.drop([\"VNSLC_16\", \"VNSLC_19\"]).drop([\"resp\", \"respPart\"], axis=1), y3)\n",
    "\n",
    "X1, y1, X2, y2, X3, y3 = separateDFs(df_redundant, \"respPart\")"
   ]
  },
  {
   "cell_type": "code",
   "execution_count": 10,
   "metadata": {},
   "outputs": [
    {
     "data": {
      "text/plain": [
       "(19, 1006)"
      ]
     },
     "execution_count": 10,
     "metadata": {},
     "output_type": "execute_result"
    }
   ],
   "source": [
    "feature_selected = []\n",
    "\n",
    "for X, y in [(X1, y1), (X2, y2), (X3, y3)]:\n",
    "    recursive_feature_elimination_logreg = fitLogReg(X, y)\n",
    "\n",
    "    logreg_selected = recursive_feature_elimination_logreg.get_feature_names_out()\n",
    "\n",
    "    feature_selected = [*feature_selected, *logreg_selected]\n",
    "\n",
    "df_multivariate_multiclass = df_redundant[feature_selected]\n",
    "df_multivariate_multiclass = pd.concat([df_redundant[[\"resp\", \"respPart\"]], df_multivariate_multiclass], axis=1)\n",
    "df_multivariate_multiclass.shape"
   ]
  },
  {
   "cell_type": "markdown",
   "metadata": {},
   "source": [
    "#### SFS"
   ]
  },
  {
   "cell_type": "code",
   "execution_count": 106,
   "metadata": {},
   "outputs": [
    {
     "name": "stdout",
     "output_type": "stream",
     "text": [
      "(19, 1004)\n",
      "(19, 425)\n",
      "(18, 538)\n",
      "(17, 41)\n",
      "roc_auc + f1:\t1.952\t(1.000,\t0.952)\n",
      "accuracy:\t0.963\n",
      "LogLoss:\t-1.098\n",
      "roc_auc + f1:\t2.000\t(1.000,\t1.000)\n",
      "accuracy:\t1.000\n",
      "LogLoss:\t-1.098\n",
      "roc_auc + f1:\t1.762\t(0.940,\t0.822)\n",
      "accuracy:\t0.852\n",
      "LogLoss:\t-1.099\n",
      "\n",
      "roc_auc + f1:\t2.000\t(1.000,\t1.000)\n",
      "accuracy:\t1.000\n",
      "LogLoss:\t-1.097\n"
     ]
    }
   ],
   "source": [
    "X1, y1, X2, y2, X3, y3 = separateDFs(df_multivariate_multiclass, \"respPart\")\n",
    "\n",
    "estimateScoresLogReg(X1, y1)\n",
    "estimateScoresLogReg(X2, y2)\n",
    "estimateScoresLogReg(X3, y3)\n",
    "print()\n",
    "estimateScoresLogReg(df_multivariate_multiclass.drop([\"VNSLC_16\", \"VNSLC_19\"]).drop([\"resp\", \"respPart\"], axis=1), y3)"
   ]
  },
  {
   "cell_type": "code",
   "execution_count": 107,
   "metadata": {},
   "outputs": [],
   "source": [
    "from contextlib import redirect_stdout, redirect_stderr, contextmanager, ExitStack\n",
    "import os\n",
    "\n",
    "@contextmanager\n",
    "def suppress(out=True, err=False):\n",
    "    with ExitStack() as stack:\n",
    "        with open(os.devnull, \"w\") as null:\n",
    "            if out:\n",
    "                stack.enter_context(redirect_stdout(null))\n",
    "            if err:\n",
    "                stack.enter_context(redirect_stderr(null))\n",
    "            yield"
   ]
  },
  {
   "cell_type": "code",
   "execution_count": 14,
   "metadata": {},
   "outputs": [
    {
     "name": "stderr",
     "output_type": "stream",
     "text": [
      "  0%|          | 1/425 [00:00<01:01,  6.86it/s]"
     ]
    },
    {
     "name": "stderr",
     "output_type": "stream",
     "text": [
      "100%|██████████| 425/425 [00:46<00:00,  9.11it/s]\n",
      "/tmp/ipykernel_4050605/1535259876.py:65: FutureWarning: Series.__getitem__ treating keys as positions is deprecated. In a future version, integer keys will always be treated as labels (consistent with DataFrame behavior). To access a value by position, use `ser.iloc[pos]`\n",
      "  best_score = scores[best_idx]\n",
      "100%|██████████| 425/425 [00:50<00:00,  8.42it/s]\n",
      "/tmp/ipykernel_4050605/1535259876.py:65: FutureWarning: Series.__getitem__ treating keys as positions is deprecated. In a future version, integer keys will always be treated as labels (consistent with DataFrame behavior). To access a value by position, use `ser.iloc[pos]`\n",
      "  best_score = scores[best_idx]\n",
      "100%|██████████| 425/425 [00:52<00:00,  8.02it/s]\n",
      "/tmp/ipykernel_4050605/1535259876.py:65: FutureWarning: Series.__getitem__ treating keys as positions is deprecated. In a future version, integer keys will always be treated as labels (consistent with DataFrame behavior). To access a value by position, use `ser.iloc[pos]`\n",
      "  best_score = scores[best_idx]\n",
      "100%|██████████| 425/425 [00:51<00:00,  8.18it/s]\n",
      "/tmp/ipykernel_4050605/1535259876.py:65: FutureWarning: Series.__getitem__ treating keys as positions is deprecated. In a future version, integer keys will always be treated as labels (consistent with DataFrame behavior). To access a value by position, use `ser.iloc[pos]`\n",
      "  best_score = scores[best_idx]\n",
      "100%|██████████| 425/425 [00:52<00:00,  8.15it/s]\n",
      "/tmp/ipykernel_4050605/1535259876.py:65: FutureWarning: Series.__getitem__ treating keys as positions is deprecated. In a future version, integer keys will always be treated as labels (consistent with DataFrame behavior). To access a value by position, use `ser.iloc[pos]`\n",
      "  best_score = scores[best_idx]\n",
      "100%|██████████| 538/538 [01:02<00:00,  8.61it/s]\n",
      "/tmp/ipykernel_4050605/1535259876.py:65: FutureWarning: Series.__getitem__ treating keys as positions is deprecated. In a future version, integer keys will always be treated as labels (consistent with DataFrame behavior). To access a value by position, use `ser.iloc[pos]`\n",
      "  best_score = scores[best_idx]\n",
      "100%|██████████| 538/538 [01:06<00:00,  8.09it/s]\n",
      "/tmp/ipykernel_4050605/1535259876.py:65: FutureWarning: Series.__getitem__ treating keys as positions is deprecated. In a future version, integer keys will always be treated as labels (consistent with DataFrame behavior). To access a value by position, use `ser.iloc[pos]`\n",
      "  best_score = scores[best_idx]\n",
      "100%|██████████| 538/538 [01:03<00:00,  8.53it/s]\n",
      "/tmp/ipykernel_4050605/1535259876.py:65: FutureWarning: Series.__getitem__ treating keys as positions is deprecated. In a future version, integer keys will always be treated as labels (consistent with DataFrame behavior). To access a value by position, use `ser.iloc[pos]`\n",
      "  best_score = scores[best_idx]\n",
      "100%|██████████| 538/538 [01:05<00:00,  8.25it/s]\n",
      "/tmp/ipykernel_4050605/1535259876.py:65: FutureWarning: Series.__getitem__ treating keys as positions is deprecated. In a future version, integer keys will always be treated as labels (consistent with DataFrame behavior). To access a value by position, use `ser.iloc[pos]`\n",
      "  best_score = scores[best_idx]\n",
      "100%|██████████| 41/41 [00:05<00:00,  7.31it/s]\n",
      "/tmp/ipykernel_4050605/1535259876.py:65: FutureWarning: Series.__getitem__ treating keys as positions is deprecated. In a future version, integer keys will always be treated as labels (consistent with DataFrame behavior). To access a value by position, use `ser.iloc[pos]`\n",
      "  best_score = scores[best_idx]\n",
      "100%|██████████| 41/41 [00:04<00:00,  8.69it/s]\n",
      "/tmp/ipykernel_4050605/1535259876.py:65: FutureWarning: Series.__getitem__ treating keys as positions is deprecated. In a future version, integer keys will always be treated as labels (consistent with DataFrame behavior). To access a value by position, use `ser.iloc[pos]`\n",
      "  best_score = scores[best_idx]\n",
      "100%|██████████| 41/41 [00:04<00:00,  9.73it/s]\n",
      "/tmp/ipykernel_4050605/1535259876.py:65: FutureWarning: Series.__getitem__ treating keys as positions is deprecated. In a future version, integer keys will always be treated as labels (consistent with DataFrame behavior). To access a value by position, use `ser.iloc[pos]`\n",
      "  best_score = scores[best_idx]\n",
      "100%|██████████| 41/41 [00:04<00:00,  8.44it/s]\n",
      "/tmp/ipykernel_4050605/1535259876.py:65: FutureWarning: Series.__getitem__ treating keys as positions is deprecated. In a future version, integer keys will always be treated as labels (consistent with DataFrame behavior). To access a value by position, use `ser.iloc[pos]`\n",
      "  best_score = scores[best_idx]\n",
      "100%|██████████| 41/41 [00:04<00:00,  8.25it/s]\n",
      "/tmp/ipykernel_4050605/1535259876.py:65: FutureWarning: Series.__getitem__ treating keys as positions is deprecated. In a future version, integer keys will always be treated as labels (consistent with DataFrame behavior). To access a value by position, use `ser.iloc[pos]`\n",
      "  best_score = scores[best_idx]\n",
      "100%|██████████| 41/41 [00:03<00:00, 10.65it/s]\n",
      "/tmp/ipykernel_4050605/1535259876.py:65: FutureWarning: Series.__getitem__ treating keys as positions is deprecated. In a future version, integer keys will always be treated as labels (consistent with DataFrame behavior). To access a value by position, use `ser.iloc[pos]`\n",
      "  best_score = scores[best_idx]\n",
      "100%|██████████| 41/41 [00:03<00:00, 10.30it/s]\n",
      "/tmp/ipykernel_4050605/1535259876.py:65: FutureWarning: Series.__getitem__ treating keys as positions is deprecated. In a future version, integer keys will always be treated as labels (consistent with DataFrame behavior). To access a value by position, use `ser.iloc[pos]`\n",
      "  best_score = scores[best_idx]\n"
     ]
    }
   ],
   "source": [
    "features_to_select = 10 + 1\n",
    "\n",
    "logReg = LogisticRegression(\n",
    "    C=1e-6,\n",
    "    class_weight=\"balanced\",\n",
    "    random_state=7,\n",
    "    n_jobs=-1,\n",
    "    max_iter=10000\n",
    ")\n",
    "\n",
    "with suppress():\n",
    "    X1, y1_bin, X2, y2_bin, X3, y3_bin = separateDFs(df_multivariate_multiclass, \"resp\")\n",
    "    X1, y1_multi, X2, y2_multi, X3, y3_multi = separateDFs(df_multivariate_multiclass, \"respPart\")\n",
    "\n",
    "selected_features = []\n",
    "\n",
    "for X_full, y_bin, y_multi in [(X1, y1_bin, y1_multi), (X2, y2_bin, y2_multi), (X3, y3_bin, y3_multi)]:\n",
    "\n",
    "    best_selected = []\n",
    "    prev_best_score = 0\n",
    "\n",
    "    for n_features in range(1, min(features_to_select, X_full.shape[1]+1)):\n",
    "\n",
    "        scores = {}\n",
    "\n",
    "        for col in X_full.columns:\n",
    "\n",
    "            if col in best_selected:\n",
    "                continue\n",
    "\n",
    "            X = X_full[[*best_selected, col]]\n",
    "\n",
    "            score = 0\n",
    "            for isBinary in [True, False]:\n",
    "\n",
    "                auc_str = \"roc_auc\" if isBinary else \"roc_auc_ovr_weighted\"\n",
    "                f1_str = \"f1\" if isBinary else \"f1_weighted\"\n",
    "                y = y_bin if isBinary else y_multi\n",
    "\n",
    "                cv = cross_validate(\n",
    "                    Pipeline([\n",
    "                        (\"scaler\", StandardScaler()),\n",
    "                        (\"estimator\", logReg),\n",
    "                    ]),\n",
    "                    X, y,\n",
    "                    scoring=(auc_str, f1_str, \"neg_brier_score\", \"neg_log_loss\") if isBinary else (auc_str, f1_str, \"neg_log_loss\"),\n",
    "                    cv=3,\n",
    "                    n_jobs=-1,\n",
    "                )\n",
    "\n",
    "                score += cv[f\"test_{auc_str}\"].mean()\n",
    "                score += cv[f\"test_{f1_str}\"].mean()\n",
    "                if isBinary:\n",
    "                    score += cv[\"test_neg_brier_score\"].mean()\n",
    "                    score += cv[\"test_neg_log_loss\"].mean()\n",
    "                else:\n",
    "                    score += cv[\"test_neg_log_loss\"].mean()\n",
    "\n",
    "            scores[col] = score\n",
    "        \n",
    "        scores = pd.Series(scores)\n",
    "        best_idx = scores.argmax()\n",
    "\n",
    "        best_feature = scores.index[best_idx]\n",
    "        best_score = scores[best_idx]\n",
    "\n",
    "        # print(best_feature)\n",
    "        # print(best_score)\n",
    "\n",
    "        if abs(best_score-prev_best_score) < 1e-3:\n",
    "            # print(\"Stopping...\")\n",
    "            # print()\n",
    "            break\n",
    "        prev_best_score = best_score\n",
    "\n",
    "        best_selected.append(best_feature)\n",
    "\n",
    "    selected_features = [*selected_features, *best_selected]\n",
    "\n",
    "    # print(best_selected)\n",
    "    # print()\n",
    "\n",
    "df_sfs = df_multivariate_multiclass[selected_features]\n",
    "df_sfs = pd.concat([df_multivariate_multiclass[[\"resp\", \"respPart\"]], df_sfs], axis=1)\n",
    "df_sfs.shape"
   ]
  },
  {
   "cell_type": "code",
   "execution_count": 108,
   "metadata": {},
   "outputs": [],
   "source": [
    "df_sfs.to_csv(\"../study/stats/datasetRadiomicsSelected.csv\")"
   ]
  },
  {
   "cell_type": "code",
   "execution_count": 109,
   "metadata": {},
   "outputs": [
    {
     "data": {
      "text/plain": [
       "(19, 15)"
      ]
     },
     "execution_count": 109,
     "metadata": {},
     "output_type": "execute_result"
    }
   ],
   "source": [
    "df_sfs = pd.read_csv(\"../study/stats/datasetRadiomicsSelected.csv\", index_col=\"ID\")\n",
    "df_sfs.shape"
   ]
  },
  {
   "cell_type": "markdown",
   "metadata": {},
   "source": [
    "# Feature selection all features"
   ]
  },
  {
   "cell_type": "code",
   "execution_count": 131,
   "metadata": {},
   "outputs": [
    {
     "name": "stdout",
     "output_type": "stream",
     "text": [
      "(19, 13)\n",
      "(19, 4)\n",
      "(18, 3)\n",
      "(17, 6)\n",
      "roc_auc + f1:\t2.000\t(1.000,\t1.000)\n",
      "accuracy:\t1.000\n",
      "LogLoss:\t-1.099\n",
      "roc_auc + f1:\t2.000\t(1.000,\t1.000)\n",
      "accuracy:\t1.000\n",
      "LogLoss:\t-1.099\n",
      "roc_auc + f1:\t1.969\t(0.969,\t1.000)\n",
      "accuracy:\t1.000\n",
      "LogLoss:\t-1.099\n",
      "\n",
      "roc_auc + f1:\t1.986\t(0.986,\t1.000)\n",
      "accuracy:\t1.000\n",
      "LogLoss:\t-1.099\n"
     ]
    }
   ],
   "source": [
    "X1, y1, X2, y2, X3, y3 = separateDFs(df_sfs, \"respPart\")\n",
    "\n",
    "estimateScoresLogReg(X1, y1)\n",
    "estimateScoresLogReg(X2, y2)\n",
    "estimateScoresLogReg(X3, y3)\n",
    "print()\n",
    "estimateScoresLogReg(df_sfs.drop([\"VNSLC_16\", \"VNSLC_19\"]).drop([\"resp\", \"respPart\"], axis=1), y3)"
   ]
  },
  {
   "cell_type": "code",
   "execution_count": 121,
   "metadata": {},
   "outputs": [],
   "source": [
    "X = df_sfs.drop([\"VNSLC_16\", \"VNSLC_19\"]).drop([\"resp\",\"respPart\"], axis=1)\n",
    "y = df_sfs.drop([\"VNSLC_16\", \"VNSLC_19\"])[\"respPart\"]"
   ]
  },
  {
   "cell_type": "code",
   "execution_count": 125,
   "metadata": {},
   "outputs": [
    {
     "name": "stdout",
     "output_type": "stream",
     "text": [
      "('lh.uf_wfvf_wavelet-LLH_firstorder_90Percentile', 'rh.cbv_frac_csf_mf_wavelet-LHH_firstorder_Mean', 'rh.cbv_frac_csf_mf_wavelet-LHH_glcm_Correlation')\n"
     ]
    },
    {
     "data": {
      "image/png": "[encoded data removed]",
      "text/plain": [
       "<Figure size 640x480 with 1 Axes>"
      ]
     },
     "metadata": {},
     "output_type": "display_data"
    }
   ],
   "source": [
    "logReg = LogisticRegression(\n",
    "    C=1e-6,\n",
    "    class_weight=\"balanced\",\n",
    "    random_state=7,\n",
    "    n_jobs=-1,\n",
    "    max_iter=10000\n",
    ")\n",
    "\n",
    "sfs = SFS(\n",
    "    logReg,\n",
    "    k_features=(1,13),\n",
    "    forward=True,\n",
    "    floating=True,\n",
    "    # scoring=make_scorer(auc_and_f1, needs_proba=True),\n",
    "    scoring=\"f1_weighted\",\n",
    "    cv=3,\n",
    "    n_jobs=-1,\n",
    ")\n",
    "sfs.fit(X, y)\n",
    "# print(sfs.k_score_)\n",
    "print(sfs.k_feature_names_)\n",
    "plot_sfs(sfs.get_metric_dict(), kind='std_dev')\n",
    "\n",
    "df_final = df_sfs[list(sfs.k_feature_names_)]\n",
    "df_final = pd.concat([df_sfs[[\"resp\", \"respPart\"]], df_final], axis=1)"
   ]
  },
  {
   "cell_type": "markdown",
   "metadata": {},
   "source": [
    "# Feature extraction"
   ]
  },
  {
   "cell_type": "code",
   "execution_count": 128,
   "metadata": {},
   "outputs": [
    {
     "name": "stdout",
     "output_type": "stream",
     "text": [
      "roc_auc + f1:\t1.692\t(0.900,\t0.792)\n",
      "accuracy:\t0.796\n",
      "LogLoss:\t-1.099\n"
     ]
    }
   ],
   "source": [
    "estimateScoresLogReg(df_final.drop([\"VNSLC_16\", \"VNSLC_19\"]).drop([\"resp\", \"respPart\"], axis=1), y3)\n",
    "\n",
    "X = df_final.drop([\"VNSLC_16\", \"VNSLC_19\"]).drop([\"resp\",\"respPart\"], axis=1)\n",
    "y = df_final[\"respPart\"]"
   ]
  },
  {
   "cell_type": "markdown",
   "metadata": {},
   "source": [
    "#### PCA"
   ]
  },
  {
   "cell_type": "code",
   "execution_count": 74,
   "metadata": {},
   "outputs": [
    {
     "name": "stderr",
     "output_type": "stream",
     "text": [
      "/home/michele/anaconda3/envs/pyRadiomics/lib/python3.9/site-packages/seaborn/_oldcore.py:1498: FutureWarning: is_categorical_dtype is deprecated and will be removed in a future version. Use isinstance(dtype, CategoricalDtype) instead\n",
      "  if pd.api.types.is_categorical_dtype(vector):\n",
      "/home/michele/anaconda3/envs/pyRadiomics/lib/python3.9/site-packages/seaborn/_oldcore.py:1498: FutureWarning: is_categorical_dtype is deprecated and will be removed in a future version. Use isinstance(dtype, CategoricalDtype) instead\n",
      "  if pd.api.types.is_categorical_dtype(vector):\n",
      "/home/michele/anaconda3/envs/pyRadiomics/lib/python3.9/site-packages/seaborn/_oldcore.py:1498: FutureWarning: is_categorical_dtype is deprecated and will be removed in a future version. Use isinstance(dtype, CategoricalDtype) instead\n",
      "  if pd.api.types.is_categorical_dtype(vector):\n",
      "/home/michele/anaconda3/envs/pyRadiomics/lib/python3.9/site-packages/seaborn/_oldcore.py:1498: FutureWarning: is_categorical_dtype is deprecated and will be removed in a future version. Use isinstance(dtype, CategoricalDtype) instead\n",
      "  if pd.api.types.is_categorical_dtype(vector):\n"
     ]
    },
    {
     "data": {
      "text/plain": [
       "<AxesSubplot:>"
      ]
     },
     "execution_count": 74,
     "metadata": {},
     "output_type": "execute_result"
    },
    {
     "data": {
      "image/png": "[encoded data removed]",
      "text/plain": [
       "<Figure size 640x480 with 1 Axes>"
      ]
     },
     "metadata": {},
     "output_type": "display_data"
    }
   ],
   "source": [
    "n_components = 2\n",
    "whiten = True\n",
    "pca = PCA(\n",
    "    n_components,\n",
    "    whiten=whiten,\n",
    "    svd_solver=\"full\",\n",
    "    random_state=7\n",
    ")\n",
    "\n",
    "X_scaled = StandardScaler().fit_transform(X1)\n",
    "X_pca = pca.fit_transform(X_scaled)\n",
    "\n",
    "sns.scatterplot(x=X_pca[:,0], y=X_pca[:,1], hue=y1, palette=\"deep\")"
   ]
  },
  {
   "cell_type": "markdown",
   "metadata": {},
   "source": [
    "#### LDA"
   ]
  },
  {
   "cell_type": "code",
   "execution_count": 75,
   "metadata": {},
   "outputs": [
    {
     "name": "stderr",
     "output_type": "stream",
     "text": [
      "/home/michele/anaconda3/envs/pyRadiomics/lib/python3.9/site-packages/seaborn/_oldcore.py:1498: FutureWarning: is_categorical_dtype is deprecated and will be removed in a future version. Use isinstance(dtype, CategoricalDtype) instead\n",
      "  if pd.api.types.is_categorical_dtype(vector):\n",
      "/home/michele/anaconda3/envs/pyRadiomics/lib/python3.9/site-packages/seaborn/_oldcore.py:1498: FutureWarning: is_categorical_dtype is deprecated and will be removed in a future version. Use isinstance(dtype, CategoricalDtype) instead\n",
      "  if pd.api.types.is_categorical_dtype(vector):\n",
      "/home/michele/anaconda3/envs/pyRadiomics/lib/python3.9/site-packages/seaborn/_oldcore.py:1498: FutureWarning: is_categorical_dtype is deprecated and will be removed in a future version. Use isinstance(dtype, CategoricalDtype) instead\n",
      "  if pd.api.types.is_categorical_dtype(vector):\n",
      "/home/michele/anaconda3/envs/pyRadiomics/lib/python3.9/site-packages/seaborn/_oldcore.py:1498: FutureWarning: is_categorical_dtype is deprecated and will be removed in a future version. Use isinstance(dtype, CategoricalDtype) instead\n",
      "  if pd.api.types.is_categorical_dtype(vector):\n"
     ]
    },
    {
     "data": {
      "text/plain": [
       "<AxesSubplot:>"
      ]
     },
     "execution_count": 75,
     "metadata": {},
     "output_type": "execute_result"
    },
    {
     "data": {
      "image/png": "[encoded data removed]",
      "text/plain": [
       "<Figure size 640x480 with 1 Axes>"
      ]
     },
     "metadata": {},
     "output_type": "display_data"
    }
   ],
   "source": [
    "n_components = 2\n",
    "# By using the Ledoit Wolf or OAS covariance mareices can be even better (Maybe see later)\n",
    "lda = LinearDiscriminantAnalysis(\n",
    "    # solver=\"eigen\",\n",
    "    # shrinkage=\"auto\",\n",
    "    n_components=n_components,\n",
    ")\n",
    "\n",
    "X_scaled = StandardScaler().fit_transform(X1)\n",
    "X_lda = lda.fit_transform(X_scaled, y1)\n",
    "\n",
    "sns.scatterplot(x=X_lda[:,0], y=X_lda[:,1], hue=y1, palette=\"deep\")"
   ]
  }
 ],
 "metadata": {
  "kernelspec": {
   "display_name": "dMRI",
   "language": "python",
   "name": "python3"
  },
  "language_info": {
   "codemirror_mode": {
    "name": "ipython",
    "version": 3
   },
   "file_extension": ".py",
   "mimetype": "text/x-python",
   "name": "python",
   "nbconvert_exporter": "python",
   "pygments_lexer": "ipython3",
   "version": "3.9.18"
  },
  "orig_nbformat": 4
 },
 "nbformat": 4,
 "nbformat_minor": 2
}
