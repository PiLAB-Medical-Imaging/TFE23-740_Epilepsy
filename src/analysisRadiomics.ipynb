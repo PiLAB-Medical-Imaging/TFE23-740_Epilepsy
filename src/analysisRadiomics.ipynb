{
 "cells": [
  {
   "cell_type": "markdown",
   "metadata": {},
   "source": [
    "# Radiomics analysis"
   ]
  },
  {
   "cell_type": "code",
   "execution_count": 381,
   "metadata": {},
   "outputs": [],
   "source": [
    "import pandas as pd\n",
    "import matplotlib.pyplot as plt\n",
    "import seaborn as sns\n",
    "import os\n",
    "import fastcluster\n",
    "\n",
    "from scipy import stats\n",
    "from sklearn.feature_selection import VarianceThreshold, mutual_info_classif, f_classif\n",
    "\n",
    "ds_path = \"../study/stats/datasetRadiomics.csv\""
   ]
  },
  {
   "cell_type": "code",
   "execution_count": 124,
   "metadata": {},
   "outputs": [],
   "source": [
    "df = pd.read_csv(ds_path, index_col=\"ID\")"
   ]
  },
  {
   "cell_type": "markdown",
   "metadata": {},
   "source": [
    "[roi_name]\\_[metric]\\_[image]\\_[feature] "
   ]
  },
  {
   "cell_type": "code",
   "execution_count": 204,
   "metadata": {},
   "outputs": [],
   "source": [
    "def separateDFs(df):\n",
    "    y1 = df[\"resp\"]\n",
    "    X = df.drop([\"resp\", \"respPart\"], axis=1)\n",
    "    print(X.shape)\n",
    "\n",
    "    a = X.isna().any(axis=0)\n",
    "    # X1 is the first ds\n",
    "    X1 = X.drop(a[a==True].index, axis=1)\n",
    "\n",
    "    print(X1.shape)\n",
    "\n",
    "    X2_1 = X.loc[:, a==True].drop(\"VNSLC_16\")\n",
    "    b = X2_1.isna().any(axis=0)\n",
    "    # X2 is the second ds\n",
    "    X2 = X2_1.drop(b[b==True].index, axis=1)\n",
    "    y2 = y1.drop(\"VNSLC_16\")\n",
    "    print(X2.shape)\n",
    "\n",
    "    # X3 is the third ds\n",
    "    X3 = X2_1.loc[:, b==True].drop(\"VNSLC_19\")\n",
    "    y3 = y2.drop(\"VNSLC_19\")\n",
    "    print(X3.shape)\n",
    "\n",
    "    return X1, y1, X2, y2, X3, y3"
   ]
  },
  {
   "cell_type": "markdown",
   "metadata": {},
   "source": [
    "# Filtering"
   ]
  },
  {
   "cell_type": "markdown",
   "metadata": {},
   "source": [
    "##### Variance threshold"
   ]
  },
  {
   "cell_type": "code",
   "execution_count": 205,
   "metadata": {},
   "outputs": [
    {
     "name": "stdout",
     "output_type": "stream",
     "text": [
      "(19, 1512456)\n",
      "(19, 891272)\n",
      "(18, 594176)\n",
      "(17, 27008)\n"
     ]
    }
   ],
   "source": [
    "X1, y1, X2, y2, X3, y3 = separateDFs(df)"
   ]
  },
  {
   "cell_type": "code",
   "execution_count": 218,
   "metadata": {},
   "outputs": [],
   "source": [
    "X_selected = []\n",
    "\n",
    "for X in [X1, X2, X3]:\n",
    "    varThresh = VarianceThreshold(0)\n",
    "    varThresh.fit_transform(X)\n",
    "    selected_feature_indices = varThresh.get_support(indices=True)\n",
    "    X_selected.append(X.iloc[:, selected_feature_indices])\n",
    "\n",
    "df_selected = pd.concat([df[\"resp\"], df[\"respPart\"], X_selected[0], X_selected[1], X_selected[2]], axis=1)"
   ]
  },
  {
   "cell_type": "markdown",
   "metadata": {},
   "source": [
    "##### Outlier removal"
   ]
  },
  {
   "cell_type": "code",
   "execution_count": 258,
   "metadata": {},
   "outputs": [],
   "source": [
    "z_scores_abs = abs((df_selected - df_selected.mean())/df_selected.std())\n",
    "\n",
    "features_to_remove = []\n",
    "\n",
    "for i in [0, 1, 2]:\n",
    "    z_scores = z_scores_abs[df_selected[\"respPart\"]==i]\n",
    "    features_with_outliers = (z_scores > 1.65).any(axis=0)\n",
    "    features_to_remove_curr = features_with_outliers[features_with_outliers == True].index\n",
    "\n",
    "    features_to_remove = [*features_to_remove, *features_to_remove_curr]\n",
    "\n",
    "df_outliers = df_selected.drop(features_to_remove, axis=1)"
   ]
  },
  {
   "cell_type": "markdown",
   "metadata": {},
   "source": [
    "##### Kurtosis filtering"
   ]
  },
  {
   "cell_type": "code",
   "execution_count": 294,
   "metadata": {},
   "outputs": [],
   "source": [
    "res = stats.kurtosis(df_outliers, axis=0, bias=False, nan_policy=\"omit\")\n",
    "df_kurtosis = df_outliers.iloc[:, (abs(res)<2)]"
   ]
  },
  {
   "cell_type": "code",
   "execution_count": 300,
   "metadata": {},
   "outputs": [],
   "source": [
    "df_kurtosis.to_csv(\"../study/stats/datasetRadiomicsFiltered.csv\")"
   ]
  },
  {
   "cell_type": "code",
   "execution_count": 2,
   "metadata": {},
   "outputs": [],
   "source": [
    "df_kurtosis = pd.read_csv(\"../study/stats/datasetRadiomicsFiltered.csv\", index_col=\"ID\")"
   ]
  },
  {
   "cell_type": "markdown",
   "metadata": {},
   "source": [
    "##### Mutual Information univariate filtering"
   ]
  },
  {
   "cell_type": "code",
   "execution_count": 367,
   "metadata": {},
   "outputs": [
    {
     "name": "stdout",
     "output_type": "stream",
     "text": [
      "(19, 47815)\n",
      "(19, 30236)\n",
      "(18, 17063)\n",
      "(17, 516)\n"
     ]
    }
   ],
   "source": [
    "X1, y1, X2, y2, X3, y3 = separateDFs(df_kurtosis)"
   ]
  },
  {
   "cell_type": "code",
   "execution_count": 383,
   "metadata": {},
   "outputs": [
    {
     "ename": "KeyboardInterrupt",
     "evalue": "",
     "output_type": "error",
     "traceback": [
      "\u001b[0;31m---------------------------------------------------------------------------\u001b[0m",
      "\u001b[0;31mKeyboardInterrupt\u001b[0m                         Traceback (most recent call last)",
      "\u001b[1;32m/home/michele/Dropbox (Politecnico Di Torino Studenti)/thesis/code/Epilepsy-dMRI-VNS/src/analysisRadiomics.ipynb Cell 18\u001b[0m line \u001b[0;36m1\n\u001b[0;32m----> <a href='vscode-notebook-cell:/home/michele/Dropbox%20%28Politecnico%20Di%20Torino%20Studenti%29/thesis/code/Epilepsy-dMRI-VNS/src/analysisRadiomics.ipynb#X61sZmlsZQ%3D%3D?line=0'>1</a>\u001b[0m mu1_df \u001b[39m=\u001b[39m pd\u001b[39m.\u001b[39mDataFrame(mutual_info_classif(X1, y1), index\u001b[39m=\u001b[39mX1\u001b[39m.\u001b[39mcolumns)\n\u001b[1;32m      <a href='vscode-notebook-cell:/home/michele/Dropbox%20%28Politecnico%20Di%20Torino%20Studenti%29/thesis/code/Epilepsy-dMRI-VNS/src/analysisRadiomics.ipynb#X61sZmlsZQ%3D%3D?line=1'>2</a>\u001b[0m mu2_df \u001b[39m=\u001b[39m pd\u001b[39m.\u001b[39mDataFrame(mutual_info_classif(X2, y2), index\u001b[39m=\u001b[39mX2\u001b[39m.\u001b[39mcolumns)\n\u001b[1;32m      <a href='vscode-notebook-cell:/home/michele/Dropbox%20%28Politecnico%20Di%20Torino%20Studenti%29/thesis/code/Epilepsy-dMRI-VNS/src/analysisRadiomics.ipynb#X61sZmlsZQ%3D%3D?line=2'>3</a>\u001b[0m mu3_df \u001b[39m=\u001b[39m pd\u001b[39m.\u001b[39mDataFrame(mutual_info_classif(X3, y3), index\u001b[39m=\u001b[39mX3\u001b[39m.\u001b[39mcolumns)\n",
      "File \u001b[0;32m~/anaconda3/envs/pyRadiomics/lib/python3.9/site-packages/sklearn/utils/_param_validation.py:211\u001b[0m, in \u001b[0;36mvalidate_params.<locals>.decorator.<locals>.wrapper\u001b[0;34m(*args, **kwargs)\u001b[0m\n\u001b[1;32m    205\u001b[0m \u001b[39mtry\u001b[39;00m:\n\u001b[1;32m    206\u001b[0m     \u001b[39mwith\u001b[39;00m config_context(\n\u001b[1;32m    207\u001b[0m         skip_parameter_validation\u001b[39m=\u001b[39m(\n\u001b[1;32m    208\u001b[0m             prefer_skip_nested_validation \u001b[39mor\u001b[39;00m global_skip_validation\n\u001b[1;32m    209\u001b[0m         )\n\u001b[1;32m    210\u001b[0m     ):\n\u001b[0;32m--> 211\u001b[0m         \u001b[39mreturn\u001b[39;00m func(\u001b[39m*\u001b[39;49margs, \u001b[39m*\u001b[39;49m\u001b[39m*\u001b[39;49mkwargs)\n\u001b[1;32m    212\u001b[0m \u001b[39mexcept\u001b[39;00m InvalidParameterError \u001b[39mas\u001b[39;00m e:\n\u001b[1;32m    213\u001b[0m     \u001b[39m# When the function is just a wrapper around an estimator, we allow\u001b[39;00m\n\u001b[1;32m    214\u001b[0m     \u001b[39m# the function to delegate validation to the estimator, but we replace\u001b[39;00m\n\u001b[1;32m    215\u001b[0m     \u001b[39m# the name of the estimator by the name of the function in the error\u001b[39;00m\n\u001b[1;32m    216\u001b[0m     \u001b[39m# message to avoid confusion.\u001b[39;00m\n\u001b[1;32m    217\u001b[0m     msg \u001b[39m=\u001b[39m re\u001b[39m.\u001b[39msub(\n\u001b[1;32m    218\u001b[0m         \u001b[39mr\u001b[39m\u001b[39m\"\u001b[39m\u001b[39mparameter of \u001b[39m\u001b[39m\\\u001b[39m\u001b[39mw+ must be\u001b[39m\u001b[39m\"\u001b[39m,\n\u001b[1;32m    219\u001b[0m         \u001b[39mf\u001b[39m\u001b[39m\"\u001b[39m\u001b[39mparameter of \u001b[39m\u001b[39m{\u001b[39;00mfunc\u001b[39m.\u001b[39m\u001b[39m__qualname__\u001b[39m\u001b[39m}\u001b[39;00m\u001b[39m must be\u001b[39m\u001b[39m\"\u001b[39m,\n\u001b[1;32m    220\u001b[0m         \u001b[39mstr\u001b[39m(e),\n\u001b[1;32m    221\u001b[0m     )\n",
      "File \u001b[0;32m~/anaconda3/envs/pyRadiomics/lib/python3.9/site-packages/sklearn/feature_selection/_mutual_info.py:493\u001b[0m, in \u001b[0;36mmutual_info_classif\u001b[0;34m(X, y, discrete_features, n_neighbors, copy, random_state)\u001b[0m\n\u001b[1;32m    419\u001b[0m \u001b[39m\u001b[39m\u001b[39m\"\"\"Estimate mutual information for a discrete target variable.\u001b[39;00m\n\u001b[1;32m    420\u001b[0m \n\u001b[1;32m    421\u001b[0m \u001b[39mMutual information (MI) [1]_ between two random variables is a non-negative\u001b[39;00m\n\u001b[0;32m   (...)\u001b[0m\n\u001b[1;32m    490\u001b[0m \u001b[39m       of a Random Vector:, Probl. Peredachi Inf., 23:2 (1987), 9-16\u001b[39;00m\n\u001b[1;32m    491\u001b[0m \u001b[39m\"\"\"\u001b[39;00m\n\u001b[1;32m    492\u001b[0m check_classification_targets(y)\n\u001b[0;32m--> 493\u001b[0m \u001b[39mreturn\u001b[39;00m _estimate_mi(X, y, discrete_features, \u001b[39mTrue\u001b[39;49;00m, n_neighbors, copy, random_state)\n",
      "File \u001b[0;32m~/anaconda3/envs/pyRadiomics/lib/python3.9/site-packages/sklearn/feature_selection/_mutual_info.py:307\u001b[0m, in \u001b[0;36m_estimate_mi\u001b[0;34m(X, y, discrete_features, discrete_target, n_neighbors, copy, random_state)\u001b[0m\n\u001b[1;32m    300\u001b[0m     y \u001b[39m=\u001b[39m scale(y, with_mean\u001b[39m=\u001b[39m\u001b[39mFalse\u001b[39;00m)\n\u001b[1;32m    301\u001b[0m     y \u001b[39m+\u001b[39m\u001b[39m=\u001b[39m (\n\u001b[1;32m    302\u001b[0m         \u001b[39m1e-10\u001b[39m\n\u001b[1;32m    303\u001b[0m         \u001b[39m*\u001b[39m np\u001b[39m.\u001b[39mmaximum(\u001b[39m1\u001b[39m, np\u001b[39m.\u001b[39mmean(np\u001b[39m.\u001b[39mabs(y)))\n\u001b[1;32m    304\u001b[0m         \u001b[39m*\u001b[39m rng\u001b[39m.\u001b[39mstandard_normal(size\u001b[39m=\u001b[39mn_samples)\n\u001b[1;32m    305\u001b[0m     )\n\u001b[0;32m--> 307\u001b[0m mi \u001b[39m=\u001b[39m [\n\u001b[1;32m    308\u001b[0m     _compute_mi(x, y, discrete_feature, discrete_target, n_neighbors)\n\u001b[1;32m    309\u001b[0m     \u001b[39mfor\u001b[39;00m x, discrete_feature \u001b[39min\u001b[39;00m \u001b[39mzip\u001b[39m(_iterate_columns(X), discrete_mask)\n\u001b[1;32m    310\u001b[0m ]\n\u001b[1;32m    312\u001b[0m \u001b[39mreturn\u001b[39;00m np\u001b[39m.\u001b[39marray(mi)\n",
      "File \u001b[0;32m~/anaconda3/envs/pyRadiomics/lib/python3.9/site-packages/sklearn/feature_selection/_mutual_info.py:308\u001b[0m, in \u001b[0;36m<listcomp>\u001b[0;34m(.0)\u001b[0m\n\u001b[1;32m    300\u001b[0m     y \u001b[39m=\u001b[39m scale(y, with_mean\u001b[39m=\u001b[39m\u001b[39mFalse\u001b[39;00m)\n\u001b[1;32m    301\u001b[0m     y \u001b[39m+\u001b[39m\u001b[39m=\u001b[39m (\n\u001b[1;32m    302\u001b[0m         \u001b[39m1e-10\u001b[39m\n\u001b[1;32m    303\u001b[0m         \u001b[39m*\u001b[39m np\u001b[39m.\u001b[39mmaximum(\u001b[39m1\u001b[39m, np\u001b[39m.\u001b[39mmean(np\u001b[39m.\u001b[39mabs(y)))\n\u001b[1;32m    304\u001b[0m         \u001b[39m*\u001b[39m rng\u001b[39m.\u001b[39mstandard_normal(size\u001b[39m=\u001b[39mn_samples)\n\u001b[1;32m    305\u001b[0m     )\n\u001b[1;32m    307\u001b[0m mi \u001b[39m=\u001b[39m [\n\u001b[0;32m--> 308\u001b[0m     _compute_mi(x, y, discrete_feature, discrete_target, n_neighbors)\n\u001b[1;32m    309\u001b[0m     \u001b[39mfor\u001b[39;00m x, discrete_feature \u001b[39min\u001b[39;00m \u001b[39mzip\u001b[39m(_iterate_columns(X), discrete_mask)\n\u001b[1;32m    310\u001b[0m ]\n\u001b[1;32m    312\u001b[0m \u001b[39mreturn\u001b[39;00m np\u001b[39m.\u001b[39marray(mi)\n",
      "File \u001b[0;32m~/anaconda3/envs/pyRadiomics/lib/python3.9/site-packages/sklearn/feature_selection/_mutual_info.py:166\u001b[0m, in \u001b[0;36m_compute_mi\u001b[0;34m(x, y, x_discrete, y_discrete, n_neighbors)\u001b[0m\n\u001b[1;32m    164\u001b[0m     \u001b[39mreturn\u001b[39;00m _compute_mi_cd(y, x, n_neighbors)\n\u001b[1;32m    165\u001b[0m \u001b[39melif\u001b[39;00m \u001b[39mnot\u001b[39;00m x_discrete \u001b[39mand\u001b[39;00m y_discrete:\n\u001b[0;32m--> 166\u001b[0m     \u001b[39mreturn\u001b[39;00m _compute_mi_cd(x, y, n_neighbors)\n\u001b[1;32m    167\u001b[0m \u001b[39melse\u001b[39;00m:\n\u001b[1;32m    168\u001b[0m     \u001b[39mreturn\u001b[39;00m _compute_mi_cc(x, y, n_neighbors)\n",
      "File \u001b[0;32m~/anaconda3/envs/pyRadiomics/lib/python3.9/site-packages/sklearn/feature_selection/_mutual_info.py:128\u001b[0m, in \u001b[0;36m_compute_mi_cd\u001b[0;34m(c, d, n_neighbors)\u001b[0m\n\u001b[1;32m    126\u001b[0m nn\u001b[39m.\u001b[39mset_params(n_neighbors\u001b[39m=\u001b[39mk)\n\u001b[1;32m    127\u001b[0m nn\u001b[39m.\u001b[39mfit(c[mask])\n\u001b[0;32m--> 128\u001b[0m r \u001b[39m=\u001b[39m nn\u001b[39m.\u001b[39;49mkneighbors()[\u001b[39m0\u001b[39m]\n\u001b[1;32m    129\u001b[0m radius[mask] \u001b[39m=\u001b[39m np\u001b[39m.\u001b[39mnextafter(r[:, \u001b[39m-\u001b[39m\u001b[39m1\u001b[39m], \u001b[39m0\u001b[39m)\n\u001b[1;32m    130\u001b[0m k_all[mask] \u001b[39m=\u001b[39m k\n",
      "File \u001b[0;32m~/anaconda3/envs/pyRadiomics/lib/python3.9/site-packages/sklearn/neighbors/_base.py:877\u001b[0m, in \u001b[0;36mKNeighborsMixin.kneighbors\u001b[0;34m(self, X, n_neighbors, return_distance)\u001b[0m\n\u001b[1;32m    871\u001b[0m     \u001b[39mif\u001b[39;00m issparse(X):\n\u001b[1;32m    872\u001b[0m         \u001b[39mraise\u001b[39;00m \u001b[39mValueError\u001b[39;00m(\n\u001b[1;32m    873\u001b[0m             \u001b[39m\"\u001b[39m\u001b[39m%s\u001b[39;00m\u001b[39m does not work with sparse matrices. Densify the data, \u001b[39m\u001b[39m\"\u001b[39m\n\u001b[1;32m    874\u001b[0m             \u001b[39m\"\u001b[39m\u001b[39mor set algorithm=\u001b[39m\u001b[39m'\u001b[39m\u001b[39mbrute\u001b[39m\u001b[39m'\u001b[39m\u001b[39m\"\u001b[39m\n\u001b[1;32m    875\u001b[0m             \u001b[39m%\u001b[39m \u001b[39mself\u001b[39m\u001b[39m.\u001b[39m_fit_method\n\u001b[1;32m    876\u001b[0m         )\n\u001b[0;32m--> 877\u001b[0m     chunked_results \u001b[39m=\u001b[39m Parallel(n_jobs, prefer\u001b[39m=\u001b[39;49m\u001b[39m\"\u001b[39;49m\u001b[39mthreads\u001b[39;49m\u001b[39m\"\u001b[39;49m)(\n\u001b[1;32m    878\u001b[0m         delayed(_tree_query_parallel_helper)(\n\u001b[1;32m    879\u001b[0m             \u001b[39mself\u001b[39;49m\u001b[39m.\u001b[39;49m_tree, X[s], n_neighbors, return_distance\n\u001b[1;32m    880\u001b[0m         )\n\u001b[1;32m    881\u001b[0m         \u001b[39mfor\u001b[39;49;00m s \u001b[39min\u001b[39;49;00m gen_even_slices(X\u001b[39m.\u001b[39;49mshape[\u001b[39m0\u001b[39;49m], n_jobs)\n\u001b[1;32m    882\u001b[0m     )\n\u001b[1;32m    883\u001b[0m \u001b[39melse\u001b[39;00m:\n\u001b[1;32m    884\u001b[0m     \u001b[39mraise\u001b[39;00m \u001b[39mValueError\u001b[39;00m(\u001b[39m\"\u001b[39m\u001b[39minternal: _fit_method not recognized\u001b[39m\u001b[39m\"\u001b[39m)\n",
      "File \u001b[0;32m~/anaconda3/envs/pyRadiomics/lib/python3.9/site-packages/sklearn/utils/parallel.py:65\u001b[0m, in \u001b[0;36mParallel.__call__\u001b[0;34m(self, iterable)\u001b[0m\n\u001b[1;32m     60\u001b[0m config \u001b[39m=\u001b[39m get_config()\n\u001b[1;32m     61\u001b[0m iterable_with_config \u001b[39m=\u001b[39m (\n\u001b[1;32m     62\u001b[0m     (_with_config(delayed_func, config), args, kwargs)\n\u001b[1;32m     63\u001b[0m     \u001b[39mfor\u001b[39;00m delayed_func, args, kwargs \u001b[39min\u001b[39;00m iterable\n\u001b[1;32m     64\u001b[0m )\n\u001b[0;32m---> 65\u001b[0m \u001b[39mreturn\u001b[39;00m \u001b[39msuper\u001b[39;49m()\u001b[39m.\u001b[39;49m\u001b[39m__call__\u001b[39;49m(iterable_with_config)\n",
      "File \u001b[0;32m~/anaconda3/envs/pyRadiomics/lib/python3.9/site-packages/joblib/parallel.py:1863\u001b[0m, in \u001b[0;36mParallel.__call__\u001b[0;34m(self, iterable)\u001b[0m\n\u001b[1;32m   1861\u001b[0m     output \u001b[39m=\u001b[39m \u001b[39mself\u001b[39m\u001b[39m.\u001b[39m_get_sequential_output(iterable)\n\u001b[1;32m   1862\u001b[0m     \u001b[39mnext\u001b[39m(output)\n\u001b[0;32m-> 1863\u001b[0m     \u001b[39mreturn\u001b[39;00m output \u001b[39mif\u001b[39;00m \u001b[39mself\u001b[39m\u001b[39m.\u001b[39mreturn_generator \u001b[39melse\u001b[39;00m \u001b[39mlist\u001b[39;49m(output)\n\u001b[1;32m   1865\u001b[0m \u001b[39m# Let's create an ID that uniquely identifies the current call. If the\u001b[39;00m\n\u001b[1;32m   1866\u001b[0m \u001b[39m# call is interrupted early and that the same instance is immediately\u001b[39;00m\n\u001b[1;32m   1867\u001b[0m \u001b[39m# re-used, this id will be used to prevent workers that were\u001b[39;00m\n\u001b[1;32m   1868\u001b[0m \u001b[39m# concurrently finalizing a task from the previous call to run the\u001b[39;00m\n\u001b[1;32m   1869\u001b[0m \u001b[39m# callback.\u001b[39;00m\n\u001b[1;32m   1870\u001b[0m \u001b[39mwith\u001b[39;00m \u001b[39mself\u001b[39m\u001b[39m.\u001b[39m_lock:\n",
      "File \u001b[0;32m~/anaconda3/envs/pyRadiomics/lib/python3.9/site-packages/joblib/parallel.py:1792\u001b[0m, in \u001b[0;36mParallel._get_sequential_output\u001b[0;34m(self, iterable)\u001b[0m\n\u001b[1;32m   1790\u001b[0m \u001b[39mself\u001b[39m\u001b[39m.\u001b[39mn_dispatched_batches \u001b[39m+\u001b[39m\u001b[39m=\u001b[39m \u001b[39m1\u001b[39m\n\u001b[1;32m   1791\u001b[0m \u001b[39mself\u001b[39m\u001b[39m.\u001b[39mn_dispatched_tasks \u001b[39m+\u001b[39m\u001b[39m=\u001b[39m \u001b[39m1\u001b[39m\n\u001b[0;32m-> 1792\u001b[0m res \u001b[39m=\u001b[39m func(\u001b[39m*\u001b[39;49margs, \u001b[39m*\u001b[39;49m\u001b[39m*\u001b[39;49mkwargs)\n\u001b[1;32m   1793\u001b[0m \u001b[39mself\u001b[39m\u001b[39m.\u001b[39mn_completed_tasks \u001b[39m+\u001b[39m\u001b[39m=\u001b[39m \u001b[39m1\u001b[39m\n\u001b[1;32m   1794\u001b[0m \u001b[39mself\u001b[39m\u001b[39m.\u001b[39mprint_progress()\n",
      "File \u001b[0;32m~/anaconda3/envs/pyRadiomics/lib/python3.9/site-packages/sklearn/utils/parallel.py:127\u001b[0m, in \u001b[0;36m_FuncWrapper.__call__\u001b[0;34m(self, *args, **kwargs)\u001b[0m\n\u001b[1;32m    125\u001b[0m     config \u001b[39m=\u001b[39m {}\n\u001b[1;32m    126\u001b[0m \u001b[39mwith\u001b[39;00m config_context(\u001b[39m*\u001b[39m\u001b[39m*\u001b[39mconfig):\n\u001b[0;32m--> 127\u001b[0m     \u001b[39mreturn\u001b[39;00m \u001b[39mself\u001b[39m\u001b[39m.\u001b[39mfunction(\u001b[39m*\u001b[39margs, \u001b[39m*\u001b[39m\u001b[39m*\u001b[39mkwargs)\n",
      "File \u001b[0;32m~/anaconda3/envs/pyRadiomics/lib/python3.9/contextlib.py:123\u001b[0m, in \u001b[0;36m_GeneratorContextManager.__exit__\u001b[0;34m(self, typ, value, traceback)\u001b[0m\n\u001b[1;32m    120\u001b[0m     \u001b[39mexcept\u001b[39;00m \u001b[39mStopIteration\u001b[39;00m:\n\u001b[1;32m    121\u001b[0m         \u001b[39mraise\u001b[39;00m \u001b[39mRuntimeError\u001b[39;00m(\u001b[39m\"\u001b[39m\u001b[39mgenerator didn\u001b[39m\u001b[39m'\u001b[39m\u001b[39mt yield\u001b[39m\u001b[39m\"\u001b[39m) \u001b[39mfrom\u001b[39;00m \u001b[39mNone\u001b[39;00m\n\u001b[0;32m--> 123\u001b[0m \u001b[39mdef\u001b[39;00m \u001b[39m__exit__\u001b[39m(\u001b[39mself\u001b[39m, typ, value, traceback):\n\u001b[1;32m    124\u001b[0m     \u001b[39mif\u001b[39;00m typ \u001b[39mis\u001b[39;00m \u001b[39mNone\u001b[39;00m:\n\u001b[1;32m    125\u001b[0m         \u001b[39mtry\u001b[39;00m:\n",
      "\u001b[0;31mKeyboardInterrupt\u001b[0m: "
     ]
    }
   ],
   "source": [
    "mu1_df = pd.DataFrame(mutual_info_classif(X1, y1), index=X1.columns)\n",
    "mu2_df = pd.DataFrame(mutual_info_classif(X2, y2), index=X2.columns)\n",
    "mu3_df = pd.DataFrame(mutual_info_classif(X3, y3), index=X3.columns)"
   ]
  },
  {
   "cell_type": "code",
   "execution_count": 393,
   "metadata": {},
   "outputs": [],
   "source": [
    "f1_df = pd.DataFrame(f_classif(X1, y1)[0], index=X1.columns)\n",
    "f2_df = pd.DataFrame(f_classif(X2, y2)[0], index=X2.columns)\n",
    "f3_df = pd.DataFrame(f_classif(X3, y3)[0], index=X3.columns)"
   ]
  },
  {
   "cell_type": "code",
   "execution_count": 388,
   "metadata": {},
   "outputs": [
    {
     "data": {
      "text/plain": [
       "0    0.545712\n",
       "Name: Right-Putamen_wMD_wavelet-LLH_ngtdm_Complexity, dtype: float64"
      ]
     },
     "execution_count": 388,
     "metadata": {},
     "output_type": "execute_result"
    }
   ],
   "source": [
    "mu1_df.T[\"Right-Putamen_wMD_wavelet-LLH_ngtdm_Complexity\"]"
   ]
  },
  {
   "cell_type": "code",
   "execution_count": 394,
   "metadata": {},
   "outputs": [
    {
     "data": {
      "text/html": [
       "<div>\n",
       "<style scoped>\n",
       "    .dataframe tbody tr th:only-of-type {\n",
       "        vertical-align: middle;\n",
       "    }\n",
       "\n",
       "    .dataframe tbody tr th {\n",
       "        vertical-align: top;\n",
       "    }\n",
       "\n",
       "    .dataframe thead th {\n",
       "        text-align: right;\n",
       "    }\n",
       "</style>\n",
       "<table border=\"1\" class=\"dataframe\">\n",
       "  <thead>\n",
       "    <tr style=\"text-align: right;\">\n",
       "      <th></th>\n",
       "      <th>0</th>\n",
       "    </tr>\n",
       "  </thead>\n",
       "  <tbody>\n",
       "    <tr>\n",
       "      <th>Right-Putamen_AD_wavelet-HHL_glszm_LowGrayLevelZoneEmphasis</th>\n",
       "      <td>0.000000</td>\n",
       "    </tr>\n",
       "    <tr>\n",
       "      <th>Right-Thalamus_icvf_wavelet-HHL_glszm_HighGrayLevelZoneEmphasis</th>\n",
       "      <td>0.000000</td>\n",
       "    </tr>\n",
       "    <tr>\n",
       "      <th>Right-Amygdala_fextra_wavelet-HLH_glszm_LowGrayLevelZoneEmphasis</th>\n",
       "      <td>0.000000</td>\n",
       "    </tr>\n",
       "    <tr>\n",
       "      <th>lh.ar_wfvf_wavelet-HHL_glszm_HighGrayLevelZoneEmphasis</th>\n",
       "      <td>0.000000</td>\n",
       "    </tr>\n",
       "    <tr>\n",
       "      <th>Left-Amygdala_wfvf_wavelet-HLH_glszm_HighGrayLevelZoneEmphasis</th>\n",
       "      <td>0.000000</td>\n",
       "    </tr>\n",
       "    <tr>\n",
       "      <th>...</th>\n",
       "      <td>...</td>\n",
       "    </tr>\n",
       "    <tr>\n",
       "      <th>Right-Amygdala_MD_lbp-3D-k_glrlm_LowGrayLevelRunEmphasis</th>\n",
       "      <td>25.910678</td>\n",
       "    </tr>\n",
       "    <tr>\n",
       "      <th>Right-Amygdala_MD_lbp-3D-k_glrlm_HighGrayLevelRunEmphasis</th>\n",
       "      <td>25.910678</td>\n",
       "    </tr>\n",
       "    <tr>\n",
       "      <th>lh.cbv_RD_wavelet-HHH_glszm_SmallAreaLowGrayLevelEmphasis</th>\n",
       "      <td>27.255341</td>\n",
       "    </tr>\n",
       "    <tr>\n",
       "      <th>Right-Putamen_wMD_wavelet-LLH_ngtdm_Complexity</th>\n",
       "      <td>39.054372</td>\n",
       "    </tr>\n",
       "    <tr>\n",
       "      <th>Left-Putamen_frac_csf_mf_gradient_firstorder_InterquartileRange</th>\n",
       "      <td>41.252314</td>\n",
       "    </tr>\n",
       "  </tbody>\n",
       "</table>\n",
       "<p>30236 rows × 1 columns</p>\n",
       "</div>"
      ],
      "text/plain": [
       "                                                            0\n",
       "Right-Putamen_AD_wavelet-HHL_glszm_LowGrayLevel...   0.000000\n",
       "Right-Thalamus_icvf_wavelet-HHL_glszm_HighGrayL...   0.000000\n",
       "Right-Amygdala_fextra_wavelet-HLH_glszm_LowGray...   0.000000\n",
       "lh.ar_wfvf_wavelet-HHL_glszm_HighGrayLevelZoneE...   0.000000\n",
       "Left-Amygdala_wfvf_wavelet-HLH_glszm_HighGrayLe...   0.000000\n",
       "...                                                       ...\n",
       "Right-Amygdala_MD_lbp-3D-k_glrlm_LowGrayLevelRu...  25.910678\n",
       "Right-Amygdala_MD_lbp-3D-k_glrlm_HighGrayLevelR...  25.910678\n",
       "lh.cbv_RD_wavelet-HHH_glszm_SmallAreaLowGrayLev...  27.255341\n",
       "Right-Putamen_wMD_wavelet-LLH_ngtdm_Complexity      39.054372\n",
       "Left-Putamen_frac_csf_mf_gradient_firstorder_In...  41.252314\n",
       "\n",
       "[30236 rows x 1 columns]"
      ]
     },
     "execution_count": 394,
     "metadata": {},
     "output_type": "execute_result"
    }
   ],
   "source": [
    "f1_df.sort_values(by=0)"
   ]
  },
  {
   "cell_type": "code",
   "execution_count": 392,
   "metadata": {},
   "outputs": [
    {
     "data": {
      "text/html": [
       "<div>\n",
       "<style scoped>\n",
       "    .dataframe tbody tr th:only-of-type {\n",
       "        vertical-align: middle;\n",
       "    }\n",
       "\n",
       "    .dataframe tbody tr th {\n",
       "        vertical-align: top;\n",
       "    }\n",
       "\n",
       "    .dataframe thead th {\n",
       "        text-align: right;\n",
       "    }\n",
       "</style>\n",
       "<table border=\"1\" class=\"dataframe\">\n",
       "  <thead>\n",
       "    <tr style=\"text-align: right;\">\n",
       "      <th></th>\n",
       "      <th>0</th>\n",
       "    </tr>\n",
       "  </thead>\n",
       "  <tbody>\n",
       "    <tr>\n",
       "      <th>Left-Putamen_frac_csf_mf_gradient_firstorder_InterquartileRange</th>\n",
       "      <td>0.000006</td>\n",
       "    </tr>\n",
       "    <tr>\n",
       "      <th>Right-Putamen_wMD_wavelet-LLH_ngtdm_Complexity</th>\n",
       "      <td>0.000009</td>\n",
       "    </tr>\n",
       "    <tr>\n",
       "      <th>lh.cbv_RD_wavelet-HHH_glszm_SmallAreaLowGrayLevelEmphasis</th>\n",
       "      <td>0.000069</td>\n",
       "    </tr>\n",
       "    <tr>\n",
       "      <th>Right-Amygdala_MD_lbp-3D-k_glrlm_HighGrayLevelRunEmphasis</th>\n",
       "      <td>0.000091</td>\n",
       "    </tr>\n",
       "    <tr>\n",
       "      <th>Right-Amygdala_MD_lbp-3D-k_glrlm_LowGrayLevelRunEmphasis</th>\n",
       "      <td>0.000091</td>\n",
       "    </tr>\n",
       "    <tr>\n",
       "      <th>...</th>\n",
       "      <td>...</td>\n",
       "    </tr>\n",
       "    <tr>\n",
       "      <th>Right-Amygdala_fextra_wavelet-HLH_glszm_LowGrayLevelZoneEmphasis</th>\n",
       "      <td>1.000000</td>\n",
       "    </tr>\n",
       "    <tr>\n",
       "      <th>Right-Amygdala_fextra_wavelet-HLH_glszm_HighGrayLevelZoneEmphasis</th>\n",
       "      <td>1.000000</td>\n",
       "    </tr>\n",
       "    <tr>\n",
       "      <th>Right-Thalamus_icvf_wavelet-HHL_glszm_HighGrayLevelZoneEmphasis</th>\n",
       "      <td>1.000000</td>\n",
       "    </tr>\n",
       "    <tr>\n",
       "      <th>Right-Putamen_AD_wavelet-HHL_glszm_HighGrayLevelZoneEmphasis</th>\n",
       "      <td>1.000000</td>\n",
       "    </tr>\n",
       "    <tr>\n",
       "      <th>lh.ar_wfvf_wavelet-HHL_glszm_HighGrayLevelZoneEmphasis</th>\n",
       "      <td>1.000000</td>\n",
       "    </tr>\n",
       "  </tbody>\n",
       "</table>\n",
       "<p>30236 rows × 1 columns</p>\n",
       "</div>"
      ],
      "text/plain": [
       "                                                           0\n",
       "Left-Putamen_frac_csf_mf_gradient_firstorder_In...  0.000006\n",
       "Right-Putamen_wMD_wavelet-LLH_ngtdm_Complexity      0.000009\n",
       "lh.cbv_RD_wavelet-HHH_glszm_SmallAreaLowGrayLev...  0.000069\n",
       "Right-Amygdala_MD_lbp-3D-k_glrlm_HighGrayLevelR...  0.000091\n",
       "Right-Amygdala_MD_lbp-3D-k_glrlm_LowGrayLevelRu...  0.000091\n",
       "...                                                      ...\n",
       "Right-Amygdala_fextra_wavelet-HLH_glszm_LowGray...  1.000000\n",
       "Right-Amygdala_fextra_wavelet-HLH_glszm_HighGra...  1.000000\n",
       "Right-Thalamus_icvf_wavelet-HHL_glszm_HighGrayL...  1.000000\n",
       "Right-Putamen_AD_wavelet-HHL_glszm_HighGrayLeve...  1.000000\n",
       "lh.ar_wfvf_wavelet-HHL_glszm_HighGrayLevelZoneE...  1.000000\n",
       "\n",
       "[30236 rows x 1 columns]"
      ]
     },
     "execution_count": 392,
     "metadata": {},
     "output_type": "execute_result"
    }
   ],
   "source": [
    "f1_df.sort_values(by=0)"
   ]
  },
  {
   "cell_type": "markdown",
   "metadata": {},
   "source": [
    "##### Mannwhiten"
   ]
  },
  {
   "cell_type": "code",
   "execution_count": 332,
   "metadata": {},
   "outputs": [],
   "source": [
    "X_resp = df_kurtosis[df[\"resp\"]==1]\n",
    "X_non = df_kurtosis[df[\"resp\"]==0]\n",
    "res = pd.DataFrame(stats.mannwhitneyu(X_resp, X_non, nan_policy=\"omit\").pvalue, index=df_kurtosis.columns)"
   ]
  },
  {
   "cell_type": "code",
   "execution_count": 360,
   "metadata": {},
   "outputs": [
    {
     "data": {
      "text/html": [
       "<div>\n",
       "<style scoped>\n",
       "    .dataframe tbody tr th:only-of-type {\n",
       "        vertical-align: middle;\n",
       "    }\n",
       "\n",
       "    .dataframe tbody tr th {\n",
       "        vertical-align: top;\n",
       "    }\n",
       "\n",
       "    .dataframe thead th {\n",
       "        text-align: right;\n",
       "    }\n",
       "</style>\n",
       "<table border=\"1\" class=\"dataframe\">\n",
       "  <thead>\n",
       "    <tr style=\"text-align: right;\">\n",
       "      <th></th>\n",
       "      <th>0</th>\n",
       "    </tr>\n",
       "  </thead>\n",
       "  <tbody>\n",
       "    <tr>\n",
       "      <th>rh.fat_wfvf_lbp-3D-k_glszm_GrayLevelVariance</th>\n",
       "      <td>0.049832</td>\n",
       "    </tr>\n",
       "    <tr>\n",
       "      <th>rh.fat_wfvf_lbp-3D-k_glszm_GrayLevelNonUniformityNormalized</th>\n",
       "      <td>0.049832</td>\n",
       "    </tr>\n",
       "    <tr>\n",
       "      <th>rh.slf3_odi_lbp-2D_firstorder_90Percentile</th>\n",
       "      <td>0.049436</td>\n",
       "    </tr>\n",
       "    <tr>\n",
       "      <th>lh.slf3_frac_csf_mf_lbp-3D-m1_firstorder_Median</th>\n",
       "      <td>0.048443</td>\n",
       "    </tr>\n",
       "    <tr>\n",
       "      <th>rh.cbv_AD_wavelet-LLH_glszm_LargeAreaHighGrayLevelEmphasis</th>\n",
       "      <td>0.047673</td>\n",
       "    </tr>\n",
       "    <tr>\n",
       "      <th>...</th>\n",
       "      <td>...</td>\n",
       "    </tr>\n",
       "    <tr>\n",
       "      <th>Right-Amygdala_MD_lbp-3D-k_glrlm_LowGrayLevelRunEmphasis</th>\n",
       "      <td>0.000159</td>\n",
       "    </tr>\n",
       "    <tr>\n",
       "      <th>Right-Amygdala_MD_lbp-3D-k_glrlm_HighGrayLevelRunEmphasis</th>\n",
       "      <td>0.000159</td>\n",
       "    </tr>\n",
       "    <tr>\n",
       "      <th>Left-Putamen_frac_csf_mf_gradient_firstorder_InterquartileRange</th>\n",
       "      <td>0.000159</td>\n",
       "    </tr>\n",
       "    <tr>\n",
       "      <th>Right-Putamen_wMD_wavelet-LLH_ngtdm_Complexity</th>\n",
       "      <td>0.000040</td>\n",
       "    </tr>\n",
       "    <tr>\n",
       "      <th>resp</th>\n",
       "      <td>0.000028</td>\n",
       "    </tr>\n",
       "  </tbody>\n",
       "</table>\n",
       "<p>1430 rows × 1 columns</p>\n",
       "</div>"
      ],
      "text/plain": [
       "                                                           0\n",
       "rh.fat_wfvf_lbp-3D-k_glszm_GrayLevelVariance        0.049832\n",
       "rh.fat_wfvf_lbp-3D-k_glszm_GrayLevelNonUniformi...  0.049832\n",
       "rh.slf3_odi_lbp-2D_firstorder_90Percentile          0.049436\n",
       "lh.slf3_frac_csf_mf_lbp-3D-m1_firstorder_Median     0.048443\n",
       "rh.cbv_AD_wavelet-LLH_glszm_LargeAreaHighGrayLe...  0.047673\n",
       "...                                                      ...\n",
       "Right-Amygdala_MD_lbp-3D-k_glrlm_LowGrayLevelRu...  0.000159\n",
       "Right-Amygdala_MD_lbp-3D-k_glrlm_HighGrayLevelR...  0.000159\n",
       "Left-Putamen_frac_csf_mf_gradient_firstorder_In...  0.000159\n",
       "Right-Putamen_wMD_wavelet-LLH_ngtdm_Complexity      0.000040\n",
       "resp                                                0.000028\n",
       "\n",
       "[1430 rows x 1 columns]"
      ]
     },
     "execution_count": 360,
     "metadata": {},
     "output_type": "execute_result"
    }
   ],
   "source": [
    "res[res<0.05].dropna().sort_values(by=0)[::-1]"
   ]
  },
  {
   "cell_type": "code",
   "execution_count": 380,
   "metadata": {},
   "outputs": [
    {
     "name": "stderr",
     "output_type": "stream",
     "text": [
      "/home/michele/anaconda3/envs/pyRadiomics/lib/python3.9/site-packages/seaborn/_oldcore.py:1498: FutureWarning: is_categorical_dtype is deprecated and will be removed in a future version. Use isinstance(dtype, CategoricalDtype) instead\n",
      "  if pd.api.types.is_categorical_dtype(vector):\n",
      "/home/michele/anaconda3/envs/pyRadiomics/lib/python3.9/site-packages/seaborn/_oldcore.py:1498: FutureWarning: is_categorical_dtype is deprecated and will be removed in a future version. Use isinstance(dtype, CategoricalDtype) instead\n",
      "  if pd.api.types.is_categorical_dtype(vector):\n",
      "/home/michele/anaconda3/envs/pyRadiomics/lib/python3.9/site-packages/seaborn/_oldcore.py:1498: FutureWarning: is_categorical_dtype is deprecated and will be removed in a future version. Use isinstance(dtype, CategoricalDtype) instead\n",
      "  if pd.api.types.is_categorical_dtype(vector):\n"
     ]
    },
    {
     "data": {
      "text/plain": [
       "<AxesSubplot:xlabel='resp', ylabel='rh.fat_wfvf_lbp-3D-k_glszm_GrayLevelVariance'>"
      ]
     },
     "execution_count": 380,
     "metadata": {},
     "output_type": "execute_result"
    },
    {
     "data": {
      "image/png": "[encoded data removed]",
      "text/plain": [
       "<Figure size 640x480 with 1 Axes>"
      ]
     },
     "metadata": {},
     "output_type": "display_data"
    }
   ],
   "source": [
    "sns.boxplot(y=df_kurtosis[\"rh.fat_wfvf_lbp-3D-k_glszm_GrayLevelVariance\"], x=df[\"resp\"])"
   ]
  },
  {
   "cell_type": "markdown",
   "metadata": {},
   "source": [
    "# Clustering by region"
   ]
  },
  {
   "cell_type": "code",
   "execution_count": 3,
   "metadata": {},
   "outputs": [],
   "source": [
    "roi_name = [\n",
    "    \"Thalamus\",\n",
    "    \"Hippocampus\",\n",
    "    \"Amygdala\",\n",
    "    \"Accumbens-area\",\n",
    "    \"Putamen\", \n",
    "    \"Pallidum\",\n",
    "    \"Caudate\",\n",
    "]\n",
    "\n",
    "tract_name = [\n",
    "    \"acomm\",\n",
    "    \"cc.bodyc\",\n",
    "    \"cc.bodyp\",\n",
    "    \"cc.bodypf\",\n",
    "    \"cc.bodypm\",\n",
    "    \"cc.bodyt\",\n",
    "    \"cc.genu\",\n",
    "    \"cc.rostrum\",\n",
    "    \"cc.splenium\",\n",
    "    \"lh.af\",\n",
    "    \"lh.ar\",\n",
    "    \"lh.atr\",\n",
    "    \"lh.cbd\",\n",
    "    \"lh.cbv\",\n",
    "    \"lh.cst\",\n",
    "    \"lh.emc\",\n",
    "    \"lh.fat\",\n",
    "    \"lh.fx\",\n",
    "    \"lh.ilf\",\n",
    "    \"lh.mlf\",\n",
    "    \"lh.or\",\n",
    "    \"lh.slf1\",\n",
    "    \"lh.slf2\",\n",
    "    \"lh.slf3\",\n",
    "    \"lh.uf\",\n",
    "    \"mcp\",\n",
    "    \"lh.af\",\n",
    "    \"rh.ar\",\n",
    "    \"rh.atr\",\n",
    "    \"rh.cbd\",\n",
    "    \"rh.cbv\",\n",
    "    \"rh.cst\",\n",
    "    \"rh.emc\",\n",
    "    \"rh.fat\",\n",
    "    \"rh.fx\",\n",
    "    \"rh.ilf\",\n",
    "    \"rh.mlf\",\n",
    "    \"rh.or\",\n",
    "    \"rh.slf1\",\n",
    "    \"rh.slf2\",\n",
    "    \"rh.slf3\",\n",
    "    \"rh.uf\",\n",
    "    \"mcp\"\n",
    "]"
   ]
  },
  {
   "cell_type": "code",
   "execution_count": 4,
   "metadata": {},
   "outputs": [],
   "source": [
    "def getDF(df, feature):\n",
    "    df_filtered = df.filter(regex=feature)\n",
    "    areNaN = df_filtered.isna().any(axis=1)\n",
    "    to_remove = areNaN[areNaN == True].index\n",
    "    return df_filtered.drop(to_remove), to_remove"
   ]
  },
  {
   "cell_type": "code",
   "execution_count": 40,
   "metadata": {},
   "outputs": [],
   "source": [
    "lut = dict(zip([0, 1, 2], \"ryg\"))\n",
    "row_colors = df_kurtosis[\"respPart\"].map(lut)\n",
    "\n",
    "image_types = {\n",
    "    \"original\"      : \"blue\",\n",
    "    \"exponential\"   : \"orange\",\n",
    "    \"gradient\"      : \"green\",\n",
    "    \"lbp-2D\"        : \"red\",\n",
    "    \"lbp-3D\"        : \"purple\",\n",
    "    \"log\"           : \"brown\",\n",
    "    \"logarithm\"     : \"pink\",\n",
    "    \"square\"        : \"gray\",\n",
    "    \"squareroot\"    : \"olive\",\n",
    "    \"wavelet\"       : \"cyan\"\n",
    "}\n",
    "\n",
    "def mapping_func(v):\n",
    "    for image_type in lut.keys():\n",
    "        if image_type in v:\n",
    "            return lut[image_type]\n",
    "    return \"k\"\n",
    "\n",
    "lut = image_types\n",
    "col_colors_image = pd.DataFrame(df_kurtosis.columns.map(mapping_func)).T\n",
    "col_colors_image.columns = df_kurtosis.columns\n",
    "col_colors_image = col_colors_image\n",
    "\n",
    "metrics = {\n",
    "    \"FA\"    : \"red\",\n",
    "    \"AD\"    : \"yellow\",\n",
    "    \"RD\"    : \"yellow\",\n",
    "    \"MD\"    : \"yellow\",\n",
    "    \"icvf\"  : \"aquamarine\",\n",
    "    \"odi\"   : \"red\",\n",
    "    \"fextra\": \"blue\",\n",
    "    \"fintra\": \"blue\",\n",
    "    \"fiso\"  : \"green\" ,\n",
    "    \"wFA\"   : \"red\",\n",
    "    \"wMD\"   : \"yellow\",\n",
    "    \"wAD\"   : \"yellow\",\n",
    "    \"wRD\"   : \"yellow\",\n",
    "    \"frac_csf\": \"green\",\n",
    "    \"wfvf\"  : \"red\",\n",
    "    \"fvf_tot\": \"red\",\n",
    "    \"frac_csf\":\"green\",\n",
    "}\n",
    "\n",
    "lut = metrics\n",
    "col_colors_metrics = pd.DataFrame(df_kurtosis.columns.map(mapping_func)).T\n",
    "col_colors_metrics.columns = df_kurtosis.columns\n",
    "col_colors_metrics = col_colors_metrics\n",
    "\n",
    "col_colors = pd.concat([col_colors_image, col_colors_metrics], axis=0, ignore_index=True)\n",
    "col_colors.index = [\"image_type\", \"model_type\"]"
   ]
  },
  {
   "cell_type": "code",
   "execution_count": 39,
   "metadata": {},
   "outputs": [],
   "source": [
    "method = \"average\"\n",
    "\n",
    "if not os.path.isdir(f\"../imgs/clustering/roi/\"):\n",
    "    os.mkdir(f\"../imgs/clustering/roi/\")\n",
    "\n",
    "if not os.path.isdir(f\"../imgs/clustering/roi/{method}/\"):\n",
    "    os.mkdir(f\"../imgs/clustering/roi/{method}/\")\n",
    "\n",
    "for mask in roi_name:\n",
    "    for side in [\"Left\", \"Right\"]:\n",
    "        # print(side, mask)\n",
    "\n",
    "        regex = f\"{side}-{mask}\"\n",
    "        df, to_remove = getDF(df_kurtosis, regex)\n",
    "        col_colors_filtered = col_colors.filter(regex=regex).T\n",
    "\n",
    "        sns.clustermap(df, row_colors=row_colors.drop(to_remove), col_colors=col_colors_filtered, z_score=1, method=method, robust=True, cbar_pos=None, xticklabels=False)\n",
    "        plt.savefig(f\"../imgs/clustering/{method}/{mask}-{side}-{method}.png\")\n",
    "\n",
    "        del df\n",
    "        del col_colors_filtered\n",
    "        plt.close()\n",
    "\n",
    "for mask in tract_name:\n",
    "    # print(mask)\n",
    "\n",
    "    regex = f\"{mask}\"\n",
    "    df, to_remove = getDF(df_kurtosis, regex)\n",
    "    col_colors_filtered = col_colors.filter(regex=regex).T\n",
    "\n",
    "    sns.clustermap(df, row_colors=row_colors.drop(to_remove), col_colors=col_colors_filtered, z_score=1, method=method, robust=True, cbar_pos=None, xticklabels=False)\n",
    "    mask_fields = mask.split(\".\")\n",
    "    if len(mask_fields) == 1:\n",
    "        plt.savefig(f\"../imgs/clustering/{method}/{mask}-{method}.png\")\n",
    "    else:\n",
    "        plt.savefig(f\"../imgs/clustering/{method}/{mask_fields[1]}-{mask_fields[0]}-{method}.png\")\n",
    "\n",
    "    del df\n",
    "    del col_colors_filtered\n",
    "    plt.close()"
   ]
  },
  {
   "cell_type": "code",
   "execution_count": 45,
   "metadata": {},
   "outputs": [
    {
     "name": "stderr",
     "output_type": "stream",
     "text": [
      "/home/michele/anaconda3/envs/pyRadiomics/lib/python3.9/site-packages/seaborn/matrix.py:615: UserWarning: Attempting to set identical left == right == 0 results in singular transformations; automatically expanding.\n",
      "  ax.set_xlim(0, max_dependent_coord * 1.05)\n"
     ]
    },
    {
     "ename": "ValueError",
     "evalue": "negative dimensions are not allowed",
     "output_type": "error",
     "traceback": [
      "\u001b[0;31m---------------------------------------------------------------------------\u001b[0m",
      "\u001b[0;31mValueError\u001b[0m                                Traceback (most recent call last)",
      "\u001b[1;32m/home/michele/Dropbox (Politecnico Di Torino Studenti)/thesis/code/Epilepsy-dMRI-VNS/src/analysisRadiomics.ipynb Cell 18\u001b[0m line \u001b[0;36m1\n\u001b[1;32m     <a href='vscode-notebook-cell:/home/michele/Dropbox%20%28Politecnico%20Di%20Torino%20Studenti%29/thesis/code/Epilepsy-dMRI-VNS/src/analysisRadiomics.ipynb#X44sZmlsZQ%3D%3D?line=11'>12</a>\u001b[0m df, to_remove \u001b[39m=\u001b[39m getDF(df_kurtosis, regex)\n\u001b[1;32m     <a href='vscode-notebook-cell:/home/michele/Dropbox%20%28Politecnico%20Di%20Torino%20Studenti%29/thesis/code/Epilepsy-dMRI-VNS/src/analysisRadiomics.ipynb#X44sZmlsZQ%3D%3D?line=12'>13</a>\u001b[0m col_colors_filtered \u001b[39m=\u001b[39m col_colors\u001b[39m.\u001b[39mfilter(regex\u001b[39m=\u001b[39mregex)\u001b[39m.\u001b[39mT\n\u001b[0;32m---> <a href='vscode-notebook-cell:/home/michele/Dropbox%20%28Politecnico%20Di%20Torino%20Studenti%29/thesis/code/Epilepsy-dMRI-VNS/src/analysisRadiomics.ipynb#X44sZmlsZQ%3D%3D?line=14'>15</a>\u001b[0m sns\u001b[39m.\u001b[39;49mclustermap(df, row_colors\u001b[39m=\u001b[39;49mrow_colors\u001b[39m.\u001b[39;49mdrop(to_remove), col_colors\u001b[39m=\u001b[39;49mcol_colors_filtered, z_score\u001b[39m=\u001b[39;49m\u001b[39m1\u001b[39;49m, method\u001b[39m=\u001b[39;49mmethod, robust\u001b[39m=\u001b[39;49m\u001b[39mTrue\u001b[39;49;00m, cbar_pos\u001b[39m=\u001b[39;49m\u001b[39mNone\u001b[39;49;00m, xticklabels\u001b[39m=\u001b[39;49m\u001b[39mFalse\u001b[39;49;00m)\n\u001b[1;32m     <a href='vscode-notebook-cell:/home/michele/Dropbox%20%28Politecnico%20Di%20Torino%20Studenti%29/thesis/code/Epilepsy-dMRI-VNS/src/analysisRadiomics.ipynb#X44sZmlsZQ%3D%3D?line=16'>17</a>\u001b[0m plt\u001b[39m.\u001b[39msavefig(\u001b[39mf\u001b[39m\u001b[39m\"\u001b[39m\u001b[39m../imgs/clustering/metrics/\u001b[39m\u001b[39m{\u001b[39;00mmethod\u001b[39m}\u001b[39;00m\u001b[39m/\u001b[39m\u001b[39m{\u001b[39;00mmetric\u001b[39m}\u001b[39;00m\u001b[39m_\u001b[39m\u001b[39m{\u001b[39;00mimage_type\u001b[39m}\u001b[39;00m\u001b[39m.png\u001b[39m\u001b[39m\"\u001b[39m)\n\u001b[1;32m     <a href='vscode-notebook-cell:/home/michele/Dropbox%20%28Politecnico%20Di%20Torino%20Studenti%29/thesis/code/Epilepsy-dMRI-VNS/src/analysisRadiomics.ipynb#X44sZmlsZQ%3D%3D?line=18'>19</a>\u001b[0m \u001b[39mdel\u001b[39;00m df\n",
      "File \u001b[0;32m~/anaconda3/envs/pyRadiomics/lib/python3.9/site-packages/seaborn/matrix.py:1258\u001b[0m, in \u001b[0;36mclustermap\u001b[0;34m(data, pivot_kws, method, metric, z_score, standard_scale, figsize, cbar_kws, row_cluster, col_cluster, row_linkage, col_linkage, row_colors, col_colors, mask, dendrogram_ratio, colors_ratio, cbar_pos, tree_kws, **kwargs)\u001b[0m\n\u001b[1;32m   1250\u001b[0m     \u001b[39mraise\u001b[39;00m \u001b[39mRuntimeError\u001b[39;00m(\u001b[39m\"\u001b[39m\u001b[39mclustermap requires scipy to be available\u001b[39m\u001b[39m\"\u001b[39m)\n\u001b[1;32m   1252\u001b[0m plotter \u001b[39m=\u001b[39m ClusterGrid(data, pivot_kws\u001b[39m=\u001b[39mpivot_kws, figsize\u001b[39m=\u001b[39mfigsize,\n\u001b[1;32m   1253\u001b[0m                       row_colors\u001b[39m=\u001b[39mrow_colors, col_colors\u001b[39m=\u001b[39mcol_colors,\n\u001b[1;32m   1254\u001b[0m                       z_score\u001b[39m=\u001b[39mz_score, standard_scale\u001b[39m=\u001b[39mstandard_scale,\n\u001b[1;32m   1255\u001b[0m                       mask\u001b[39m=\u001b[39mmask, dendrogram_ratio\u001b[39m=\u001b[39mdendrogram_ratio,\n\u001b[1;32m   1256\u001b[0m                       colors_ratio\u001b[39m=\u001b[39mcolors_ratio, cbar_pos\u001b[39m=\u001b[39mcbar_pos)\n\u001b[0;32m-> 1258\u001b[0m \u001b[39mreturn\u001b[39;00m plotter\u001b[39m.\u001b[39;49mplot(metric\u001b[39m=\u001b[39;49mmetric, method\u001b[39m=\u001b[39;49mmethod,\n\u001b[1;32m   1259\u001b[0m                     colorbar_kws\u001b[39m=\u001b[39;49mcbar_kws,\n\u001b[1;32m   1260\u001b[0m                     row_cluster\u001b[39m=\u001b[39;49mrow_cluster, col_cluster\u001b[39m=\u001b[39;49mcol_cluster,\n\u001b[1;32m   1261\u001b[0m                     row_linkage\u001b[39m=\u001b[39;49mrow_linkage, col_linkage\u001b[39m=\u001b[39;49mcol_linkage,\n\u001b[1;32m   1262\u001b[0m                     tree_kws\u001b[39m=\u001b[39;49mtree_kws, \u001b[39m*\u001b[39;49m\u001b[39m*\u001b[39;49mkwargs)\n",
      "File \u001b[0;32m~/anaconda3/envs/pyRadiomics/lib/python3.9/site-packages/seaborn/matrix.py:1129\u001b[0m, in \u001b[0;36mClusterGrid.plot\u001b[0;34m(self, metric, method, colorbar_kws, row_cluster, col_cluster, row_linkage, col_linkage, tree_kws, **kws)\u001b[0m\n\u001b[1;32m   1125\u001b[0m     kws\u001b[39m.\u001b[39mpop(\u001b[39m\"\u001b[39m\u001b[39msquare\u001b[39m\u001b[39m\"\u001b[39m)\n\u001b[1;32m   1127\u001b[0m colorbar_kws \u001b[39m=\u001b[39m {} \u001b[39mif\u001b[39;00m colorbar_kws \u001b[39mis\u001b[39;00m \u001b[39mNone\u001b[39;00m \u001b[39melse\u001b[39;00m colorbar_kws\n\u001b[0;32m-> 1129\u001b[0m \u001b[39mself\u001b[39;49m\u001b[39m.\u001b[39;49mplot_dendrograms(row_cluster, col_cluster, metric, method,\n\u001b[1;32m   1130\u001b[0m                       row_linkage\u001b[39m=\u001b[39;49mrow_linkage, col_linkage\u001b[39m=\u001b[39;49mcol_linkage,\n\u001b[1;32m   1131\u001b[0m                       tree_kws\u001b[39m=\u001b[39;49mtree_kws)\n\u001b[1;32m   1132\u001b[0m \u001b[39mtry\u001b[39;00m:\n\u001b[1;32m   1133\u001b[0m     xind \u001b[39m=\u001b[39m \u001b[39mself\u001b[39m\u001b[39m.\u001b[39mdendrogram_col\u001b[39m.\u001b[39mreordered_ind\n",
      "File \u001b[0;32m~/anaconda3/envs/pyRadiomics/lib/python3.9/site-packages/seaborn/matrix.py:984\u001b[0m, in \u001b[0;36mClusterGrid.plot_dendrograms\u001b[0;34m(self, row_cluster, col_cluster, metric, method, row_linkage, col_linkage, tree_kws)\u001b[0m\n\u001b[1;32m    982\u001b[0m \u001b[39m# PLot the column dendrogram\u001b[39;00m\n\u001b[1;32m    983\u001b[0m \u001b[39mif\u001b[39;00m col_cluster:\n\u001b[0;32m--> 984\u001b[0m     \u001b[39mself\u001b[39m\u001b[39m.\u001b[39mdendrogram_col \u001b[39m=\u001b[39m dendrogram(\n\u001b[1;32m    985\u001b[0m         \u001b[39mself\u001b[39;49m\u001b[39m.\u001b[39;49mdata2d, metric\u001b[39m=\u001b[39;49mmetric, method\u001b[39m=\u001b[39;49mmethod, label\u001b[39m=\u001b[39;49m\u001b[39mFalse\u001b[39;49;00m,\n\u001b[1;32m    986\u001b[0m         axis\u001b[39m=\u001b[39;49m\u001b[39m1\u001b[39;49m, ax\u001b[39m=\u001b[39;49m\u001b[39mself\u001b[39;49m\u001b[39m.\u001b[39;49max_col_dendrogram, linkage\u001b[39m=\u001b[39;49mcol_linkage,\n\u001b[1;32m    987\u001b[0m         tree_kws\u001b[39m=\u001b[39;49mtree_kws\n\u001b[1;32m    988\u001b[0m     )\n\u001b[1;32m    989\u001b[0m \u001b[39melse\u001b[39;00m:\n\u001b[1;32m    990\u001b[0m     \u001b[39mself\u001b[39m\u001b[39m.\u001b[39max_col_dendrogram\u001b[39m.\u001b[39mset_xticks([])\n",
      "File \u001b[0;32m~/anaconda3/envs/pyRadiomics/lib/python3.9/site-packages/seaborn/matrix.py:687\u001b[0m, in \u001b[0;36mdendrogram\u001b[0;34m(data, linkage, axis, label, metric, method, rotate, tree_kws, ax)\u001b[0m\n\u001b[1;32m    684\u001b[0m \u001b[39mif\u001b[39;00m _no_scipy:\n\u001b[1;32m    685\u001b[0m     \u001b[39mraise\u001b[39;00m \u001b[39mRuntimeError\u001b[39;00m(\u001b[39m\"\u001b[39m\u001b[39mdendrogram requires scipy to be installed\u001b[39m\u001b[39m\"\u001b[39m)\n\u001b[0;32m--> 687\u001b[0m plotter \u001b[39m=\u001b[39m _DendrogramPlotter(data, linkage\u001b[39m=\u001b[39;49mlinkage, axis\u001b[39m=\u001b[39;49maxis,\n\u001b[1;32m    688\u001b[0m                              metric\u001b[39m=\u001b[39;49mmetric, method\u001b[39m=\u001b[39;49mmethod,\n\u001b[1;32m    689\u001b[0m                              label\u001b[39m=\u001b[39;49mlabel, rotate\u001b[39m=\u001b[39;49mrotate)\n\u001b[1;32m    690\u001b[0m \u001b[39mif\u001b[39;00m ax \u001b[39mis\u001b[39;00m \u001b[39mNone\u001b[39;00m:\n\u001b[1;32m    691\u001b[0m     ax \u001b[39m=\u001b[39m plt\u001b[39m.\u001b[39mgca()\n",
      "File \u001b[0;32m~/anaconda3/envs/pyRadiomics/lib/python3.9/site-packages/seaborn/matrix.py:495\u001b[0m, in \u001b[0;36m_DendrogramPlotter.__init__\u001b[0;34m(self, data, linkage, metric, method, axis, label, rotate)\u001b[0m\n\u001b[1;32m    492\u001b[0m \u001b[39mself\u001b[39m\u001b[39m.\u001b[39mrotate \u001b[39m=\u001b[39m rotate\n\u001b[1;32m    494\u001b[0m \u001b[39mif\u001b[39;00m linkage \u001b[39mis\u001b[39;00m \u001b[39mNone\u001b[39;00m:\n\u001b[0;32m--> 495\u001b[0m     \u001b[39mself\u001b[39m\u001b[39m.\u001b[39mlinkage \u001b[39m=\u001b[39m \u001b[39mself\u001b[39;49m\u001b[39m.\u001b[39;49mcalculated_linkage\n\u001b[1;32m    496\u001b[0m \u001b[39melse\u001b[39;00m:\n\u001b[1;32m    497\u001b[0m     \u001b[39mself\u001b[39m\u001b[39m.\u001b[39mlinkage \u001b[39m=\u001b[39m linkage\n",
      "File \u001b[0;32m~/anaconda3/envs/pyRadiomics/lib/python3.9/site-packages/seaborn/matrix.py:555\u001b[0m, in \u001b[0;36m_DendrogramPlotter.calculated_linkage\u001b[0;34m(self)\u001b[0m\n\u001b[1;32m    551\u001b[0m \u001b[39m@property\u001b[39m\n\u001b[1;32m    552\u001b[0m \u001b[39mdef\u001b[39;00m \u001b[39mcalculated_linkage\u001b[39m(\u001b[39mself\u001b[39m):\n\u001b[1;32m    554\u001b[0m     \u001b[39mtry\u001b[39;00m:\n\u001b[0;32m--> 555\u001b[0m         \u001b[39mreturn\u001b[39;00m \u001b[39mself\u001b[39;49m\u001b[39m.\u001b[39;49m_calculate_linkage_fastcluster()\n\u001b[1;32m    556\u001b[0m     \u001b[39mexcept\u001b[39;00m \u001b[39mImportError\u001b[39;00m:\n\u001b[1;32m    557\u001b[0m         \u001b[39mif\u001b[39;00m np\u001b[39m.\u001b[39mproduct(\u001b[39mself\u001b[39m\u001b[39m.\u001b[39mshape) \u001b[39m>\u001b[39m\u001b[39m=\u001b[39m \u001b[39m10000\u001b[39m:\n",
      "File \u001b[0;32m~/anaconda3/envs/pyRadiomics/lib/python3.9/site-packages/seaborn/matrix.py:547\u001b[0m, in \u001b[0;36m_DendrogramPlotter._calculate_linkage_fastcluster\u001b[0;34m(self)\u001b[0m\n\u001b[1;32m    543\u001b[0m     \u001b[39mreturn\u001b[39;00m fastcluster\u001b[39m.\u001b[39mlinkage_vector(\u001b[39mself\u001b[39m\u001b[39m.\u001b[39marray,\n\u001b[1;32m    544\u001b[0m                                       method\u001b[39m=\u001b[39m\u001b[39mself\u001b[39m\u001b[39m.\u001b[39mmethod,\n\u001b[1;32m    545\u001b[0m                                       metric\u001b[39m=\u001b[39m\u001b[39mself\u001b[39m\u001b[39m.\u001b[39mmetric)\n\u001b[1;32m    546\u001b[0m \u001b[39melse\u001b[39;00m:\n\u001b[0;32m--> 547\u001b[0m     linkage \u001b[39m=\u001b[39m fastcluster\u001b[39m.\u001b[39;49mlinkage(\u001b[39mself\u001b[39;49m\u001b[39m.\u001b[39;49marray, method\u001b[39m=\u001b[39;49m\u001b[39mself\u001b[39;49m\u001b[39m.\u001b[39;49mmethod,\n\u001b[1;32m    548\u001b[0m                                   metric\u001b[39m=\u001b[39;49m\u001b[39mself\u001b[39;49m\u001b[39m.\u001b[39;49mmetric)\n\u001b[1;32m    549\u001b[0m     \u001b[39mreturn\u001b[39;00m linkage\n",
      "File \u001b[0;32m~/anaconda3/envs/pyRadiomics/lib/python3.9/site-packages/fastcluster.py:245\u001b[0m, in \u001b[0;36mlinkage\u001b[0;34m(X, method, metric, preserve_input)\u001b[0m\n\u001b[1;32m    243\u001b[0m     X \u001b[39m=\u001b[39m pdist(X, metric\u001b[39m=\u001b[39mmetric)\n\u001b[1;32m    244\u001b[0m     X \u001b[39m=\u001b[39m array(X, dtype\u001b[39m=\u001b[39mdouble, copy\u001b[39m=\u001b[39m\u001b[39mFalse\u001b[39;00m, order\u001b[39m=\u001b[39m\u001b[39m'\u001b[39m\u001b[39mC\u001b[39m\u001b[39m'\u001b[39m, subok\u001b[39m=\u001b[39m\u001b[39mTrue\u001b[39;00m)\n\u001b[0;32m--> 245\u001b[0m Z \u001b[39m=\u001b[39m empty((N\u001b[39m-\u001b[39;49m\u001b[39m1\u001b[39;49m,\u001b[39m4\u001b[39;49m))\n\u001b[1;32m    246\u001b[0m \u001b[39mif\u001b[39;00m N \u001b[39m>\u001b[39m \u001b[39m1\u001b[39m:\n\u001b[1;32m    247\u001b[0m     linkage_wrap(N, X, Z, mthidx[method])\n",
      "\u001b[0;31mValueError\u001b[0m: negative dimensions are not allowed"
     ]
    },
    {
     "data": {
      "image/png": "[encoded data removed]",
      "text/plain": [
       "<Figure size 1000x1000 with 5 Axes>"
      ]
     },
     "metadata": {},
     "output_type": "display_data"
    }
   ],
   "source": [
    "method = \"average\"\n",
    "\n",
    "if not os.path.isdir(f\"../imgs/clustering/metrics/\"):\n",
    "    os.mkdir(f\"../imgs/clustering/metrics/\")\n",
    "\n",
    "if not os.path.isdir(f\"../imgs/clustering/metrics/{method}/\"):\n",
    "    os.mkdir(f\"../imgs/clustering/metrics/{method}/\")\n",
    "\n",
    "for metric in metrics.keys():\n",
    "    for image_type in image_types.keys():\n",
    "        regex = f\"{metric}_{image_type}\"\n",
    "        df, to_remove = getDF(df_kurtosis, regex)\n",
    "        col_colors_filtered = col_colors.filter(regex=regex).T\n",
    "\n",
    "        sns.clustermap(df, row_colors=row_colors.drop(to_remove), col_colors=col_colors_filtered, z_score=1, method=method, robust=True, cbar_pos=None, xticklabels=False)\n",
    "\n",
    "        plt.savefig(f\"../imgs/clustering/metrics/{method}/{metric}_{image_type}.png\")\n",
    "        \n",
    "        del df\n",
    "        del col_colors_filtered\n",
    "        plt.close()"
   ]
  }
 ],
 "metadata": {
  "kernelspec": {
   "display_name": "dMRI",
   "language": "python",
   "name": "python3"
  },
  "language_info": {
   "codemirror_mode": {
    "name": "ipython",
    "version": 3
   },
   "file_extension": ".py",
   "mimetype": "text/x-python",
   "name": "python",
   "nbconvert_exporter": "python",
   "pygments_lexer": "ipython3",
   "version": "3.9.18"
  },
  "orig_nbformat": 4
 },
 "nbformat": 4,
 "nbformat_minor": 2
}
