{
 "cells": [
  {
   "cell_type": "markdown",
   "metadata": {},
   "source": [
    "# Radiomics analysis"
   ]
  },
  {
   "cell_type": "code",
   "execution_count": 181,
   "metadata": {},
   "outputs": [],
   "source": [
    "import pandas as pd\n",
    "import matplotlib.pyplot as plt\n",
    "import seaborn as sns\n",
    "import os\n",
    "import numpy as np\n",
    "import fastcluster\n",
    "\n",
    "from scipy import stats\n",
    "from sklearn.feature_selection import VarianceThreshold, mutual_info_classif, f_classif\n",
    "from statsmodels.stats.multitest import fdrcorrection, multipletests\n",
    "\n",
    "ds_path = \"../study/stats/datasetRadiomics.csv\""
   ]
  },
  {
   "cell_type": "code",
   "execution_count": 2,
   "metadata": {},
   "outputs": [],
   "source": [
    "df = pd.read_csv(ds_path, index_col=\"ID\")\n",
    "df.shape"
   ]
  },
  {
   "cell_type": "markdown",
   "metadata": {},
   "source": [
    "[roi_name]\\_[metric]\\_[image]\\_[feature] "
   ]
  },
  {
   "cell_type": "code",
   "execution_count": 40,
   "metadata": {},
   "outputs": [],
   "source": [
    "def separateDFs(df, which=\"resp\"):\n",
    "    y1 = df[which]\n",
    "    X = df.drop([\"resp\", \"respPart\"], axis=1)\n",
    "    print(X.shape)\n",
    "\n",
    "    a = X.isna().any(axis=0)\n",
    "    # X1 is the first ds\n",
    "    X1 = X.drop(a[a==True].index, axis=1)\n",
    "\n",
    "    print(X1.shape)\n",
    "\n",
    "    X2_1 = X.loc[:, a==True].drop(\"VNSLC_16\")\n",
    "    b = X2_1.isna().any(axis=0)\n",
    "    # X2 is the second ds\n",
    "    X2 = X2_1.drop(b[b==True].index, axis=1)\n",
    "    y2 = y1.drop(\"VNSLC_16\")\n",
    "    print(X2.shape)\n",
    "\n",
    "    # X3 is the third ds\n",
    "    X3 = X2_1.loc[:, b==True].drop(\"VNSLC_19\")\n",
    "    y3 = y2.drop(\"VNSLC_19\")\n",
    "    print(X3.shape)\n",
    "\n",
    "    return X1, y1, X2, y2, X3, y3"
   ]
  },
  {
   "cell_type": "markdown",
   "metadata": {},
   "source": [
    "# Filtering"
   ]
  },
  {
   "cell_type": "markdown",
   "metadata": {},
   "source": [
    "##### Variance threshold"
   ]
  },
  {
   "cell_type": "code",
   "execution_count": 186,
   "metadata": {},
   "outputs": [
    {
     "name": "stdout",
     "output_type": "stream",
     "text": [
      "(19, 1512456)\n",
      "(19, 891272)\n",
      "(18, 594176)\n",
      "(17, 27008)\n"
     ]
    }
   ],
   "source": [
    "X1, y1, X2, y2, X3, y3 = separateDFs(df)"
   ]
  },
  {
   "cell_type": "code",
   "execution_count": 187,
   "metadata": {},
   "outputs": [
    {
     "data": {
      "text/plain": [
       "(19, 1130288)"
      ]
     },
     "execution_count": 187,
     "metadata": {},
     "output_type": "execute_result"
    }
   ],
   "source": [
    "X_selected = []\n",
    "\n",
    "for X in [X1, X2, X3]:\n",
    "    varThresh = VarianceThreshold()\n",
    "    varThresh.fit_transform(X)\n",
    "    selected_feature_indices = varThresh.get_support(indices=True)\n",
    "    X_selected.append(X.iloc[:, selected_feature_indices])\n",
    "\n",
    "df_selected = pd.concat([df[\"resp\"], df[\"respPart\"], X_selected[0], X_selected[1], X_selected[2]], axis=1)\n",
    "df_selected.shape"
   ]
  },
  {
   "cell_type": "markdown",
   "metadata": {},
   "source": [
    "##### Mannwhiten"
   ]
  },
  {
   "cell_type": "code",
   "execution_count": 323,
   "metadata": {},
   "outputs": [
    {
     "data": {
      "text/plain": [
       "(19, 52017)"
      ]
     },
     "execution_count": 323,
     "metadata": {},
     "output_type": "execute_result"
    }
   ],
   "source": [
    "X_resp = df_selected[df[\"resp\"]==1]\n",
    "X_non = df_selected[df[\"resp\"]==0]\n",
    "res_mannwhitneyu = pd.DataFrame(stats.mannwhitneyu(X_resp, X_non, nan_policy=\"omit\").pvalue, index=df_selected.columns)"
   ]
  },
  {
   "cell_type": "code",
   "execution_count": 342,
   "metadata": {},
   "outputs": [
    {
     "data": {
      "text/plain": [
       "(19, 52017)"
      ]
     },
     "execution_count": 342,
     "metadata": {},
     "output_type": "execute_result"
    }
   ],
   "source": [
    "temp = res_mannwhitneyu>0.05\n",
    "features_to_remove = temp[temp == True].dropna().index\n",
    "df_mannwhiten = df_selected.drop(features_to_remove,axis=1)\n",
    "df_mannwhiten.shape"
   ]
  },
  {
   "cell_type": "markdown",
   "metadata": {},
   "source": [
    "##### Kruskal"
   ]
  },
  {
   "cell_type": "code",
   "execution_count": 343,
   "metadata": {},
   "outputs": [],
   "source": [
    "X_resp= df_mannwhiten[df[\"respPart\"]==2]\n",
    "X_respPart = df_mannwhiten[df[\"respPart\"]==1]\n",
    "X_non = df_mannwhiten[df[\"respPart\"]==0]\n",
    "res_kruskal = pd.DataFrame(stats.kruskal(X_non, X_respPart, X_resp, nan_policy=\"omit\", axis=0).pvalue, index=df_mannwhiten.columns)"
   ]
  },
  {
   "cell_type": "code",
   "execution_count": 345,
   "metadata": {},
   "outputs": [
    {
     "data": {
      "text/plain": [
       "(19, 26490)"
      ]
     },
     "execution_count": 345,
     "metadata": {},
     "output_type": "execute_result"
    }
   ],
   "source": [
    "temp = res_kruskal>0.05\n",
    "features_to_remove = temp[temp == True].dropna().index\n",
    "df_kruskal = df_mannwhiten.drop(features_to_remove,axis=1)\n",
    "df_kruskal.shape"
   ]
  },
  {
   "cell_type": "markdown",
   "metadata": {},
   "source": [
    "##### Outlier removal"
   ]
  },
  {
   "cell_type": "code",
   "execution_count": 360,
   "metadata": {},
   "outputs": [
    {
     "data": {
      "text/plain": [
       "(19, 14563)"
      ]
     },
     "execution_count": 360,
     "metadata": {},
     "output_type": "execute_result"
    }
   ],
   "source": [
    "features_to_remove = []\n",
    "\n",
    "for i in [0, 1, 2]:\n",
    "    df_curr = df_kruskal[df[\"respPart\"]==i]\n",
    "    z_scores_abs = abs((df_curr - df_curr.mean())/df_curr.std())\n",
    "\n",
    "    features_with_outliers = (z_scores_abs >= 2).any(axis=0)\n",
    "    features_to_remove_curr = features_with_outliers[features_with_outliers == True].dropna().index\n",
    "\n",
    "    features_to_remove = [*features_to_remove, *features_to_remove_curr]\n",
    "\n",
    "df_outliers = df_kruskal.drop(features_to_remove, axis=1)\n",
    "df_outliers.shape"
   ]
  },
  {
   "cell_type": "markdown",
   "metadata": {},
   "source": [
    "##### Kurtosis filtering"
   ]
  },
  {
   "cell_type": "code",
   "execution_count": 371,
   "metadata": {},
   "outputs": [
    {
     "data": {
      "text/plain": [
       "(19, 6933)"
      ]
     },
     "execution_count": 371,
     "metadata": {},
     "output_type": "execute_result"
    }
   ],
   "source": [
    "res_kurtosis = pd.DataFrame(stats.kurtosis(df_outliers, axis=0, bias=False, nan_policy=\"omit\"), index=df_outliers.columns)\n",
    "temp = (res_kurtosis>2) | (res_kurtosis<-0.5)\n",
    "features_to_remove = temp[temp == True].dropna().index\n",
    "df_kurtosis = df_outliers.drop(features_to_remove,axis=1)\n",
    "df_kurtosis = pd.concat([df[[\"resp\", \"respPart\"]], df_kurtosis], axis=1)\n",
    "df_kurtosis.shape"
   ]
  },
  {
   "cell_type": "code",
   "execution_count": 372,
   "metadata": {},
   "outputs": [],
   "source": [
    "df_kurtosis.to_csv(\"../study/stats/datasetRadiomicsFiltered.csv\")"
   ]
  },
  {
   "cell_type": "code",
   "execution_count": 386,
   "metadata": {},
   "outputs": [
    {
     "data": {
      "text/plain": [
       "(19, 6933)"
      ]
     },
     "execution_count": 386,
     "metadata": {},
     "output_type": "execute_result"
    }
   ],
   "source": [
    "df_kurtosis = pd.read_csv(\"../study/stats/datasetRadiomicsFiltered.csv\", index_col=\"ID\")\n",
    "df_kurtosis.shape"
   ]
  },
  {
   "cell_type": "markdown",
   "metadata": {},
   "source": [
    "# Clustering by region"
   ]
  },
  {
   "cell_type": "code",
   "execution_count": 376,
   "metadata": {},
   "outputs": [],
   "source": [
    "roi_name = [\n",
    "    \"Thalamus\",\n",
    "    \"Hippocampus\",\n",
    "    \"Amygdala\",\n",
    "    \"Accumbens-area\",\n",
    "    \"Putamen\", \n",
    "    \"Pallidum\",\n",
    "    \"Caudate\",\n",
    "]\n",
    "\n",
    "tract_name = [\n",
    "    \"acomm\",\n",
    "    \"cc.bodyc\",\n",
    "    \"cc.bodyp\",\n",
    "    \"cc.bodypf\",\n",
    "    \"cc.bodypm\",\n",
    "    \"cc.bodyt\",\n",
    "    \"cc.genu\",\n",
    "    \"cc.rostrum\",\n",
    "    \"cc.splenium\",\n",
    "    \"lh.af\",\n",
    "    \"lh.ar\",\n",
    "    \"lh.atr\",\n",
    "    \"lh.cbd\",\n",
    "    \"lh.cbv\",\n",
    "    \"lh.cst\",\n",
    "    \"lh.emc\",\n",
    "    \"lh.fat\",\n",
    "    \"lh.fx\",\n",
    "    \"lh.ilf\",\n",
    "    \"lh.mlf\",\n",
    "    \"lh.or\",\n",
    "    \"lh.slf1\",\n",
    "    \"lh.slf2\",\n",
    "    \"lh.slf3\",\n",
    "    \"lh.uf\",\n",
    "    \"mcp\",\n",
    "    \"lh.af\",\n",
    "    \"rh.ar\",\n",
    "    \"rh.atr\",\n",
    "    \"rh.cbd\",\n",
    "    \"rh.cbv\",\n",
    "    \"rh.cst\",\n",
    "    \"rh.emc\",\n",
    "    \"rh.fat\",\n",
    "    \"rh.fx\",\n",
    "    \"rh.ilf\",\n",
    "    \"rh.mlf\",\n",
    "    \"rh.or\",\n",
    "    \"rh.slf1\",\n",
    "    \"rh.slf2\",\n",
    "    \"rh.slf3\",\n",
    "    \"rh.uf\",\n",
    "    \"mcp\"\n",
    "]"
   ]
  },
  {
   "cell_type": "code",
   "execution_count": 382,
   "metadata": {},
   "outputs": [],
   "source": [
    "def getDF(df, feature):\n",
    "    df.drop([\"resp\", \"respPart\"], axis=1)\n",
    "    df_filtered = df.filter(regex=feature)\n",
    "    areNaN = df_filtered.isna().any(axis=1)\n",
    "    to_remove = areNaN[areNaN == True].index\n",
    "    return df_filtered.drop(to_remove), to_remove"
   ]
  },
  {
   "cell_type": "code",
   "execution_count": 383,
   "metadata": {},
   "outputs": [],
   "source": [
    "lut = dict(zip([0, 1, 2], \"ryg\"))\n",
    "row_colors = df_kurtosis[\"respPart\"].map(lut)\n",
    "\n",
    "image_types = {\n",
    "    \"original\"      : \"blue\",\n",
    "    \"exponential\"   : \"orange\",\n",
    "    \"gradient\"      : \"green\",\n",
    "    \"lbp-2D\"        : \"red\",\n",
    "    \"lbp-3D\"        : \"purple\",\n",
    "    \"log\"           : \"brown\",\n",
    "    \"logarithm\"     : \"pink\",\n",
    "    \"square\"        : \"gray\",\n",
    "    \"squareroot\"    : \"olive\",\n",
    "    \"wavelet\"       : \"cyan\"\n",
    "}\n",
    "\n",
    "def mapping_func(v):\n",
    "    for image_type in lut.keys():\n",
    "        if image_type in v:\n",
    "            return lut[image_type]\n",
    "    return \"k\"\n",
    "\n",
    "lut = image_types\n",
    "col_colors_image = pd.DataFrame(df_kurtosis.columns.map(mapping_func)).T\n",
    "col_colors_image.columns = df_kurtosis.columns\n",
    "col_colors_image = col_colors_image\n",
    "\n",
    "metrics = {\n",
    "    \"FA\"    : \"red\",\n",
    "    \"AD\"    : \"yellow\",\n",
    "    \"RD\"    : \"yellow\",\n",
    "    \"MD\"    : \"yellow\",\n",
    "    \"icvf\"  : \"blue\",\n",
    "    \"odi\"   : \"red\",\n",
    "    \"fextra\": \"blue\",\n",
    "    \"fiso\"  : \"green\" ,\n",
    "    \"wFA\"   : \"red\",\n",
    "    \"wMD\"   : \"yellow\",\n",
    "    \"wAD\"   : \"yellow\",\n",
    "    \"wRD\"   : \"yellow\",\n",
    "    \"frac_csf\": \"green\",\n",
    "    \"wfvf\"  : \"red\",\n",
    "    \"fvf_tot\": \"red\",\n",
    "    \"frac_csf\":\"green\",\n",
    "}\n",
    "\n",
    "lut = metrics\n",
    "col_colors_metrics = pd.DataFrame(df_kurtosis.columns.map(mapping_func)).T\n",
    "col_colors_metrics.columns = df_kurtosis.columns\n",
    "col_colors_metrics = col_colors_metrics\n",
    "\n",
    "col_colors = pd.concat([col_colors_image, col_colors_metrics], axis=0, ignore_index=True)\n",
    "col_colors.index = [\"image_type\", \"model_type\"]"
   ]
  },
  {
   "cell_type": "code",
   "execution_count": 384,
   "metadata": {},
   "outputs": [],
   "source": [
    "method = \"average\"\n",
    "\n",
    "if not os.path.isdir(f\"../imgs/clustering/roi/\"):\n",
    "    os.mkdir(f\"../imgs/clustering/roi/\")\n",
    "\n",
    "if not os.path.isdir(f\"../imgs/clustering/roi/{method}/\"):\n",
    "    os.mkdir(f\"../imgs/clustering/roi/{method}/\")\n",
    "\n",
    "for mask in roi_name:\n",
    "    for side in [\"Left\", \"Right\"]:\n",
    "        # print(side, mask)\n",
    "\n",
    "        regex = f\"{side}-{mask}\"\n",
    "        df, to_remove = getDF(df_kurtosis, regex)\n",
    "        col_colors_filtered = col_colors.filter(regex=regex).T\n",
    "\n",
    "        sns.clustermap(df, row_colors=row_colors.drop(to_remove), col_colors=col_colors_filtered, z_score=1, method=method, robust=True, cbar_pos=None, xticklabels=False)\n",
    "        plt.savefig(f\"../imgs/clustering/roi/{method}/{mask}-{side}-{method}.png\")\n",
    "\n",
    "        del df\n",
    "        del col_colors_filtered\n",
    "        plt.close()\n",
    "\n",
    "for mask in tract_name:\n",
    "    # print(mask)\n",
    "\n",
    "    regex = f\"{mask}\"\n",
    "    df, to_remove = getDF(df_kurtosis, regex)\n",
    "    col_colors_filtered = col_colors.filter(regex=regex).T\n",
    "\n",
    "    sns.clustermap(df, row_colors=row_colors.drop(to_remove), col_colors=col_colors_filtered, z_score=1, method=method, robust=True, cbar_pos=None, xticklabels=False)\n",
    "    mask_fields = mask.split(\".\")\n",
    "    if len(mask_fields) == 1:\n",
    "        plt.savefig(f\"../imgs/clustering/roi/{method}/{mask}-{method}.png\")\n",
    "    else:\n",
    "        plt.savefig(f\"../imgs/clustering/roi/{method}/{mask_fields[1]}-{mask_fields[0]}-{method}.png\")\n",
    "\n",
    "    del df\n",
    "    del col_colors_filtered\n",
    "    plt.close()"
   ]
  },
  {
   "cell_type": "code",
   "execution_count": 385,
   "metadata": {},
   "outputs": [
    {
     "name": "stderr",
     "output_type": "stream",
     "text": [
      "/home/michele/anaconda3/envs/pyRadiomics/lib/python3.9/site-packages/seaborn/matrix.py:615: UserWarning: Attempting to set identical left == right == 0 results in singular transformations; automatically expanding.\n",
      "  ax.set_xlim(0, max_dependent_coord * 1.05)\n"
     ]
    },
    {
     "ename": "ValueError",
     "evalue": "negative dimensions are not allowed",
     "output_type": "error",
     "traceback": [
      "\u001b[0;31m---------------------------------------------------------------------------\u001b[0m",
      "\u001b[0;31mValueError\u001b[0m                                Traceback (most recent call last)",
      "\u001b[1;32m/home/michele/Dropbox (Politecnico Di Torino Studenti)/thesis/code/Epilepsy-dMRI-VNS/src/analysisRadiomics.ipynb Cell 27\u001b[0m line \u001b[0;36m1\n\u001b[1;32m     <a href='vscode-notebook-cell:/home/michele/Dropbox%20%28Politecnico%20Di%20Torino%20Studenti%29/thesis/code/Epilepsy-dMRI-VNS/src/analysisRadiomics.ipynb#X43sZmlsZQ%3D%3D?line=11'>12</a>\u001b[0m df, to_remove \u001b[39m=\u001b[39m getDF(df_kurtosis, regex)\n\u001b[1;32m     <a href='vscode-notebook-cell:/home/michele/Dropbox%20%28Politecnico%20Di%20Torino%20Studenti%29/thesis/code/Epilepsy-dMRI-VNS/src/analysisRadiomics.ipynb#X43sZmlsZQ%3D%3D?line=12'>13</a>\u001b[0m col_colors_filtered \u001b[39m=\u001b[39m col_colors\u001b[39m.\u001b[39mfilter(regex\u001b[39m=\u001b[39mregex)\u001b[39m.\u001b[39mT\n\u001b[0;32m---> <a href='vscode-notebook-cell:/home/michele/Dropbox%20%28Politecnico%20Di%20Torino%20Studenti%29/thesis/code/Epilepsy-dMRI-VNS/src/analysisRadiomics.ipynb#X43sZmlsZQ%3D%3D?line=14'>15</a>\u001b[0m sns\u001b[39m.\u001b[39;49mclustermap(df, row_colors\u001b[39m=\u001b[39;49mrow_colors\u001b[39m.\u001b[39;49mdrop(to_remove), col_colors\u001b[39m=\u001b[39;49mcol_colors_filtered, z_score\u001b[39m=\u001b[39;49m\u001b[39m1\u001b[39;49m, method\u001b[39m=\u001b[39;49mmethod, robust\u001b[39m=\u001b[39;49m\u001b[39mTrue\u001b[39;49;00m, cbar_pos\u001b[39m=\u001b[39;49m\u001b[39mNone\u001b[39;49;00m, xticklabels\u001b[39m=\u001b[39;49m\u001b[39mFalse\u001b[39;49;00m)\n\u001b[1;32m     <a href='vscode-notebook-cell:/home/michele/Dropbox%20%28Politecnico%20Di%20Torino%20Studenti%29/thesis/code/Epilepsy-dMRI-VNS/src/analysisRadiomics.ipynb#X43sZmlsZQ%3D%3D?line=16'>17</a>\u001b[0m plt\u001b[39m.\u001b[39msavefig(\u001b[39mf\u001b[39m\u001b[39m\"\u001b[39m\u001b[39m../imgs/clustering/metrics/\u001b[39m\u001b[39m{\u001b[39;00mmethod\u001b[39m}\u001b[39;00m\u001b[39m/\u001b[39m\u001b[39m{\u001b[39;00mmetric\u001b[39m}\u001b[39;00m\u001b[39m_\u001b[39m\u001b[39m{\u001b[39;00mimage_type\u001b[39m}\u001b[39;00m\u001b[39m.png\u001b[39m\u001b[39m\"\u001b[39m)\n\u001b[1;32m     <a href='vscode-notebook-cell:/home/michele/Dropbox%20%28Politecnico%20Di%20Torino%20Studenti%29/thesis/code/Epilepsy-dMRI-VNS/src/analysisRadiomics.ipynb#X43sZmlsZQ%3D%3D?line=18'>19</a>\u001b[0m \u001b[39mdel\u001b[39;00m df\n",
      "File \u001b[0;32m~/anaconda3/envs/pyRadiomics/lib/python3.9/site-packages/seaborn/matrix.py:1258\u001b[0m, in \u001b[0;36mclustermap\u001b[0;34m(data, pivot_kws, method, metric, z_score, standard_scale, figsize, cbar_kws, row_cluster, col_cluster, row_linkage, col_linkage, row_colors, col_colors, mask, dendrogram_ratio, colors_ratio, cbar_pos, tree_kws, **kwargs)\u001b[0m\n\u001b[1;32m   1250\u001b[0m     \u001b[39mraise\u001b[39;00m \u001b[39mRuntimeError\u001b[39;00m(\u001b[39m\"\u001b[39m\u001b[39mclustermap requires scipy to be available\u001b[39m\u001b[39m\"\u001b[39m)\n\u001b[1;32m   1252\u001b[0m plotter \u001b[39m=\u001b[39m ClusterGrid(data, pivot_kws\u001b[39m=\u001b[39mpivot_kws, figsize\u001b[39m=\u001b[39mfigsize,\n\u001b[1;32m   1253\u001b[0m                       row_colors\u001b[39m=\u001b[39mrow_colors, col_colors\u001b[39m=\u001b[39mcol_colors,\n\u001b[1;32m   1254\u001b[0m                       z_score\u001b[39m=\u001b[39mz_score, standard_scale\u001b[39m=\u001b[39mstandard_scale,\n\u001b[1;32m   1255\u001b[0m                       mask\u001b[39m=\u001b[39mmask, dendrogram_ratio\u001b[39m=\u001b[39mdendrogram_ratio,\n\u001b[1;32m   1256\u001b[0m                       colors_ratio\u001b[39m=\u001b[39mcolors_ratio, cbar_pos\u001b[39m=\u001b[39mcbar_pos)\n\u001b[0;32m-> 1258\u001b[0m \u001b[39mreturn\u001b[39;00m plotter\u001b[39m.\u001b[39;49mplot(metric\u001b[39m=\u001b[39;49mmetric, method\u001b[39m=\u001b[39;49mmethod,\n\u001b[1;32m   1259\u001b[0m                     colorbar_kws\u001b[39m=\u001b[39;49mcbar_kws,\n\u001b[1;32m   1260\u001b[0m                     row_cluster\u001b[39m=\u001b[39;49mrow_cluster, col_cluster\u001b[39m=\u001b[39;49mcol_cluster,\n\u001b[1;32m   1261\u001b[0m                     row_linkage\u001b[39m=\u001b[39;49mrow_linkage, col_linkage\u001b[39m=\u001b[39;49mcol_linkage,\n\u001b[1;32m   1262\u001b[0m                     tree_kws\u001b[39m=\u001b[39;49mtree_kws, \u001b[39m*\u001b[39;49m\u001b[39m*\u001b[39;49mkwargs)\n",
      "File \u001b[0;32m~/anaconda3/envs/pyRadiomics/lib/python3.9/site-packages/seaborn/matrix.py:1129\u001b[0m, in \u001b[0;36mClusterGrid.plot\u001b[0;34m(self, metric, method, colorbar_kws, row_cluster, col_cluster, row_linkage, col_linkage, tree_kws, **kws)\u001b[0m\n\u001b[1;32m   1125\u001b[0m     kws\u001b[39m.\u001b[39mpop(\u001b[39m\"\u001b[39m\u001b[39msquare\u001b[39m\u001b[39m\"\u001b[39m)\n\u001b[1;32m   1127\u001b[0m colorbar_kws \u001b[39m=\u001b[39m {} \u001b[39mif\u001b[39;00m colorbar_kws \u001b[39mis\u001b[39;00m \u001b[39mNone\u001b[39;00m \u001b[39melse\u001b[39;00m colorbar_kws\n\u001b[0;32m-> 1129\u001b[0m \u001b[39mself\u001b[39;49m\u001b[39m.\u001b[39;49mplot_dendrograms(row_cluster, col_cluster, metric, method,\n\u001b[1;32m   1130\u001b[0m                       row_linkage\u001b[39m=\u001b[39;49mrow_linkage, col_linkage\u001b[39m=\u001b[39;49mcol_linkage,\n\u001b[1;32m   1131\u001b[0m                       tree_kws\u001b[39m=\u001b[39;49mtree_kws)\n\u001b[1;32m   1132\u001b[0m \u001b[39mtry\u001b[39;00m:\n\u001b[1;32m   1133\u001b[0m     xind \u001b[39m=\u001b[39m \u001b[39mself\u001b[39m\u001b[39m.\u001b[39mdendrogram_col\u001b[39m.\u001b[39mreordered_ind\n",
      "File \u001b[0;32m~/anaconda3/envs/pyRadiomics/lib/python3.9/site-packages/seaborn/matrix.py:984\u001b[0m, in \u001b[0;36mClusterGrid.plot_dendrograms\u001b[0;34m(self, row_cluster, col_cluster, metric, method, row_linkage, col_linkage, tree_kws)\u001b[0m\n\u001b[1;32m    982\u001b[0m \u001b[39m# PLot the column dendrogram\u001b[39;00m\n\u001b[1;32m    983\u001b[0m \u001b[39mif\u001b[39;00m col_cluster:\n\u001b[0;32m--> 984\u001b[0m     \u001b[39mself\u001b[39m\u001b[39m.\u001b[39mdendrogram_col \u001b[39m=\u001b[39m dendrogram(\n\u001b[1;32m    985\u001b[0m         \u001b[39mself\u001b[39;49m\u001b[39m.\u001b[39;49mdata2d, metric\u001b[39m=\u001b[39;49mmetric, method\u001b[39m=\u001b[39;49mmethod, label\u001b[39m=\u001b[39;49m\u001b[39mFalse\u001b[39;49;00m,\n\u001b[1;32m    986\u001b[0m         axis\u001b[39m=\u001b[39;49m\u001b[39m1\u001b[39;49m, ax\u001b[39m=\u001b[39;49m\u001b[39mself\u001b[39;49m\u001b[39m.\u001b[39;49max_col_dendrogram, linkage\u001b[39m=\u001b[39;49mcol_linkage,\n\u001b[1;32m    987\u001b[0m         tree_kws\u001b[39m=\u001b[39;49mtree_kws\n\u001b[1;32m    988\u001b[0m     )\n\u001b[1;32m    989\u001b[0m \u001b[39melse\u001b[39;00m:\n\u001b[1;32m    990\u001b[0m     \u001b[39mself\u001b[39m\u001b[39m.\u001b[39max_col_dendrogram\u001b[39m.\u001b[39mset_xticks([])\n",
      "File \u001b[0;32m~/anaconda3/envs/pyRadiomics/lib/python3.9/site-packages/seaborn/matrix.py:687\u001b[0m, in \u001b[0;36mdendrogram\u001b[0;34m(data, linkage, axis, label, metric, method, rotate, tree_kws, ax)\u001b[0m\n\u001b[1;32m    684\u001b[0m \u001b[39mif\u001b[39;00m _no_scipy:\n\u001b[1;32m    685\u001b[0m     \u001b[39mraise\u001b[39;00m \u001b[39mRuntimeError\u001b[39;00m(\u001b[39m\"\u001b[39m\u001b[39mdendrogram requires scipy to be installed\u001b[39m\u001b[39m\"\u001b[39m)\n\u001b[0;32m--> 687\u001b[0m plotter \u001b[39m=\u001b[39m _DendrogramPlotter(data, linkage\u001b[39m=\u001b[39;49mlinkage, axis\u001b[39m=\u001b[39;49maxis,\n\u001b[1;32m    688\u001b[0m                              metric\u001b[39m=\u001b[39;49mmetric, method\u001b[39m=\u001b[39;49mmethod,\n\u001b[1;32m    689\u001b[0m                              label\u001b[39m=\u001b[39;49mlabel, rotate\u001b[39m=\u001b[39;49mrotate)\n\u001b[1;32m    690\u001b[0m \u001b[39mif\u001b[39;00m ax \u001b[39mis\u001b[39;00m \u001b[39mNone\u001b[39;00m:\n\u001b[1;32m    691\u001b[0m     ax \u001b[39m=\u001b[39m plt\u001b[39m.\u001b[39mgca()\n",
      "File \u001b[0;32m~/anaconda3/envs/pyRadiomics/lib/python3.9/site-packages/seaborn/matrix.py:495\u001b[0m, in \u001b[0;36m_DendrogramPlotter.__init__\u001b[0;34m(self, data, linkage, metric, method, axis, label, rotate)\u001b[0m\n\u001b[1;32m    492\u001b[0m \u001b[39mself\u001b[39m\u001b[39m.\u001b[39mrotate \u001b[39m=\u001b[39m rotate\n\u001b[1;32m    494\u001b[0m \u001b[39mif\u001b[39;00m linkage \u001b[39mis\u001b[39;00m \u001b[39mNone\u001b[39;00m:\n\u001b[0;32m--> 495\u001b[0m     \u001b[39mself\u001b[39m\u001b[39m.\u001b[39mlinkage \u001b[39m=\u001b[39m \u001b[39mself\u001b[39;49m\u001b[39m.\u001b[39;49mcalculated_linkage\n\u001b[1;32m    496\u001b[0m \u001b[39melse\u001b[39;00m:\n\u001b[1;32m    497\u001b[0m     \u001b[39mself\u001b[39m\u001b[39m.\u001b[39mlinkage \u001b[39m=\u001b[39m linkage\n",
      "File \u001b[0;32m~/anaconda3/envs/pyRadiomics/lib/python3.9/site-packages/seaborn/matrix.py:555\u001b[0m, in \u001b[0;36m_DendrogramPlotter.calculated_linkage\u001b[0;34m(self)\u001b[0m\n\u001b[1;32m    551\u001b[0m \u001b[39m@property\u001b[39m\n\u001b[1;32m    552\u001b[0m \u001b[39mdef\u001b[39;00m \u001b[39mcalculated_linkage\u001b[39m(\u001b[39mself\u001b[39m):\n\u001b[1;32m    554\u001b[0m     \u001b[39mtry\u001b[39;00m:\n\u001b[0;32m--> 555\u001b[0m         \u001b[39mreturn\u001b[39;00m \u001b[39mself\u001b[39;49m\u001b[39m.\u001b[39;49m_calculate_linkage_fastcluster()\n\u001b[1;32m    556\u001b[0m     \u001b[39mexcept\u001b[39;00m \u001b[39mImportError\u001b[39;00m:\n\u001b[1;32m    557\u001b[0m         \u001b[39mif\u001b[39;00m np\u001b[39m.\u001b[39mproduct(\u001b[39mself\u001b[39m\u001b[39m.\u001b[39mshape) \u001b[39m>\u001b[39m\u001b[39m=\u001b[39m \u001b[39m10000\u001b[39m:\n",
      "File \u001b[0;32m~/anaconda3/envs/pyRadiomics/lib/python3.9/site-packages/seaborn/matrix.py:547\u001b[0m, in \u001b[0;36m_DendrogramPlotter._calculate_linkage_fastcluster\u001b[0;34m(self)\u001b[0m\n\u001b[1;32m    543\u001b[0m     \u001b[39mreturn\u001b[39;00m fastcluster\u001b[39m.\u001b[39mlinkage_vector(\u001b[39mself\u001b[39m\u001b[39m.\u001b[39marray,\n\u001b[1;32m    544\u001b[0m                                       method\u001b[39m=\u001b[39m\u001b[39mself\u001b[39m\u001b[39m.\u001b[39mmethod,\n\u001b[1;32m    545\u001b[0m                                       metric\u001b[39m=\u001b[39m\u001b[39mself\u001b[39m\u001b[39m.\u001b[39mmetric)\n\u001b[1;32m    546\u001b[0m \u001b[39melse\u001b[39;00m:\n\u001b[0;32m--> 547\u001b[0m     linkage \u001b[39m=\u001b[39m fastcluster\u001b[39m.\u001b[39;49mlinkage(\u001b[39mself\u001b[39;49m\u001b[39m.\u001b[39;49marray, method\u001b[39m=\u001b[39;49m\u001b[39mself\u001b[39;49m\u001b[39m.\u001b[39;49mmethod,\n\u001b[1;32m    548\u001b[0m                                   metric\u001b[39m=\u001b[39;49m\u001b[39mself\u001b[39;49m\u001b[39m.\u001b[39;49mmetric)\n\u001b[1;32m    549\u001b[0m     \u001b[39mreturn\u001b[39;00m linkage\n",
      "File \u001b[0;32m~/anaconda3/envs/pyRadiomics/lib/python3.9/site-packages/fastcluster.py:245\u001b[0m, in \u001b[0;36mlinkage\u001b[0;34m(X, method, metric, preserve_input)\u001b[0m\n\u001b[1;32m    243\u001b[0m     X \u001b[39m=\u001b[39m pdist(X, metric\u001b[39m=\u001b[39mmetric)\n\u001b[1;32m    244\u001b[0m     X \u001b[39m=\u001b[39m array(X, dtype\u001b[39m=\u001b[39mdouble, copy\u001b[39m=\u001b[39m\u001b[39mFalse\u001b[39;00m, order\u001b[39m=\u001b[39m\u001b[39m'\u001b[39m\u001b[39mC\u001b[39m\u001b[39m'\u001b[39m, subok\u001b[39m=\u001b[39m\u001b[39mTrue\u001b[39;00m)\n\u001b[0;32m--> 245\u001b[0m Z \u001b[39m=\u001b[39m empty((N\u001b[39m-\u001b[39;49m\u001b[39m1\u001b[39;49m,\u001b[39m4\u001b[39;49m))\n\u001b[1;32m    246\u001b[0m \u001b[39mif\u001b[39;00m N \u001b[39m>\u001b[39m \u001b[39m1\u001b[39m:\n\u001b[1;32m    247\u001b[0m     linkage_wrap(N, X, Z, mthidx[method])\n",
      "\u001b[0;31mValueError\u001b[0m: negative dimensions are not allowed"
     ]
    },
    {
     "data": {
      "image/png": "[encoded data removed]",
      "text/plain": [
       "<Figure size 1000x1000 with 5 Axes>"
      ]
     },
     "metadata": {},
     "output_type": "display_data"
    }
   ],
   "source": [
    "method = \"average\"\n",
    "\n",
    "if not os.path.isdir(f\"../imgs/clustering/metrics/\"):\n",
    "    os.mkdir(f\"../imgs/clustering/metrics/\")\n",
    "\n",
    "if not os.path.isdir(f\"../imgs/clustering/metrics/{method}/\"):\n",
    "    os.mkdir(f\"../imgs/clustering/metrics/{method}/\")\n",
    "\n",
    "for metric in metrics.keys():\n",
    "    for image_type in image_types.keys():\n",
    "        regex = f\"{metric}_{image_type}\"\n",
    "        df, to_remove = getDF(df_kurtosis, regex)\n",
    "        col_colors_filtered = col_colors.filter(regex=regex).T\n",
    "\n",
    "        sns.clustermap(df, row_colors=row_colors.drop(to_remove), col_colors=col_colors_filtered, z_score=1, method=method, robust=True, cbar_pos=None, xticklabels=False)\n",
    "\n",
    "        plt.savefig(f\"../imgs/clustering/metrics/{method}/{metric}_{image_type}.png\")\n",
    "        \n",
    "        del df\n",
    "        del col_colors_filtered\n",
    "        plt.close()"
   ]
  }
 ],
 "metadata": {
  "kernelspec": {
   "display_name": "dMRI",
   "language": "python",
   "name": "python3"
  },
  "language_info": {
   "codemirror_mode": {
    "name": "ipython",
    "version": 3
   },
   "file_extension": ".py",
   "mimetype": "text/x-python",
   "name": "python",
   "nbconvert_exporter": "python",
   "pygments_lexer": "ipython3",
   "version": "3.9.18"
  },
  "orig_nbformat": 4
 },
 "nbformat": 4,
 "nbformat_minor": 2
}
